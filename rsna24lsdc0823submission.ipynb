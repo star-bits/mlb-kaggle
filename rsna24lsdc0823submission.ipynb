{
 "cells": [
  {
   "cell_type": "code",
   "execution_count": 1,
   "id": "6fcc7346",
   "metadata": {
    "execution": {
     "iopub.execute_input": "2024-08-24T02:54:06.614301Z",
     "iopub.status.busy": "2024-08-24T02:54:06.613963Z",
     "iopub.status.idle": "2024-08-24T02:54:40.322736Z",
     "shell.execute_reply": "2024-08-24T02:54:40.321567Z"
    },
    "papermill": {
     "duration": 33.719239,
     "end_time": "2024-08-24T02:54:40.325060",
     "exception": false,
     "start_time": "2024-08-24T02:54:06.605821",
     "status": "completed"
    },
    "tags": []
   },
   "outputs": [],
   "source": [
    "!pip install -q timm pydicom"
   ]
  },
  {
   "cell_type": "code",
   "execution_count": 2,
   "id": "183c47c5",
   "metadata": {
    "_cell_guid": "b1076dfc-b9ad-4769-8c92-a6c4dae69d19",
    "_uuid": "8f2839f25d086af736a60e9eeb907d3b93b6e0e5",
    "execution": {
     "iopub.execute_input": "2024-08-24T02:54:40.340097Z",
     "iopub.status.busy": "2024-08-24T02:54:40.339563Z",
     "iopub.status.idle": "2024-08-24T02:54:50.320500Z",
     "shell.execute_reply": "2024-08-24T02:54:50.319529Z"
    },
    "papermill": {
     "duration": 9.991814,
     "end_time": "2024-08-24T02:54:50.323539",
     "exception": false,
     "start_time": "2024-08-24T02:54:40.331725",
     "status": "completed"
    },
    "tags": []
   },
   "outputs": [],
   "source": [
    "import os\n",
    "import gc\n",
    "import sys\n",
    "from PIL import Image\n",
    "import cv2\n",
    "import math, random\n",
    "import numpy as np\n",
    "import pandas as pd\n",
    "from glob import glob\n",
    "from tqdm import tqdm\n",
    "import matplotlib.pyplot as plt\n",
    "from sklearn.model_selection import KFold\n",
    "\n",
    "from collections import OrderedDict\n",
    "\n",
    "import torch\n",
    "import torch.nn.functional as F\n",
    "from torch import nn\n",
    "from torch.utils.data import DataLoader, Dataset\n",
    "from torch.optim import AdamW\n",
    "\n",
    "import timm\n",
    "from timm.utils import ModelEmaV2\n",
    "from transformers import get_cosine_schedule_with_warmup\n",
    "\n",
    "import albumentations as A\n",
    "\n",
    "from sklearn.model_selection import KFold\n",
    "\n",
    "import re\n",
    "import pydicom"
   ]
  },
  {
   "cell_type": "code",
   "execution_count": 3,
   "id": "d3179c9a",
   "metadata": {
    "execution": {
     "iopub.execute_input": "2024-08-24T02:54:50.341102Z",
     "iopub.status.busy": "2024-08-24T02:54:50.340615Z",
     "iopub.status.idle": "2024-08-24T02:54:50.345296Z",
     "shell.execute_reply": "2024-08-24T02:54:50.344433Z"
    },
    "papermill": {
     "duration": 0.014281,
     "end_time": "2024-08-24T02:54:50.347169",
     "exception": false,
     "start_time": "2024-08-24T02:54:50.332888",
     "status": "completed"
    },
    "tags": []
   },
   "outputs": [],
   "source": [
    "INPUT_PATH  = '/kaggle/input/rsna-2024-lumbar-spine-degenerative-classification'\n",
    "\n",
    "OUTPUT_PATH = '/kaggle/working'\n",
    "\n",
    "# Add Input -> Your Work + Notebook -> rsna24lsdc0823train (Version 1)\n",
    "MODEL_PATH = '/kaggle/input/rsna24lsdc-0816-train/rsna-2024-lsdc-trained-models'"
   ]
  },
  {
   "cell_type": "code",
   "execution_count": 4,
   "id": "2cba6d6b",
   "metadata": {
    "execution": {
     "iopub.execute_input": "2024-08-24T02:54:50.361160Z",
     "iopub.status.busy": "2024-08-24T02:54:50.360559Z",
     "iopub.status.idle": "2024-08-24T02:54:50.462184Z",
     "shell.execute_reply": "2024-08-24T02:54:50.461322Z"
    },
    "papermill": {
     "duration": 0.110558,
     "end_time": "2024-08-24T02:54:50.464016",
     "exception": false,
     "start_time": "2024-08-24T02:54:50.353458",
     "status": "completed"
    },
    "tags": []
   },
   "outputs": [],
   "source": [
    "device = 'cuda:0' if torch.cuda.is_available() else 'cpu'\n",
    "N_WORKERS = os.cpu_count()\n",
    "USE_AMP = True\n",
    "SEED = 8620\n",
    "\n",
    "IMG_SIZE = [512, 512]\n",
    "IN_CHANS = 40\n",
    "N_LABELS = 25\n",
    "N_CLASSES = 3 * N_LABELS\n",
    "\n",
    "N_FOLDS = 5\n",
    "\n",
    "MODEL_NAME = \"edgenext_base.in21k_ft_in1k\"\n",
    "\n",
    "BATCH_SIZE = 1"
   ]
  },
  {
   "cell_type": "code",
   "execution_count": 5,
   "id": "522ccba1",
   "metadata": {
    "execution": {
     "iopub.execute_input": "2024-08-24T02:54:50.477825Z",
     "iopub.status.busy": "2024-08-24T02:54:50.477540Z",
     "iopub.status.idle": "2024-08-24T02:54:50.484399Z",
     "shell.execute_reply": "2024-08-24T02:54:50.483632Z"
    },
    "papermill": {
     "duration": 0.015801,
     "end_time": "2024-08-24T02:54:50.486238",
     "exception": false,
     "start_time": "2024-08-24T02:54:50.470437",
     "status": "completed"
    },
    "tags": []
   },
   "outputs": [
    {
     "data": {
      "text/plain": [
       "device(type='cuda', index=0)"
      ]
     },
     "execution_count": 5,
     "metadata": {},
     "output_type": "execute_result"
    }
   ],
   "source": [
    "device = torch.device('cuda:0') if torch.cuda.is_available() else torch.device('cpu')\n",
    "device"
   ]
  },
  {
   "cell_type": "code",
   "execution_count": 6,
   "id": "e53c5ec3",
   "metadata": {
    "execution": {
     "iopub.execute_input": "2024-08-24T02:54:50.499902Z",
     "iopub.status.busy": "2024-08-24T02:54:50.499631Z",
     "iopub.status.idle": "2024-08-24T02:54:50.524409Z",
     "shell.execute_reply": "2024-08-24T02:54:50.523564Z"
    },
    "papermill": {
     "duration": 0.033633,
     "end_time": "2024-08-24T02:54:50.526253",
     "exception": false,
     "start_time": "2024-08-24T02:54:50.492620",
     "status": "completed"
    },
    "tags": []
   },
   "outputs": [
    {
     "data": {
      "text/html": [
       "<div>\n",
       "<style scoped>\n",
       "    .dataframe tbody tr th:only-of-type {\n",
       "        vertical-align: middle;\n",
       "    }\n",
       "\n",
       "    .dataframe tbody tr th {\n",
       "        vertical-align: top;\n",
       "    }\n",
       "\n",
       "    .dataframe thead th {\n",
       "        text-align: right;\n",
       "    }\n",
       "</style>\n",
       "<table border=\"1\" class=\"dataframe\">\n",
       "  <thead>\n",
       "    <tr style=\"text-align: right;\">\n",
       "      <th></th>\n",
       "      <th>study_id</th>\n",
       "      <th>series_id</th>\n",
       "      <th>series_description</th>\n",
       "    </tr>\n",
       "  </thead>\n",
       "  <tbody>\n",
       "    <tr>\n",
       "      <th>0</th>\n",
       "      <td>44036939</td>\n",
       "      <td>2828203845</td>\n",
       "      <td>Sagittal T1</td>\n",
       "    </tr>\n",
       "    <tr>\n",
       "      <th>1</th>\n",
       "      <td>44036939</td>\n",
       "      <td>3481971518</td>\n",
       "      <td>Axial T2</td>\n",
       "    </tr>\n",
       "    <tr>\n",
       "      <th>2</th>\n",
       "      <td>44036939</td>\n",
       "      <td>3844393089</td>\n",
       "      <td>Sagittal T2/STIR</td>\n",
       "    </tr>\n",
       "  </tbody>\n",
       "</table>\n",
       "</div>"
      ],
      "text/plain": [
       "   study_id   series_id series_description\n",
       "0  44036939  2828203845        Sagittal T1\n",
       "1  44036939  3481971518           Axial T2\n",
       "2  44036939  3844393089   Sagittal T2/STIR"
      ]
     },
     "execution_count": 6,
     "metadata": {},
     "output_type": "execute_result"
    }
   ],
   "source": [
    "df = pd.read_csv(f'{INPUT_PATH}/test_series_descriptions.csv')\n",
    "df.head()"
   ]
  },
  {
   "cell_type": "code",
   "execution_count": 7,
   "id": "805f0a96",
   "metadata": {
    "execution": {
     "iopub.execute_input": "2024-08-24T02:54:50.540300Z",
     "iopub.status.busy": "2024-08-24T02:54:50.540064Z",
     "iopub.status.idle": "2024-08-24T02:54:50.546249Z",
     "shell.execute_reply": "2024-08-24T02:54:50.545456Z"
    },
    "papermill": {
     "duration": 0.015272,
     "end_time": "2024-08-24T02:54:50.548148",
     "exception": false,
     "start_time": "2024-08-24T02:54:50.532876",
     "status": "completed"
    },
    "tags": []
   },
   "outputs": [],
   "source": [
    "study_ids = list(df['study_id'].unique())"
   ]
  },
  {
   "cell_type": "code",
   "execution_count": 8,
   "id": "93038090",
   "metadata": {
    "execution": {
     "iopub.execute_input": "2024-08-24T02:54:50.562092Z",
     "iopub.status.busy": "2024-08-24T02:54:50.561842Z",
     "iopub.status.idle": "2024-08-24T02:54:50.568719Z",
     "shell.execute_reply": "2024-08-24T02:54:50.568011Z"
    },
    "papermill": {
     "duration": 0.016137,
     "end_time": "2024-08-24T02:54:50.570753",
     "exception": false,
     "start_time": "2024-08-24T02:54:50.554616",
     "status": "completed"
    },
    "tags": []
   },
   "outputs": [],
   "source": [
    "sample_sub = pd.read_csv(f'{INPUT_PATH}/sample_submission.csv')"
   ]
  },
  {
   "cell_type": "code",
   "execution_count": 9,
   "id": "951abb6e",
   "metadata": {
    "execution": {
     "iopub.execute_input": "2024-08-24T02:54:50.585796Z",
     "iopub.status.busy": "2024-08-24T02:54:50.585530Z",
     "iopub.status.idle": "2024-08-24T02:54:50.591038Z",
     "shell.execute_reply": "2024-08-24T02:54:50.590155Z"
    },
    "papermill": {
     "duration": 0.015585,
     "end_time": "2024-08-24T02:54:50.593200",
     "exception": false,
     "start_time": "2024-08-24T02:54:50.577615",
     "status": "completed"
    },
    "tags": []
   },
   "outputs": [
    {
     "data": {
      "text/plain": [
       "['normal_mild', 'moderate', 'severe']"
      ]
     },
     "execution_count": 9,
     "metadata": {},
     "output_type": "execute_result"
    }
   ],
   "source": [
    "LABELS = list(sample_sub.columns[1:])\n",
    "LABELS"
   ]
  },
  {
   "cell_type": "code",
   "execution_count": 10,
   "id": "5076ec2b",
   "metadata": {
    "execution": {
     "iopub.execute_input": "2024-08-24T02:54:50.608612Z",
     "iopub.status.busy": "2024-08-24T02:54:50.608073Z",
     "iopub.status.idle": "2024-08-24T02:54:50.612326Z",
     "shell.execute_reply": "2024-08-24T02:54:50.611484Z"
    },
    "papermill": {
     "duration": 0.013873,
     "end_time": "2024-08-24T02:54:50.614184",
     "exception": false,
     "start_time": "2024-08-24T02:54:50.600311",
     "status": "completed"
    },
    "tags": []
   },
   "outputs": [],
   "source": [
    "CONDITIONS = [\n",
    "    'spinal_canal_stenosis', \n",
    "    'left_neural_foraminal_narrowing', \n",
    "    'right_neural_foraminal_narrowing',\n",
    "    'left_subarticular_stenosis',\n",
    "    'right_subarticular_stenosis'\n",
    "]\n",
    "\n",
    "LEVELS = [\n",
    "    'l1_l2',\n",
    "    'l2_l3',\n",
    "    'l3_l4',\n",
    "    'l4_l5',\n",
    "    'l5_s1',\n",
    "]"
   ]
  },
  {
   "cell_type": "code",
   "execution_count": 11,
   "id": "f4e33180",
   "metadata": {
    "execution": {
     "iopub.execute_input": "2024-08-24T02:54:50.629306Z",
     "iopub.status.busy": "2024-08-24T02:54:50.628803Z",
     "iopub.status.idle": "2024-08-24T02:54:50.633228Z",
     "shell.execute_reply": "2024-08-24T02:54:50.632436Z"
    },
    "papermill": {
     "duration": 0.014226,
     "end_time": "2024-08-24T02:54:50.634979",
     "exception": false,
     "start_time": "2024-08-24T02:54:50.620753",
     "status": "completed"
    },
    "tags": []
   },
   "outputs": [],
   "source": [
    "def atoi(text):\n",
    "    return int(text) if text.isdigit() else text\n",
    "\n",
    "def natural_keys(text):\n",
    "    return [ atoi(c) for c in re.split(r'(\\d+)', text) ]"
   ]
  },
  {
   "cell_type": "code",
   "execution_count": 12,
   "id": "c0bdd905",
   "metadata": {
    "execution": {
     "iopub.execute_input": "2024-08-24T02:54:50.649240Z",
     "iopub.status.busy": "2024-08-24T02:54:50.649004Z",
     "iopub.status.idle": "2024-08-24T02:54:50.667417Z",
     "shell.execute_reply": "2024-08-24T02:54:50.666576Z"
    },
    "papermill": {
     "duration": 0.027724,
     "end_time": "2024-08-24T02:54:50.669180",
     "exception": false,
     "start_time": "2024-08-24T02:54:50.641456",
     "status": "completed"
    },
    "tags": []
   },
   "outputs": [],
   "source": [
    "import numpy as np\n",
    "import cv2\n",
    "import pydicom\n",
    "import glob\n",
    "from torch.utils.data import Dataset\n",
    "\n",
    "class RSNA24TestDataset(Dataset):\n",
    "    def __init__(self, df, study_ids, phase='test', transform=None):\n",
    "        self.df = df\n",
    "        self.study_ids = study_ids\n",
    "        self.transform = transform\n",
    "        self.phase = phase\n",
    "    \n",
    "    def __len__(self):\n",
    "        return len(self.study_ids)\n",
    "    \n",
    "    def get_img_paths(self, study_id, series_desc):\n",
    "        pdf = self.df[(self.df['study_id']==study_id) & (self.df['series_description']==series_desc)]\n",
    "        \n",
    "        # Find the series with the most images by actually counting files\n",
    "        max_images = 0\n",
    "        series_with_most_images = None\n",
    "        for _, row in pdf.iterrows():\n",
    "            series_path = f'{INPUT_PATH}/test_images/{study_id}/{row[\"series_id\"]}'\n",
    "            image_count = len([f for f in os.listdir(series_path) if f.endswith('.dcm')])\n",
    "            if image_count > max_images:\n",
    "                max_images = image_count\n",
    "                series_with_most_images = row[\"series_id\"]\n",
    "        \n",
    "        if series_with_most_images is None:\n",
    "            return []\n",
    "        \n",
    "        allimgs = glob.glob(f'{INPUT_PATH}/test_images/{study_id}/{series_with_most_images}/*.dcm')\n",
    "        return sorted(allimgs, key=natural_keys)\n",
    "    \n",
    "    def read_dcm_ret_arr(self, src_path):\n",
    "        dicom_data = pydicom.dcmread(src_path)\n",
    "        image = dicom_data.pixel_array\n",
    "        image = (image - image.min()) / (image.max() - image.min() + 1e-6) * 255\n",
    "        img = cv2.resize(image, (IMG_SIZE[0], IMG_SIZE[1]), interpolation=cv2.INTER_CUBIC)\n",
    "        assert img.shape == (IMG_SIZE[0], IMG_SIZE[1])\n",
    "        return img\n",
    "    \n",
    "    def select_images(self, allimgs, num_images, image_type):\n",
    "        if len(allimgs) < num_images:\n",
    "            print(f\"Warning: Only {len(allimgs)} images available for {image_type}. Duplicating images to reach {num_images}.\")\n",
    "            # Duplicate images\n",
    "            duplicated = []\n",
    "            for i in range(num_images):\n",
    "                duplicated.append(allimgs[i % len(allimgs)])\n",
    "            return duplicated\n",
    "        elif len(allimgs) == num_images:\n",
    "            return allimgs\n",
    "        else:\n",
    "            if num_images == 10:  # For Sagittal T1 and Sagittal T2/STIR\n",
    "                start = max(0, len(allimgs) // 2 - 5)\n",
    "                return allimgs[start:start+10]\n",
    "            elif num_images == 20:  # For Axial T2\n",
    "                indices = np.linspace(0, len(allimgs) - 1, num_images, dtype=int)\n",
    "                return [allimgs[i] for i in indices]\n",
    "    \n",
    "    def __getitem__(self, idx):\n",
    "        x = np.zeros((IMG_SIZE[0], IMG_SIZE[1], IN_CHANS), dtype=np.uint8)\n",
    "        st_id = self.study_ids[idx]\n",
    "        \n",
    "        image_types = [('Sagittal T1', 10), ('Sagittal T2/STIR', 10), ('Axial T2', 20)]\n",
    "        \n",
    "        for i, (series_desc, num_images) in enumerate(image_types):\n",
    "            allimgs = self.get_img_paths(st_id, series_desc)\n",
    "            if not allimgs:\n",
    "                print(f\"{st_id}: {series_desc}, has no images\")\n",
    "                continue\n",
    "            \n",
    "            selected_imgs = self.select_images(allimgs, num_images, series_desc)\n",
    "            \n",
    "            for j, img_path in enumerate(selected_imgs):\n",
    "                try:\n",
    "                    img = self.read_dcm_ret_arr(img_path)\n",
    "                    x[..., j + i*10] = img.astype(np.uint8)\n",
    "                except:\n",
    "                    print(f'failed to load on {st_id}, {series_desc}')\n",
    "        \n",
    "        if self.transform is not None:\n",
    "            x = self.transform(image=x)['image']\n",
    "        x = x.transpose(2, 0, 1)\n",
    "        \n",
    "        return x, str(st_id)"
   ]
  },
  {
   "cell_type": "code",
   "execution_count": 13,
   "id": "63c584f3",
   "metadata": {
    "execution": {
     "iopub.execute_input": "2024-08-24T02:54:50.683358Z",
     "iopub.status.busy": "2024-08-24T02:54:50.683124Z",
     "iopub.status.idle": "2024-08-24T02:54:50.687643Z",
     "shell.execute_reply": "2024-08-24T02:54:50.686687Z"
    },
    "papermill": {
     "duration": 0.013816,
     "end_time": "2024-08-24T02:54:50.689648",
     "exception": false,
     "start_time": "2024-08-24T02:54:50.675832",
     "status": "completed"
    },
    "tags": []
   },
   "outputs": [],
   "source": [
    "transforms_test = A.Compose([\n",
    "    A.Resize(IMG_SIZE[0], IMG_SIZE[1]),\n",
    "    A.Normalize(mean=0.5, std=0.5)\n",
    "])"
   ]
  },
  {
   "cell_type": "code",
   "execution_count": 14,
   "id": "57f14765",
   "metadata": {
    "execution": {
     "iopub.execute_input": "2024-08-24T02:54:50.704087Z",
     "iopub.status.busy": "2024-08-24T02:54:50.703819Z",
     "iopub.status.idle": "2024-08-24T02:54:50.708271Z",
     "shell.execute_reply": "2024-08-24T02:54:50.707456Z"
    },
    "papermill": {
     "duration": 0.013868,
     "end_time": "2024-08-24T02:54:50.710281",
     "exception": false,
     "start_time": "2024-08-24T02:54:50.696413",
     "status": "completed"
    },
    "tags": []
   },
   "outputs": [],
   "source": [
    "test_ds = RSNA24TestDataset(df, study_ids, transform=transforms_test)\n",
    "test_dl = DataLoader(\n",
    "    test_ds, \n",
    "    batch_size=1, \n",
    "    shuffle=False,\n",
    "    num_workers=N_WORKERS,\n",
    "    pin_memory=True,\n",
    "    drop_last=False\n",
    ")"
   ]
  },
  {
   "cell_type": "code",
   "execution_count": 15,
   "id": "315a7c06",
   "metadata": {
    "execution": {
     "iopub.execute_input": "2024-08-24T02:54:50.724646Z",
     "iopub.status.busy": "2024-08-24T02:54:50.724353Z",
     "iopub.status.idle": "2024-08-24T02:54:50.728267Z",
     "shell.execute_reply": "2024-08-24T02:54:50.727548Z"
    },
    "papermill": {
     "duration": 0.013458,
     "end_time": "2024-08-24T02:54:50.730280",
     "exception": false,
     "start_time": "2024-08-24T02:54:50.716822",
     "status": "completed"
    },
    "tags": []
   },
   "outputs": [],
   "source": [
    "# class RSNA24Model(nn.Module):\n",
    "#     def __init__(self, model_name, in_c=40, n_classes=75, pretrained=True, features_only=False):\n",
    "#         super().__init__()\n",
    "#         self.model = timm.create_model(\n",
    "#                                     model_name,\n",
    "#                                     pretrained=pretrained, \n",
    "#                                     features_only=features_only,\n",
    "#                                     in_chans=in_c,\n",
    "#                                     num_classes=n_classes,\n",
    "#                                     global_pool='avg'\n",
    "#                                     )\n",
    "    \n",
    "#     def forward(self, x):\n",
    "#         y = self.model(x)\n",
    "#         return y"
   ]
  },
  {
   "cell_type": "code",
   "execution_count": 16,
   "id": "60d0fde4",
   "metadata": {
    "execution": {
     "iopub.execute_input": "2024-08-24T02:54:50.744865Z",
     "iopub.status.busy": "2024-08-24T02:54:50.744631Z",
     "iopub.status.idle": "2024-08-24T02:54:50.756210Z",
     "shell.execute_reply": "2024-08-24T02:54:50.755433Z"
    },
    "papermill": {
     "duration": 0.021244,
     "end_time": "2024-08-24T02:54:50.758141",
     "exception": false,
     "start_time": "2024-08-24T02:54:50.736897",
     "status": "completed"
    },
    "tags": []
   },
   "outputs": [],
   "source": [
    "class ClassificationModule(nn.Module):\n",
    "#     def __init__(self, in_channels, num_classes, hidden_dim=512):\n",
    "#         super().__init__()\n",
    "#         self.conv = nn.Conv2d(in_channels, hidden_dim, kernel_size=3, padding=1)\n",
    "#         self.bn = nn.BatchNorm2d(hidden_dim)\n",
    "#         self.pool = nn.AdaptiveAvgPool2d(1)\n",
    "#         self.fc = nn.Linear(hidden_dim, num_classes)\n",
    "\n",
    "#     def forward(self, x):\n",
    "#         x = torch.relu(self.bn(self.conv(x)))\n",
    "#         x = self.pool(x)\n",
    "#         x = x.view(x.size(0), -1)\n",
    "#         x = self.fc(x)\n",
    "#         return x\n",
    "\n",
    "    def __init__(self, in_channels, num_classes, hidden_dim=512):\n",
    "        super().__init__()\n",
    "        self.conv1 = nn.Conv2d(in_channels, hidden_dim, kernel_size=3, padding=1)\n",
    "        self.bn1 = nn.BatchNorm2d(hidden_dim)\n",
    "        self.conv2 = nn.Conv2d(hidden_dim, hidden_dim, kernel_size=3, padding=1)\n",
    "        self.bn2 = nn.BatchNorm2d(hidden_dim)\n",
    "        self.pool = nn.AdaptiveAvgPool2d(1)\n",
    "        self.fc = nn.Linear(hidden_dim, num_classes)\n",
    "\n",
    "    def forward(self, x):\n",
    "        x = torch.relu(self.bn1(self.conv1(x)))\n",
    "        x = torch.relu(self.bn2(self.conv2(x)))\n",
    "        x = self.pool(x)\n",
    "        x = x.view(x.size(0), -1)\n",
    "        x = self.fc(x)\n",
    "        return x\n",
    "\n",
    "class RSNA24Model(nn.Module):\n",
    "    def __init__(self, base_model_name, in_chans, num_classes, pretrained=True):\n",
    "        super().__init__()\n",
    "        self.base_model = timm.create_model(base_model_name, pretrained=pretrained, in_chans=in_chans, features_only=True)\n",
    "\n",
    "        # Freeze/Update the base model\n",
    "        for param in self.base_model.parameters():\n",
    "            param.requires_grad = True\n",
    "\n",
    "        # Get the number of output features from the last layer of the base model\n",
    "        with torch.no_grad():\n",
    "            dummy_input = torch.randn(1, in_chans, IMG_SIZE[0], IMG_SIZE[1])\n",
    "            features = self.base_model(dummy_input)\n",
    "            in_features = features[-1].shape[1]  # Use the last feature map\n",
    "\n",
    "            # i.e., if features[-1].shape is (1, 512, 7, 7),\n",
    "            # then features[-1].shape[1] would be 512.\n",
    "            # we're feeding it into a conv layer, so we need in_channels only.\n",
    "\n",
    "        # Add custom classification module\n",
    "        self.classification_module = ClassificationModule(in_features, num_classes)\n",
    "\n",
    "    def forward(self, x):\n",
    "        features = self.base_model(x)\n",
    "        output = self.classification_module(features[-1])  # Use the last feature map\n",
    "        return output.view(output.size(0), -1)  # Reshape to (batch_size, num_classes * 3)"
   ]
  },
  {
   "cell_type": "code",
   "execution_count": 17,
   "id": "c57b255e",
   "metadata": {
    "execution": {
     "iopub.execute_input": "2024-08-24T02:54:50.772458Z",
     "iopub.status.busy": "2024-08-24T02:54:50.772142Z",
     "iopub.status.idle": "2024-08-24T02:54:58.998333Z",
     "shell.execute_reply": "2024-08-24T02:54:58.997526Z"
    },
    "papermill": {
     "duration": 8.236005,
     "end_time": "2024-08-24T02:54:59.000793",
     "exception": false,
     "start_time": "2024-08-24T02:54:50.764788",
     "status": "completed"
    },
    "tags": []
   },
   "outputs": [
    {
     "name": "stdout",
     "output_type": "stream",
     "text": [
      "loading /kaggle/input/rsna24lsdc0823train/rsna-2024-lsdc-trained-models/best_wll_model_fold-0.pt...\n",
      "loading /kaggle/input/rsna24lsdc0823train/rsna-2024-lsdc-trained-models/best_wll_model_fold-1.pt...\n",
      "loading /kaggle/input/rsna24lsdc0823train/rsna-2024-lsdc-trained-models/best_wll_model_fold-2.pt...\n",
      "loading /kaggle/input/rsna24lsdc0823train/rsna-2024-lsdc-trained-models/best_wll_model_fold-3.pt...\n",
      "loading /kaggle/input/rsna24lsdc0823train/rsna-2024-lsdc-trained-models/best_wll_model_fold-4.pt...\n"
     ]
    }
   ],
   "source": [
    "import glob\n",
    "\n",
    "models = []\n",
    "\n",
    "CKPT_PATHS = glob.glob('/kaggle/input/rsna24lsdc0823train/rsna-2024-lsdc-trained-models/best_wll_model_fold-*.pt')\n",
    "CKPT_PATHS = sorted(CKPT_PATHS)\n",
    "\n",
    "for i, cp in enumerate(CKPT_PATHS):\n",
    "    print(f'loading {cp}...')\n",
    "    model = RSNA24Model(MODEL_NAME, IN_CHANS, N_CLASSES, pretrained=False)\n",
    "    model.load_state_dict(torch.load(cp))\n",
    "    model.eval()\n",
    "    model.half()\n",
    "    model.to(device)\n",
    "    models.append(model)"
   ]
  },
  {
   "cell_type": "code",
   "execution_count": 18,
   "id": "371bd350",
   "metadata": {
    "execution": {
     "iopub.execute_input": "2024-08-24T02:54:59.017288Z",
     "iopub.status.busy": "2024-08-24T02:54:59.016951Z",
     "iopub.status.idle": "2024-08-24T02:55:01.907619Z",
     "shell.execute_reply": "2024-08-24T02:55:01.906384Z"
    },
    "papermill": {
     "duration": 2.901513,
     "end_time": "2024-08-24T02:55:01.909706",
     "exception": false,
     "start_time": "2024-08-24T02:54:59.008193",
     "status": "completed"
    },
    "tags": []
   },
   "outputs": [
    {
     "name": "stderr",
     "output_type": "stream",
     "text": [
      "100%|██████████| 1/1 [00:02<00:00,  2.88s/it]\n"
     ]
    }
   ],
   "source": [
    "autocast = torch.cuda.amp.autocast(enabled=USE_AMP, dtype=torch.half)\n",
    "y_preds = []\n",
    "row_names = []\n",
    "\n",
    "with tqdm(test_dl, leave=True) as pbar:\n",
    "    with torch.no_grad():\n",
    "        for idx, (x, si) in enumerate(pbar):\n",
    "            x = x.to(device)\n",
    "            pred_per_study = np.zeros((25, 3))\n",
    "            \n",
    "            for cond in CONDITIONS:\n",
    "                for level in LEVELS:\n",
    "                    row_names.append(si[0] + '_' + cond + '_' + level)\n",
    "            \n",
    "            with autocast:\n",
    "                for m in models:\n",
    "                    y = m(x)[0]\n",
    "                    for col in range(N_LABELS):\n",
    "                        pred = y[col*3:col*3+3]\n",
    "                        y_pred = pred.float().softmax(0).cpu().numpy()\n",
    "                        pred_per_study[col] += y_pred / len(models)\n",
    "                y_preds.append(pred_per_study)\n",
    "\n",
    "y_preds = np.concatenate(y_preds, axis=0)"
   ]
  },
  {
   "cell_type": "code",
   "execution_count": 19,
   "id": "1d58efbc",
   "metadata": {
    "execution": {
     "iopub.execute_input": "2024-08-24T02:55:01.926422Z",
     "iopub.status.busy": "2024-08-24T02:55:01.925864Z",
     "iopub.status.idle": "2024-08-24T02:55:01.949654Z",
     "shell.execute_reply": "2024-08-24T02:55:01.948747Z"
    },
    "papermill": {
     "duration": 0.034398,
     "end_time": "2024-08-24T02:55:01.951631",
     "exception": false,
     "start_time": "2024-08-24T02:55:01.917233",
     "status": "completed"
    },
    "tags": []
   },
   "outputs": [
    {
     "data": {
      "text/html": [
       "<div>\n",
       "<style scoped>\n",
       "    .dataframe tbody tr th:only-of-type {\n",
       "        vertical-align: middle;\n",
       "    }\n",
       "\n",
       "    .dataframe tbody tr th {\n",
       "        vertical-align: top;\n",
       "    }\n",
       "\n",
       "    .dataframe thead th {\n",
       "        text-align: right;\n",
       "    }\n",
       "</style>\n",
       "<table border=\"1\" class=\"dataframe\">\n",
       "  <thead>\n",
       "    <tr style=\"text-align: right;\">\n",
       "      <th></th>\n",
       "      <th>row_id</th>\n",
       "      <th>normal_mild</th>\n",
       "      <th>moderate</th>\n",
       "      <th>severe</th>\n",
       "    </tr>\n",
       "  </thead>\n",
       "  <tbody>\n",
       "    <tr>\n",
       "      <th>0</th>\n",
       "      <td>44036939_spinal_canal_stenosis_l1_l2</td>\n",
       "      <td>0.321904</td>\n",
       "      <td>0.365173</td>\n",
       "      <td>0.312923</td>\n",
       "    </tr>\n",
       "    <tr>\n",
       "      <th>1</th>\n",
       "      <td>44036939_spinal_canal_stenosis_l2_l3</td>\n",
       "      <td>0.254861</td>\n",
       "      <td>0.367973</td>\n",
       "      <td>0.377166</td>\n",
       "    </tr>\n",
       "    <tr>\n",
       "      <th>2</th>\n",
       "      <td>44036939_spinal_canal_stenosis_l3_l4</td>\n",
       "      <td>0.304131</td>\n",
       "      <td>0.448013</td>\n",
       "      <td>0.247857</td>\n",
       "    </tr>\n",
       "    <tr>\n",
       "      <th>3</th>\n",
       "      <td>44036939_spinal_canal_stenosis_l4_l5</td>\n",
       "      <td>0.417411</td>\n",
       "      <td>0.295237</td>\n",
       "      <td>0.287352</td>\n",
       "    </tr>\n",
       "    <tr>\n",
       "      <th>4</th>\n",
       "      <td>44036939_spinal_canal_stenosis_l5_s1</td>\n",
       "      <td>0.841112</td>\n",
       "      <td>0.100403</td>\n",
       "      <td>0.058485</td>\n",
       "    </tr>\n",
       "    <tr>\n",
       "      <th>5</th>\n",
       "      <td>44036939_left_neural_foraminal_narrowing_l1_l2</td>\n",
       "      <td>0.488327</td>\n",
       "      <td>0.482438</td>\n",
       "      <td>0.029236</td>\n",
       "    </tr>\n",
       "    <tr>\n",
       "      <th>6</th>\n",
       "      <td>44036939_left_neural_foraminal_narrowing_l2_l3</td>\n",
       "      <td>0.328101</td>\n",
       "      <td>0.592873</td>\n",
       "      <td>0.079027</td>\n",
       "    </tr>\n",
       "    <tr>\n",
       "      <th>7</th>\n",
       "      <td>44036939_left_neural_foraminal_narrowing_l3_l4</td>\n",
       "      <td>0.255925</td>\n",
       "      <td>0.523179</td>\n",
       "      <td>0.220896</td>\n",
       "    </tr>\n",
       "    <tr>\n",
       "      <th>8</th>\n",
       "      <td>44036939_left_neural_foraminal_narrowing_l4_l5</td>\n",
       "      <td>0.163932</td>\n",
       "      <td>0.441611</td>\n",
       "      <td>0.394457</td>\n",
       "    </tr>\n",
       "    <tr>\n",
       "      <th>9</th>\n",
       "      <td>44036939_left_neural_foraminal_narrowing_l5_s1</td>\n",
       "      <td>0.137688</td>\n",
       "      <td>0.395210</td>\n",
       "      <td>0.467102</td>\n",
       "    </tr>\n",
       "    <tr>\n",
       "      <th>10</th>\n",
       "      <td>44036939_right_neural_foraminal_narrowing_l1_l2</td>\n",
       "      <td>0.433205</td>\n",
       "      <td>0.395457</td>\n",
       "      <td>0.171339</td>\n",
       "    </tr>\n",
       "    <tr>\n",
       "      <th>11</th>\n",
       "      <td>44036939_right_neural_foraminal_narrowing_l2_l3</td>\n",
       "      <td>0.423380</td>\n",
       "      <td>0.511527</td>\n",
       "      <td>0.065092</td>\n",
       "    </tr>\n",
       "    <tr>\n",
       "      <th>12</th>\n",
       "      <td>44036939_right_neural_foraminal_narrowing_l3_l4</td>\n",
       "      <td>0.246234</td>\n",
       "      <td>0.610274</td>\n",
       "      <td>0.143492</td>\n",
       "    </tr>\n",
       "    <tr>\n",
       "      <th>13</th>\n",
       "      <td>44036939_right_neural_foraminal_narrowing_l4_l5</td>\n",
       "      <td>0.177169</td>\n",
       "      <td>0.412593</td>\n",
       "      <td>0.410238</td>\n",
       "    </tr>\n",
       "    <tr>\n",
       "      <th>14</th>\n",
       "      <td>44036939_right_neural_foraminal_narrowing_l5_s1</td>\n",
       "      <td>0.136280</td>\n",
       "      <td>0.295012</td>\n",
       "      <td>0.568707</td>\n",
       "    </tr>\n",
       "    <tr>\n",
       "      <th>15</th>\n",
       "      <td>44036939_left_subarticular_stenosis_l1_l2</td>\n",
       "      <td>0.235487</td>\n",
       "      <td>0.457152</td>\n",
       "      <td>0.307361</td>\n",
       "    </tr>\n",
       "    <tr>\n",
       "      <th>16</th>\n",
       "      <td>44036939_left_subarticular_stenosis_l2_l3</td>\n",
       "      <td>0.121682</td>\n",
       "      <td>0.373023</td>\n",
       "      <td>0.505295</td>\n",
       "    </tr>\n",
       "    <tr>\n",
       "      <th>17</th>\n",
       "      <td>44036939_left_subarticular_stenosis_l3_l4</td>\n",
       "      <td>0.097743</td>\n",
       "      <td>0.472431</td>\n",
       "      <td>0.429826</td>\n",
       "    </tr>\n",
       "    <tr>\n",
       "      <th>18</th>\n",
       "      <td>44036939_left_subarticular_stenosis_l4_l5</td>\n",
       "      <td>0.074788</td>\n",
       "      <td>0.325360</td>\n",
       "      <td>0.599852</td>\n",
       "    </tr>\n",
       "    <tr>\n",
       "      <th>19</th>\n",
       "      <td>44036939_left_subarticular_stenosis_l5_s1</td>\n",
       "      <td>0.203198</td>\n",
       "      <td>0.293803</td>\n",
       "      <td>0.502999</td>\n",
       "    </tr>\n",
       "    <tr>\n",
       "      <th>20</th>\n",
       "      <td>44036939_right_subarticular_stenosis_l1_l2</td>\n",
       "      <td>0.211606</td>\n",
       "      <td>0.496535</td>\n",
       "      <td>0.291859</td>\n",
       "    </tr>\n",
       "    <tr>\n",
       "      <th>21</th>\n",
       "      <td>44036939_right_subarticular_stenosis_l2_l3</td>\n",
       "      <td>0.124633</td>\n",
       "      <td>0.464950</td>\n",
       "      <td>0.410417</td>\n",
       "    </tr>\n",
       "    <tr>\n",
       "      <th>22</th>\n",
       "      <td>44036939_right_subarticular_stenosis_l3_l4</td>\n",
       "      <td>0.115828</td>\n",
       "      <td>0.518254</td>\n",
       "      <td>0.365918</td>\n",
       "    </tr>\n",
       "    <tr>\n",
       "      <th>23</th>\n",
       "      <td>44036939_right_subarticular_stenosis_l4_l5</td>\n",
       "      <td>0.070182</td>\n",
       "      <td>0.309714</td>\n",
       "      <td>0.620104</td>\n",
       "    </tr>\n",
       "    <tr>\n",
       "      <th>24</th>\n",
       "      <td>44036939_right_subarticular_stenosis_l5_s1</td>\n",
       "      <td>0.198741</td>\n",
       "      <td>0.409313</td>\n",
       "      <td>0.391947</td>\n",
       "    </tr>\n",
       "  </tbody>\n",
       "</table>\n",
       "</div>"
      ],
      "text/plain": [
       "                                             row_id  normal_mild  moderate  \\\n",
       "0              44036939_spinal_canal_stenosis_l1_l2     0.321904  0.365173   \n",
       "1              44036939_spinal_canal_stenosis_l2_l3     0.254861  0.367973   \n",
       "2              44036939_spinal_canal_stenosis_l3_l4     0.304131  0.448013   \n",
       "3              44036939_spinal_canal_stenosis_l4_l5     0.417411  0.295237   \n",
       "4              44036939_spinal_canal_stenosis_l5_s1     0.841112  0.100403   \n",
       "5    44036939_left_neural_foraminal_narrowing_l1_l2     0.488327  0.482438   \n",
       "6    44036939_left_neural_foraminal_narrowing_l2_l3     0.328101  0.592873   \n",
       "7    44036939_left_neural_foraminal_narrowing_l3_l4     0.255925  0.523179   \n",
       "8    44036939_left_neural_foraminal_narrowing_l4_l5     0.163932  0.441611   \n",
       "9    44036939_left_neural_foraminal_narrowing_l5_s1     0.137688  0.395210   \n",
       "10  44036939_right_neural_foraminal_narrowing_l1_l2     0.433205  0.395457   \n",
       "11  44036939_right_neural_foraminal_narrowing_l2_l3     0.423380  0.511527   \n",
       "12  44036939_right_neural_foraminal_narrowing_l3_l4     0.246234  0.610274   \n",
       "13  44036939_right_neural_foraminal_narrowing_l4_l5     0.177169  0.412593   \n",
       "14  44036939_right_neural_foraminal_narrowing_l5_s1     0.136280  0.295012   \n",
       "15        44036939_left_subarticular_stenosis_l1_l2     0.235487  0.457152   \n",
       "16        44036939_left_subarticular_stenosis_l2_l3     0.121682  0.373023   \n",
       "17        44036939_left_subarticular_stenosis_l3_l4     0.097743  0.472431   \n",
       "18        44036939_left_subarticular_stenosis_l4_l5     0.074788  0.325360   \n",
       "19        44036939_left_subarticular_stenosis_l5_s1     0.203198  0.293803   \n",
       "20       44036939_right_subarticular_stenosis_l1_l2     0.211606  0.496535   \n",
       "21       44036939_right_subarticular_stenosis_l2_l3     0.124633  0.464950   \n",
       "22       44036939_right_subarticular_stenosis_l3_l4     0.115828  0.518254   \n",
       "23       44036939_right_subarticular_stenosis_l4_l5     0.070182  0.309714   \n",
       "24       44036939_right_subarticular_stenosis_l5_s1     0.198741  0.409313   \n",
       "\n",
       "      severe  \n",
       "0   0.312923  \n",
       "1   0.377166  \n",
       "2   0.247857  \n",
       "3   0.287352  \n",
       "4   0.058485  \n",
       "5   0.029236  \n",
       "6   0.079027  \n",
       "7   0.220896  \n",
       "8   0.394457  \n",
       "9   0.467102  \n",
       "10  0.171339  \n",
       "11  0.065092  \n",
       "12  0.143492  \n",
       "13  0.410238  \n",
       "14  0.568707  \n",
       "15  0.307361  \n",
       "16  0.505295  \n",
       "17  0.429826  \n",
       "18  0.599852  \n",
       "19  0.502999  \n",
       "20  0.291859  \n",
       "21  0.410417  \n",
       "22  0.365918  \n",
       "23  0.620104  \n",
       "24  0.391947  "
      ]
     },
     "execution_count": 19,
     "metadata": {},
     "output_type": "execute_result"
    }
   ],
   "source": [
    "sub = pd.DataFrame()\n",
    "sub['row_id'] = row_names\n",
    "sub[LABELS] = y_preds\n",
    "sub.head(25)"
   ]
  },
  {
   "cell_type": "code",
   "execution_count": 20,
   "id": "ce190ed8",
   "metadata": {
    "execution": {
     "iopub.execute_input": "2024-08-24T02:55:01.968234Z",
     "iopub.status.busy": "2024-08-24T02:55:01.967953Z",
     "iopub.status.idle": "2024-08-24T02:55:01.984162Z",
     "shell.execute_reply": "2024-08-24T02:55:01.983255Z"
    },
    "papermill": {
     "duration": 0.026733,
     "end_time": "2024-08-24T02:55:01.986008",
     "exception": false,
     "start_time": "2024-08-24T02:55:01.959275",
     "status": "completed"
    },
    "tags": []
   },
   "outputs": [
    {
     "data": {
      "text/html": [
       "<div>\n",
       "<style scoped>\n",
       "    .dataframe tbody tr th:only-of-type {\n",
       "        vertical-align: middle;\n",
       "    }\n",
       "\n",
       "    .dataframe tbody tr th {\n",
       "        vertical-align: top;\n",
       "    }\n",
       "\n",
       "    .dataframe thead th {\n",
       "        text-align: right;\n",
       "    }\n",
       "</style>\n",
       "<table border=\"1\" class=\"dataframe\">\n",
       "  <thead>\n",
       "    <tr style=\"text-align: right;\">\n",
       "      <th></th>\n",
       "      <th>row_id</th>\n",
       "      <th>normal_mild</th>\n",
       "      <th>moderate</th>\n",
       "      <th>severe</th>\n",
       "    </tr>\n",
       "  </thead>\n",
       "  <tbody>\n",
       "    <tr>\n",
       "      <th>0</th>\n",
       "      <td>44036939_spinal_canal_stenosis_l1_l2</td>\n",
       "      <td>0.321904</td>\n",
       "      <td>0.365173</td>\n",
       "      <td>0.312923</td>\n",
       "    </tr>\n",
       "    <tr>\n",
       "      <th>1</th>\n",
       "      <td>44036939_spinal_canal_stenosis_l2_l3</td>\n",
       "      <td>0.254861</td>\n",
       "      <td>0.367973</td>\n",
       "      <td>0.377166</td>\n",
       "    </tr>\n",
       "    <tr>\n",
       "      <th>2</th>\n",
       "      <td>44036939_spinal_canal_stenosis_l3_l4</td>\n",
       "      <td>0.304131</td>\n",
       "      <td>0.448013</td>\n",
       "      <td>0.247857</td>\n",
       "    </tr>\n",
       "    <tr>\n",
       "      <th>3</th>\n",
       "      <td>44036939_spinal_canal_stenosis_l4_l5</td>\n",
       "      <td>0.417411</td>\n",
       "      <td>0.295237</td>\n",
       "      <td>0.287352</td>\n",
       "    </tr>\n",
       "    <tr>\n",
       "      <th>4</th>\n",
       "      <td>44036939_spinal_canal_stenosis_l5_s1</td>\n",
       "      <td>0.841112</td>\n",
       "      <td>0.100403</td>\n",
       "      <td>0.058485</td>\n",
       "    </tr>\n",
       "  </tbody>\n",
       "</table>\n",
       "</div>"
      ],
      "text/plain": [
       "                                 row_id  normal_mild  moderate    severe\n",
       "0  44036939_spinal_canal_stenosis_l1_l2     0.321904  0.365173  0.312923\n",
       "1  44036939_spinal_canal_stenosis_l2_l3     0.254861  0.367973  0.377166\n",
       "2  44036939_spinal_canal_stenosis_l3_l4     0.304131  0.448013  0.247857\n",
       "3  44036939_spinal_canal_stenosis_l4_l5     0.417411  0.295237  0.287352\n",
       "4  44036939_spinal_canal_stenosis_l5_s1     0.841112  0.100403  0.058485"
      ]
     },
     "execution_count": 20,
     "metadata": {},
     "output_type": "execute_result"
    }
   ],
   "source": [
    "sub.to_csv('submission.csv', index=False)\n",
    "pd.read_csv('submission.csv').head()"
   ]
  },
  {
   "cell_type": "code",
   "execution_count": null,
   "id": "86833031",
   "metadata": {
    "papermill": {
     "duration": 0.007737,
     "end_time": "2024-08-24T02:55:02.001720",
     "exception": false,
     "start_time": "2024-08-24T02:55:01.993983",
     "status": "completed"
    },
    "tags": []
   },
   "outputs": [],
   "source": []
  }
 ],
 "metadata": {
  "kaggle": {
   "accelerator": "nvidiaTeslaT4",
   "dataSources": [
    {
     "databundleVersionId": 8561470,
     "sourceId": 71549,
     "sourceType": "competition"
    },
    {
     "sourceId": 193752640,
     "sourceType": "kernelVersion"
    }
   ],
   "dockerImageVersionId": 30747,
   "isGpuEnabled": true,
   "isInternetEnabled": false,
   "language": "python",
   "sourceType": "notebook"
  },
  "kernelspec": {
   "display_name": "Python 3",
   "language": "python",
   "name": "python3"
  },
  "language_info": {
   "codemirror_mode": {
    "name": "ipython",
    "version": 3
   },
   "file_extension": ".py",
   "mimetype": "text/x-python",
   "name": "python",
   "nbconvert_exporter": "python",
   "pygments_lexer": "ipython3",
   "version": "3.10.13"
  },
  "papermill": {
   "default_parameters": {},
   "duration": 60.344899,
   "end_time": "2024-08-24T02:55:03.934424",
   "environment_variables": {},
   "exception": null,
   "input_path": "__notebook__.ipynb",
   "output_path": "__notebook__.ipynb",
   "parameters": {},
   "start_time": "2024-08-24T02:54:03.589525",
   "version": "2.5.0"
  }
 },
 "nbformat": 4,
 "nbformat_minor": 5
}
