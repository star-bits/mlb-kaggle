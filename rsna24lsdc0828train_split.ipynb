{
  "cells": [
    {
      "cell_type": "code",
      "execution_count": 1,
      "metadata": {
        "colab": {
          "base_uri": "https://localhost:8080/"
        },
        "id": "eyoeLmXjgLoz",
        "outputId": "0e602ab0-cba9-474b-9ef2-a42ca1ebc8c0"
      },
      "outputs": [
        {
          "output_type": "stream",
          "name": "stdout",
          "text": [
            "Mounted at /content/drive\n"
          ]
        }
      ],
      "source": [
        "from google.colab import drive\n",
        "drive.mount('/content/drive')"
      ]
    },
    {
      "cell_type": "code",
      "execution_count": 2,
      "metadata": {
        "id": "ihRCcKIggpiI",
        "colab": {
          "base_uri": "https://localhost:8080/"
        },
        "outputId": "3bdd40f9-d7dc-4472-a35c-f671285f5f18"
      },
      "outputs": [
        {
          "output_type": "stream",
          "name": "stdout",
          "text": [
            "\u001b[2K     \u001b[90m━━━━━━━━━━━━━━━━━━━━━━━━━━━━━━━━━━━━━━━━\u001b[0m \u001b[32m42.4/42.4 kB\u001b[0m \u001b[31m2.6 MB/s\u001b[0m eta \u001b[36m0:00:00\u001b[0m\n",
            "\u001b[2K   \u001b[90m━━━━━━━━━━━━━━━━━━━━━━━━━━━━━━━━━━━━━━━━\u001b[0m \u001b[32m2.3/2.3 MB\u001b[0m \u001b[31m50.8 MB/s\u001b[0m eta \u001b[36m0:00:00\u001b[0m\n",
            "\u001b[2K   \u001b[90m━━━━━━━━━━━━━━━━━━━━━━━━━━━━━━━━━━━━━━━━\u001b[0m \u001b[32m9.4/9.4 MB\u001b[0m \u001b[31m114.7 MB/s\u001b[0m eta \u001b[36m0:00:00\u001b[0m\n",
            "\u001b[2K   \u001b[90m━━━━━━━━━━━━━━━━━━━━━━━━━━━━━━━━━━━━━━━━\u001b[0m \u001b[32m207.3/207.3 kB\u001b[0m \u001b[31m17.6 MB/s\u001b[0m eta \u001b[36m0:00:00\u001b[0m\n",
            "\u001b[2K   \u001b[90m━━━━━━━━━━━━━━━━━━━━━━━━━━━━━━━━━━━━━━━━\u001b[0m \u001b[32m309.1/309.1 kB\u001b[0m \u001b[31m25.6 MB/s\u001b[0m eta \u001b[36m0:00:00\u001b[0m\n",
            "\u001b[2K   \u001b[90m━━━━━━━━━━━━━━━━━━━━━━━━━━━━━━━━━━━━━━━━\u001b[0m \u001b[32m62.7/62.7 kB\u001b[0m \u001b[31m5.3 MB/s\u001b[0m eta \u001b[36m0:00:00\u001b[0m\n",
            "\u001b[?25h"
          ]
        }
      ],
      "source": [
        "!pip install -q timm wandb"
      ]
    },
    {
      "cell_type": "code",
      "execution_count": 3,
      "metadata": {
        "id": "oAMtin2rgpfp"
      },
      "outputs": [],
      "source": [
        "import os\n",
        "import gc\n",
        "import sys\n",
        "import zipfile\n",
        "from PIL import Image\n",
        "import cv2\n",
        "import math, random\n",
        "import numpy as np\n",
        "import pandas as pd\n",
        "from glob import glob\n",
        "from tqdm import tqdm\n",
        "import matplotlib.pyplot as plt\n",
        "from sklearn.model_selection import KFold\n",
        "\n",
        "from collections import OrderedDict\n",
        "\n",
        "import torch\n",
        "import torch.nn.functional as F\n",
        "from torch import nn\n",
        "from torch.utils.data import DataLoader, Dataset\n",
        "from torch.optim import AdamW\n",
        "\n",
        "import timm\n",
        "from transformers import get_cosine_schedule_with_warmup\n",
        "\n",
        "import albumentations as A\n",
        "\n",
        "from sklearn.model_selection import KFold\n",
        "\n",
        "# import wandb\n",
        "# wandb.login()"
      ]
    },
    {
      "cell_type": "code",
      "execution_count": 4,
      "metadata": {
        "colab": {
          "base_uri": "https://localhost:8080/"
        },
        "id": "3IPxhkHOGsbt",
        "outputId": "8cfe5421-0f8a-4524-942f-2325c9780925"
      },
      "outputs": [
        {
          "output_type": "stream",
          "name": "stdout",
          "text": [
            "sending incremental file list\n",
            "cvt_png.zip\n",
            "         10.58G 100%   32.61MB/s    0:05:09 (xfr#1, to-chk=0/1)\n"
          ]
        },
        {
          "output_type": "stream",
          "name": "stderr",
          "text": [
            "Unzipping: 100%|██████████| 86769/86769 [01:14<00:00, 1169.17files/s]\n"
          ]
        },
        {
          "output_type": "stream",
          "name": "stdout",
          "text": [
            "20G\t/content/rsna-2024-lsdc-train/\n"
          ]
        }
      ],
      "source": [
        "from_dir = '/content/drive/MyDrive/Kaggle/rsna-2024-lsdc-train/'\n",
        "file_name = 'cvt_png.zip'\n",
        "to_dir = '/content/rsna-2024-lsdc-train/'\n",
        "\n",
        "!mkdir -p {to_dir}\n",
        "\n",
        "!rsync -ah --progress {from_dir + file_name} {to_dir}\n",
        "\n",
        "zip_path = os.path.join(to_dir, file_name)\n",
        "with zipfile.ZipFile(zip_path, 'r') as zip_ref:\n",
        "    total_files = len(zip_ref.infolist())\n",
        "    with tqdm(total=total_files, desc=\"Unzipping\", unit=\"files\") as pbar:\n",
        "        for file in zip_ref.infolist():\n",
        "            zip_ref.extract(file, to_dir)\n",
        "            pbar.update(1)\n",
        "\n",
        "!du -sh {to_dir}"
      ]
    },
    {
      "cell_type": "code",
      "execution_count": 5,
      "metadata": {
        "id": "xlusPFaqgpae"
      },
      "outputs": [],
      "source": [
        "# ORIGINAL DATASET PATH\n",
        "# INPUT_PATH  = '/kaggle/input/rsna-2024-lumbar-spine-degenerative-classification'\n",
        "INPUT_PATH  = '/content/drive/MyDrive/Kaggle/rsna-2024-lumbar-spine-degenerative-classification'\n",
        "\n",
        "# PNG FILE PATH\n",
        "# PNG_PATH = '/kaggle/input/rsna24lsdc-0815-eda-dcm2png' # Add Input -> Your Work + Notebook -> rsna24lsdc_0815_eda_dcm2png\n",
        "PNG_PATH = '/content/rsna-2024-lsdc-train'\n",
        "\n",
        "# MODEL OUTPUT PATH\n",
        "# OUTPUT_PATH = '/kaggle/working'\n",
        "OUTPUT_PATH = '/content/drive/MyDrive/Kaggle/rsna-2024-lsdc-train-split'"
      ]
    },
    {
      "cell_type": "code",
      "execution_count": 6,
      "metadata": {
        "id": "2xMfPB1ggpXx",
        "colab": {
          "base_uri": "https://localhost:8080/"
        },
        "outputId": "30a3bf60-63e1-46d6-9647-a47c35e47e77"
      },
      "outputs": [
        {
          "output_type": "stream",
          "name": "stdout",
          "text": [
            "12\n"
          ]
        }
      ],
      "source": [
        "# IMG_SIZE = (512, 512)\n",
        "IMG_SIZE = (224, 224)\n",
        "\n",
        "IN_CHANS = 40\n",
        "N_LABELS = 25\n",
        "N_CLASSES = 3 * N_LABELS\n",
        "\n",
        "AUG_PROB = 0.75\n",
        "\n",
        "EPOCHS = 20\n",
        "EARLY_STOPPING_EPOCH = 3\n",
        "\n",
        "N_FOLDS = 5\n",
        "\n",
        "MODEL_NAME = \"edgenext_base.in21k_ft_in1k\"          # 18M,  72MB\n",
        "# MODEL_NAME = \"tf_efficientnetv2_s\"                  # 22M,  87MB\n",
        "# MODEL_NAME = \"convnext_tiny.fb_in22k_ft_in1k\"       # 28M,  111MB\n",
        "# MODEL_NAME = \"convnextv2_tiny.fcmae_ft_in22k_in1k\"  # 29M,  114MB\n",
        "# MODEL_NAME = \"convnextv2_small.fcmae_ft_in22k_in1k\" # 50M,  200MB\n",
        "# MODEL_NAME = \"convnextv2_base.fcmae_ft_in22k_in1k\"  # 89M,  356MB\n",
        "# MODEL_NAME = \"convnextv2_large.fcmae_ft_in22k_in1k\" # 198M, 792MB\n",
        "# MODEL_NAME = \"swin_tiny_patch4_window7_224\"         # 28M,  110MB\n",
        "# MODEL_NAME = \"swin_small_patch4_window7_224\"        # 50M,  196MB\n",
        "# MODEL_NAME = \"swin_base_patch4_window7_224\"         # 88M,  345MB\n",
        "# MODEL_NAME = \"swin_large_patch4_window7_224\"        # 197M, 772MB\n",
        "\n",
        "device = 'cuda:0' if torch.cuda.is_available() else 'cpu'\n",
        "\n",
        "N_WORKERS = os.cpu_count()\n",
        "print(N_WORKERS)\n",
        "\n",
        "USE_AMP = True # Automatic Mixed Precision - True if using T4 or newer\n",
        "\n",
        "BATCH_SIZE = 32\n",
        "# BATCH_SIZE = 128\n",
        "\n",
        "LR = 2e-4\n",
        "MIN_LR = 1e-6\n",
        "WD = 1e-2\n",
        "\n",
        "SEED = 8620\n",
        "def set_random_seed(seed: int = 8620, deterministic: bool = False):\n",
        "    \"\"\"Set seeds\"\"\"\n",
        "    random.seed(seed)\n",
        "    np.random.seed(seed)\n",
        "    os.environ[\"PYTHONHASHSEED\"] = str(seed)\n",
        "    torch.manual_seed(seed)\n",
        "    torch.cuda.manual_seed(seed)  # type: ignore\n",
        "    torch.backends.cudnn.benchmark = True\n",
        "    torch.backends.cudnn.deterministic = deterministic  # type: ignore\n",
        "set_random_seed(SEED)"
      ]
    },
    {
      "cell_type": "code",
      "execution_count": 7,
      "metadata": {
        "id": "W4V_LCxDgpSb",
        "colab": {
          "base_uri": "https://localhost:8080/",
          "height": 256
        },
        "outputId": "0a7f913f-74b2-4f88-a1d7-ad5136879d6e"
      },
      "outputs": [
        {
          "output_type": "execute_result",
          "data": {
            "text/plain": [
              "   study_id spinal_canal_stenosis_l1_l2 spinal_canal_stenosis_l2_l3  \\\n",
              "0   4003253                 Normal/Mild                 Normal/Mild   \n",
              "1   4646740                 Normal/Mild                 Normal/Mild   \n",
              "2   7143189                 Normal/Mild                 Normal/Mild   \n",
              "3   8785691                 Normal/Mild                 Normal/Mild   \n",
              "4  10728036                 Normal/Mild                 Normal/Mild   \n",
              "\n",
              "  spinal_canal_stenosis_l3_l4 spinal_canal_stenosis_l4_l5  \\\n",
              "0                 Normal/Mild                 Normal/Mild   \n",
              "1                    Moderate                      Severe   \n",
              "2                 Normal/Mild                 Normal/Mild   \n",
              "3                 Normal/Mild                 Normal/Mild   \n",
              "4                 Normal/Mild                 Normal/Mild   \n",
              "\n",
              "  spinal_canal_stenosis_l5_s1 left_neural_foraminal_narrowing_l1_l2  \\\n",
              "0                 Normal/Mild                           Normal/Mild   \n",
              "1                 Normal/Mild                           Normal/Mild   \n",
              "2                 Normal/Mild                           Normal/Mild   \n",
              "3                 Normal/Mild                           Normal/Mild   \n",
              "4                 Normal/Mild                           Normal/Mild   \n",
              "\n",
              "  left_neural_foraminal_narrowing_l2_l3 left_neural_foraminal_narrowing_l3_l4  \\\n",
              "0                           Normal/Mild                           Normal/Mild   \n",
              "1                           Normal/Mild                           Normal/Mild   \n",
              "2                           Normal/Mild                           Normal/Mild   \n",
              "3                           Normal/Mild                           Normal/Mild   \n",
              "4                           Normal/Mild                           Normal/Mild   \n",
              "\n",
              "  left_neural_foraminal_narrowing_l4_l5  ... left_subarticular_stenosis_l1_l2  \\\n",
              "0                              Moderate  ...                      Normal/Mild   \n",
              "1                              Moderate  ...                      Normal/Mild   \n",
              "2                           Normal/Mild  ...                      Normal/Mild   \n",
              "3                              Moderate  ...                      Normal/Mild   \n",
              "4                           Normal/Mild  ...                      Normal/Mild   \n",
              "\n",
              "  left_subarticular_stenosis_l2_l3 left_subarticular_stenosis_l3_l4  \\\n",
              "0                      Normal/Mild                      Normal/Mild   \n",
              "1                      Normal/Mild                      Normal/Mild   \n",
              "2                      Normal/Mild                      Normal/Mild   \n",
              "3                      Normal/Mild                      Normal/Mild   \n",
              "4                      Normal/Mild                      Normal/Mild   \n",
              "\n",
              "  left_subarticular_stenosis_l4_l5 left_subarticular_stenosis_l5_s1  \\\n",
              "0                         Moderate                      Normal/Mild   \n",
              "1                           Severe                      Normal/Mild   \n",
              "2                      Normal/Mild                      Normal/Mild   \n",
              "3                      Normal/Mild                      Normal/Mild   \n",
              "4                      Normal/Mild                      Normal/Mild   \n",
              "\n",
              "  right_subarticular_stenosis_l1_l2 right_subarticular_stenosis_l2_l3  \\\n",
              "0                       Normal/Mild                       Normal/Mild   \n",
              "1                       Normal/Mild                          Moderate   \n",
              "2                       Normal/Mild                       Normal/Mild   \n",
              "3                       Normal/Mild                       Normal/Mild   \n",
              "4                       Normal/Mild                       Normal/Mild   \n",
              "\n",
              "  right_subarticular_stenosis_l3_l4 right_subarticular_stenosis_l4_l5  \\\n",
              "0                       Normal/Mild                       Normal/Mild   \n",
              "1                          Moderate                          Moderate   \n",
              "2                       Normal/Mild                       Normal/Mild   \n",
              "3                       Normal/Mild                       Normal/Mild   \n",
              "4                       Normal/Mild                          Moderate   \n",
              "\n",
              "  right_subarticular_stenosis_l5_s1  \n",
              "0                       Normal/Mild  \n",
              "1                       Normal/Mild  \n",
              "2                       Normal/Mild  \n",
              "3                       Normal/Mild  \n",
              "4                       Normal/Mild  \n",
              "\n",
              "[5 rows x 26 columns]"
            ],
            "text/html": [
              "\n",
              "  <div id=\"df-e61ea4cb-abc0-49dd-bfc6-43c052579923\" class=\"colab-df-container\">\n",
              "    <div>\n",
              "<style scoped>\n",
              "    .dataframe tbody tr th:only-of-type {\n",
              "        vertical-align: middle;\n",
              "    }\n",
              "\n",
              "    .dataframe tbody tr th {\n",
              "        vertical-align: top;\n",
              "    }\n",
              "\n",
              "    .dataframe thead th {\n",
              "        text-align: right;\n",
              "    }\n",
              "</style>\n",
              "<table border=\"1\" class=\"dataframe\">\n",
              "  <thead>\n",
              "    <tr style=\"text-align: right;\">\n",
              "      <th></th>\n",
              "      <th>study_id</th>\n",
              "      <th>spinal_canal_stenosis_l1_l2</th>\n",
              "      <th>spinal_canal_stenosis_l2_l3</th>\n",
              "      <th>spinal_canal_stenosis_l3_l4</th>\n",
              "      <th>spinal_canal_stenosis_l4_l5</th>\n",
              "      <th>spinal_canal_stenosis_l5_s1</th>\n",
              "      <th>left_neural_foraminal_narrowing_l1_l2</th>\n",
              "      <th>left_neural_foraminal_narrowing_l2_l3</th>\n",
              "      <th>left_neural_foraminal_narrowing_l3_l4</th>\n",
              "      <th>left_neural_foraminal_narrowing_l4_l5</th>\n",
              "      <th>...</th>\n",
              "      <th>left_subarticular_stenosis_l1_l2</th>\n",
              "      <th>left_subarticular_stenosis_l2_l3</th>\n",
              "      <th>left_subarticular_stenosis_l3_l4</th>\n",
              "      <th>left_subarticular_stenosis_l4_l5</th>\n",
              "      <th>left_subarticular_stenosis_l5_s1</th>\n",
              "      <th>right_subarticular_stenosis_l1_l2</th>\n",
              "      <th>right_subarticular_stenosis_l2_l3</th>\n",
              "      <th>right_subarticular_stenosis_l3_l4</th>\n",
              "      <th>right_subarticular_stenosis_l4_l5</th>\n",
              "      <th>right_subarticular_stenosis_l5_s1</th>\n",
              "    </tr>\n",
              "  </thead>\n",
              "  <tbody>\n",
              "    <tr>\n",
              "      <th>0</th>\n",
              "      <td>4003253</td>\n",
              "      <td>Normal/Mild</td>\n",
              "      <td>Normal/Mild</td>\n",
              "      <td>Normal/Mild</td>\n",
              "      <td>Normal/Mild</td>\n",
              "      <td>Normal/Mild</td>\n",
              "      <td>Normal/Mild</td>\n",
              "      <td>Normal/Mild</td>\n",
              "      <td>Normal/Mild</td>\n",
              "      <td>Moderate</td>\n",
              "      <td>...</td>\n",
              "      <td>Normal/Mild</td>\n",
              "      <td>Normal/Mild</td>\n",
              "      <td>Normal/Mild</td>\n",
              "      <td>Moderate</td>\n",
              "      <td>Normal/Mild</td>\n",
              "      <td>Normal/Mild</td>\n",
              "      <td>Normal/Mild</td>\n",
              "      <td>Normal/Mild</td>\n",
              "      <td>Normal/Mild</td>\n",
              "      <td>Normal/Mild</td>\n",
              "    </tr>\n",
              "    <tr>\n",
              "      <th>1</th>\n",
              "      <td>4646740</td>\n",
              "      <td>Normal/Mild</td>\n",
              "      <td>Normal/Mild</td>\n",
              "      <td>Moderate</td>\n",
              "      <td>Severe</td>\n",
              "      <td>Normal/Mild</td>\n",
              "      <td>Normal/Mild</td>\n",
              "      <td>Normal/Mild</td>\n",
              "      <td>Normal/Mild</td>\n",
              "      <td>Moderate</td>\n",
              "      <td>...</td>\n",
              "      <td>Normal/Mild</td>\n",
              "      <td>Normal/Mild</td>\n",
              "      <td>Normal/Mild</td>\n",
              "      <td>Severe</td>\n",
              "      <td>Normal/Mild</td>\n",
              "      <td>Normal/Mild</td>\n",
              "      <td>Moderate</td>\n",
              "      <td>Moderate</td>\n",
              "      <td>Moderate</td>\n",
              "      <td>Normal/Mild</td>\n",
              "    </tr>\n",
              "    <tr>\n",
              "      <th>2</th>\n",
              "      <td>7143189</td>\n",
              "      <td>Normal/Mild</td>\n",
              "      <td>Normal/Mild</td>\n",
              "      <td>Normal/Mild</td>\n",
              "      <td>Normal/Mild</td>\n",
              "      <td>Normal/Mild</td>\n",
              "      <td>Normal/Mild</td>\n",
              "      <td>Normal/Mild</td>\n",
              "      <td>Normal/Mild</td>\n",
              "      <td>Normal/Mild</td>\n",
              "      <td>...</td>\n",
              "      <td>Normal/Mild</td>\n",
              "      <td>Normal/Mild</td>\n",
              "      <td>Normal/Mild</td>\n",
              "      <td>Normal/Mild</td>\n",
              "      <td>Normal/Mild</td>\n",
              "      <td>Normal/Mild</td>\n",
              "      <td>Normal/Mild</td>\n",
              "      <td>Normal/Mild</td>\n",
              "      <td>Normal/Mild</td>\n",
              "      <td>Normal/Mild</td>\n",
              "    </tr>\n",
              "    <tr>\n",
              "      <th>3</th>\n",
              "      <td>8785691</td>\n",
              "      <td>Normal/Mild</td>\n",
              "      <td>Normal/Mild</td>\n",
              "      <td>Normal/Mild</td>\n",
              "      <td>Normal/Mild</td>\n",
              "      <td>Normal/Mild</td>\n",
              "      <td>Normal/Mild</td>\n",
              "      <td>Normal/Mild</td>\n",
              "      <td>Normal/Mild</td>\n",
              "      <td>Moderate</td>\n",
              "      <td>...</td>\n",
              "      <td>Normal/Mild</td>\n",
              "      <td>Normal/Mild</td>\n",
              "      <td>Normal/Mild</td>\n",
              "      <td>Normal/Mild</td>\n",
              "      <td>Normal/Mild</td>\n",
              "      <td>Normal/Mild</td>\n",
              "      <td>Normal/Mild</td>\n",
              "      <td>Normal/Mild</td>\n",
              "      <td>Normal/Mild</td>\n",
              "      <td>Normal/Mild</td>\n",
              "    </tr>\n",
              "    <tr>\n",
              "      <th>4</th>\n",
              "      <td>10728036</td>\n",
              "      <td>Normal/Mild</td>\n",
              "      <td>Normal/Mild</td>\n",
              "      <td>Normal/Mild</td>\n",
              "      <td>Normal/Mild</td>\n",
              "      <td>Normal/Mild</td>\n",
              "      <td>Normal/Mild</td>\n",
              "      <td>Normal/Mild</td>\n",
              "      <td>Normal/Mild</td>\n",
              "      <td>Normal/Mild</td>\n",
              "      <td>...</td>\n",
              "      <td>Normal/Mild</td>\n",
              "      <td>Normal/Mild</td>\n",
              "      <td>Normal/Mild</td>\n",
              "      <td>Normal/Mild</td>\n",
              "      <td>Normal/Mild</td>\n",
              "      <td>Normal/Mild</td>\n",
              "      <td>Normal/Mild</td>\n",
              "      <td>Normal/Mild</td>\n",
              "      <td>Moderate</td>\n",
              "      <td>Normal/Mild</td>\n",
              "    </tr>\n",
              "  </tbody>\n",
              "</table>\n",
              "<p>5 rows × 26 columns</p>\n",
              "</div>\n",
              "    <div class=\"colab-df-buttons\">\n",
              "\n",
              "  <div class=\"colab-df-container\">\n",
              "    <button class=\"colab-df-convert\" onclick=\"convertToInteractive('df-e61ea4cb-abc0-49dd-bfc6-43c052579923')\"\n",
              "            title=\"Convert this dataframe to an interactive table.\"\n",
              "            style=\"display:none;\">\n",
              "\n",
              "  <svg xmlns=\"http://www.w3.org/2000/svg\" height=\"24px\" viewBox=\"0 -960 960 960\">\n",
              "    <path d=\"M120-120v-720h720v720H120Zm60-500h600v-160H180v160Zm220 220h160v-160H400v160Zm0 220h160v-160H400v160ZM180-400h160v-160H180v160Zm440 0h160v-160H620v160ZM180-180h160v-160H180v160Zm440 0h160v-160H620v160Z\"/>\n",
              "  </svg>\n",
              "    </button>\n",
              "\n",
              "  <style>\n",
              "    .colab-df-container {\n",
              "      display:flex;\n",
              "      gap: 12px;\n",
              "    }\n",
              "\n",
              "    .colab-df-convert {\n",
              "      background-color: #E8F0FE;\n",
              "      border: none;\n",
              "      border-radius: 50%;\n",
              "      cursor: pointer;\n",
              "      display: none;\n",
              "      fill: #1967D2;\n",
              "      height: 32px;\n",
              "      padding: 0 0 0 0;\n",
              "      width: 32px;\n",
              "    }\n",
              "\n",
              "    .colab-df-convert:hover {\n",
              "      background-color: #E2EBFA;\n",
              "      box-shadow: 0px 1px 2px rgba(60, 64, 67, 0.3), 0px 1px 3px 1px rgba(60, 64, 67, 0.15);\n",
              "      fill: #174EA6;\n",
              "    }\n",
              "\n",
              "    .colab-df-buttons div {\n",
              "      margin-bottom: 4px;\n",
              "    }\n",
              "\n",
              "    [theme=dark] .colab-df-convert {\n",
              "      background-color: #3B4455;\n",
              "      fill: #D2E3FC;\n",
              "    }\n",
              "\n",
              "    [theme=dark] .colab-df-convert:hover {\n",
              "      background-color: #434B5C;\n",
              "      box-shadow: 0px 1px 3px 1px rgba(0, 0, 0, 0.15);\n",
              "      filter: drop-shadow(0px 1px 2px rgba(0, 0, 0, 0.3));\n",
              "      fill: #FFFFFF;\n",
              "    }\n",
              "  </style>\n",
              "\n",
              "    <script>\n",
              "      const buttonEl =\n",
              "        document.querySelector('#df-e61ea4cb-abc0-49dd-bfc6-43c052579923 button.colab-df-convert');\n",
              "      buttonEl.style.display =\n",
              "        google.colab.kernel.accessAllowed ? 'block' : 'none';\n",
              "\n",
              "      async function convertToInteractive(key) {\n",
              "        const element = document.querySelector('#df-e61ea4cb-abc0-49dd-bfc6-43c052579923');\n",
              "        const dataTable =\n",
              "          await google.colab.kernel.invokeFunction('convertToInteractive',\n",
              "                                                    [key], {});\n",
              "        if (!dataTable) return;\n",
              "\n",
              "        const docLinkHtml = 'Like what you see? Visit the ' +\n",
              "          '<a target=\"_blank\" href=https://colab.research.google.com/notebooks/data_table.ipynb>data table notebook</a>'\n",
              "          + ' to learn more about interactive tables.';\n",
              "        element.innerHTML = '';\n",
              "        dataTable['output_type'] = 'display_data';\n",
              "        await google.colab.output.renderOutput(dataTable, element);\n",
              "        const docLink = document.createElement('div');\n",
              "        docLink.innerHTML = docLinkHtml;\n",
              "        element.appendChild(docLink);\n",
              "      }\n",
              "    </script>\n",
              "  </div>\n",
              "\n",
              "\n",
              "<div id=\"df-61120fac-caf5-494b-ae9b-9eec95003ce5\">\n",
              "  <button class=\"colab-df-quickchart\" onclick=\"quickchart('df-61120fac-caf5-494b-ae9b-9eec95003ce5')\"\n",
              "            title=\"Suggest charts\"\n",
              "            style=\"display:none;\">\n",
              "\n",
              "<svg xmlns=\"http://www.w3.org/2000/svg\" height=\"24px\"viewBox=\"0 0 24 24\"\n",
              "     width=\"24px\">\n",
              "    <g>\n",
              "        <path d=\"M19 3H5c-1.1 0-2 .9-2 2v14c0 1.1.9 2 2 2h14c1.1 0 2-.9 2-2V5c0-1.1-.9-2-2-2zM9 17H7v-7h2v7zm4 0h-2V7h2v10zm4 0h-2v-4h2v4z\"/>\n",
              "    </g>\n",
              "</svg>\n",
              "  </button>\n",
              "\n",
              "<style>\n",
              "  .colab-df-quickchart {\n",
              "      --bg-color: #E8F0FE;\n",
              "      --fill-color: #1967D2;\n",
              "      --hover-bg-color: #E2EBFA;\n",
              "      --hover-fill-color: #174EA6;\n",
              "      --disabled-fill-color: #AAA;\n",
              "      --disabled-bg-color: #DDD;\n",
              "  }\n",
              "\n",
              "  [theme=dark] .colab-df-quickchart {\n",
              "      --bg-color: #3B4455;\n",
              "      --fill-color: #D2E3FC;\n",
              "      --hover-bg-color: #434B5C;\n",
              "      --hover-fill-color: #FFFFFF;\n",
              "      --disabled-bg-color: #3B4455;\n",
              "      --disabled-fill-color: #666;\n",
              "  }\n",
              "\n",
              "  .colab-df-quickchart {\n",
              "    background-color: var(--bg-color);\n",
              "    border: none;\n",
              "    border-radius: 50%;\n",
              "    cursor: pointer;\n",
              "    display: none;\n",
              "    fill: var(--fill-color);\n",
              "    height: 32px;\n",
              "    padding: 0;\n",
              "    width: 32px;\n",
              "  }\n",
              "\n",
              "  .colab-df-quickchart:hover {\n",
              "    background-color: var(--hover-bg-color);\n",
              "    box-shadow: 0 1px 2px rgba(60, 64, 67, 0.3), 0 1px 3px 1px rgba(60, 64, 67, 0.15);\n",
              "    fill: var(--button-hover-fill-color);\n",
              "  }\n",
              "\n",
              "  .colab-df-quickchart-complete:disabled,\n",
              "  .colab-df-quickchart-complete:disabled:hover {\n",
              "    background-color: var(--disabled-bg-color);\n",
              "    fill: var(--disabled-fill-color);\n",
              "    box-shadow: none;\n",
              "  }\n",
              "\n",
              "  .colab-df-spinner {\n",
              "    border: 2px solid var(--fill-color);\n",
              "    border-color: transparent;\n",
              "    border-bottom-color: var(--fill-color);\n",
              "    animation:\n",
              "      spin 1s steps(1) infinite;\n",
              "  }\n",
              "\n",
              "  @keyframes spin {\n",
              "    0% {\n",
              "      border-color: transparent;\n",
              "      border-bottom-color: var(--fill-color);\n",
              "      border-left-color: var(--fill-color);\n",
              "    }\n",
              "    20% {\n",
              "      border-color: transparent;\n",
              "      border-left-color: var(--fill-color);\n",
              "      border-top-color: var(--fill-color);\n",
              "    }\n",
              "    30% {\n",
              "      border-color: transparent;\n",
              "      border-left-color: var(--fill-color);\n",
              "      border-top-color: var(--fill-color);\n",
              "      border-right-color: var(--fill-color);\n",
              "    }\n",
              "    40% {\n",
              "      border-color: transparent;\n",
              "      border-right-color: var(--fill-color);\n",
              "      border-top-color: var(--fill-color);\n",
              "    }\n",
              "    60% {\n",
              "      border-color: transparent;\n",
              "      border-right-color: var(--fill-color);\n",
              "    }\n",
              "    80% {\n",
              "      border-color: transparent;\n",
              "      border-right-color: var(--fill-color);\n",
              "      border-bottom-color: var(--fill-color);\n",
              "    }\n",
              "    90% {\n",
              "      border-color: transparent;\n",
              "      border-bottom-color: var(--fill-color);\n",
              "    }\n",
              "  }\n",
              "</style>\n",
              "\n",
              "  <script>\n",
              "    async function quickchart(key) {\n",
              "      const quickchartButtonEl =\n",
              "        document.querySelector('#' + key + ' button');\n",
              "      quickchartButtonEl.disabled = true;  // To prevent multiple clicks.\n",
              "      quickchartButtonEl.classList.add('colab-df-spinner');\n",
              "      try {\n",
              "        const charts = await google.colab.kernel.invokeFunction(\n",
              "            'suggestCharts', [key], {});\n",
              "      } catch (error) {\n",
              "        console.error('Error during call to suggestCharts:', error);\n",
              "      }\n",
              "      quickchartButtonEl.classList.remove('colab-df-spinner');\n",
              "      quickchartButtonEl.classList.add('colab-df-quickchart-complete');\n",
              "    }\n",
              "    (() => {\n",
              "      let quickchartButtonEl =\n",
              "        document.querySelector('#df-61120fac-caf5-494b-ae9b-9eec95003ce5 button');\n",
              "      quickchartButtonEl.style.display =\n",
              "        google.colab.kernel.accessAllowed ? 'block' : 'none';\n",
              "    })();\n",
              "  </script>\n",
              "</div>\n",
              "\n",
              "    </div>\n",
              "  </div>\n"
            ],
            "application/vnd.google.colaboratory.intrinsic+json": {
              "type": "dataframe",
              "variable_name": "df"
            }
          },
          "metadata": {},
          "execution_count": 7
        }
      ],
      "source": [
        "df = pd.read_csv(f'{INPUT_PATH}/train.csv')\n",
        "df.head()"
      ]
    },
    {
      "cell_type": "code",
      "execution_count": 8,
      "metadata": {
        "id": "cGygiTZDgpP8",
        "colab": {
          "base_uri": "https://localhost:8080/",
          "height": 256
        },
        "outputId": "80cf07b5-e38e-43f9-f445-29ef4d3bc8ec"
      },
      "outputs": [
        {
          "output_type": "execute_result",
          "data": {
            "text/plain": [
              "   study_id  spinal_canal_stenosis_l1_l2  spinal_canal_stenosis_l2_l3  \\\n",
              "0   4003253                            0                            0   \n",
              "1   4646740                            0                            0   \n",
              "2   7143189                            0                            0   \n",
              "3   8785691                            0                            0   \n",
              "4  10728036                            0                            0   \n",
              "\n",
              "   spinal_canal_stenosis_l3_l4  spinal_canal_stenosis_l4_l5  \\\n",
              "0                            0                            0   \n",
              "1                            1                            2   \n",
              "2                            0                            0   \n",
              "3                            0                            0   \n",
              "4                            0                            0   \n",
              "\n",
              "   spinal_canal_stenosis_l5_s1  left_neural_foraminal_narrowing_l1_l2  \\\n",
              "0                            0                                      0   \n",
              "1                            0                                      0   \n",
              "2                            0                                      0   \n",
              "3                            0                                      0   \n",
              "4                            0                                      0   \n",
              "\n",
              "   left_neural_foraminal_narrowing_l2_l3  \\\n",
              "0                                      0   \n",
              "1                                      0   \n",
              "2                                      0   \n",
              "3                                      0   \n",
              "4                                      0   \n",
              "\n",
              "   left_neural_foraminal_narrowing_l3_l4  \\\n",
              "0                                      0   \n",
              "1                                      0   \n",
              "2                                      0   \n",
              "3                                      0   \n",
              "4                                      0   \n",
              "\n",
              "   left_neural_foraminal_narrowing_l4_l5  ...  \\\n",
              "0                                      1  ...   \n",
              "1                                      1  ...   \n",
              "2                                      0  ...   \n",
              "3                                      1  ...   \n",
              "4                                      0  ...   \n",
              "\n",
              "   left_subarticular_stenosis_l1_l2  left_subarticular_stenosis_l2_l3  \\\n",
              "0                                 0                                 0   \n",
              "1                                 0                                 0   \n",
              "2                                 0                                 0   \n",
              "3                                 0                                 0   \n",
              "4                                 0                                 0   \n",
              "\n",
              "   left_subarticular_stenosis_l3_l4  left_subarticular_stenosis_l4_l5  \\\n",
              "0                                 0                                 1   \n",
              "1                                 0                                 2   \n",
              "2                                 0                                 0   \n",
              "3                                 0                                 0   \n",
              "4                                 0                                 0   \n",
              "\n",
              "   left_subarticular_stenosis_l5_s1  right_subarticular_stenosis_l1_l2  \\\n",
              "0                                 0                                  0   \n",
              "1                                 0                                  0   \n",
              "2                                 0                                  0   \n",
              "3                                 0                                  0   \n",
              "4                                 0                                  0   \n",
              "\n",
              "   right_subarticular_stenosis_l2_l3  right_subarticular_stenosis_l3_l4  \\\n",
              "0                                  0                                  0   \n",
              "1                                  1                                  1   \n",
              "2                                  0                                  0   \n",
              "3                                  0                                  0   \n",
              "4                                  0                                  0   \n",
              "\n",
              "   right_subarticular_stenosis_l4_l5  right_subarticular_stenosis_l5_s1  \n",
              "0                                  0                                  0  \n",
              "1                                  1                                  0  \n",
              "2                                  0                                  0  \n",
              "3                                  0                                  0  \n",
              "4                                  1                                  0  \n",
              "\n",
              "[5 rows x 26 columns]"
            ],
            "text/html": [
              "\n",
              "  <div id=\"df-64fd59b9-609a-4424-b612-90e5ecaaf445\" class=\"colab-df-container\">\n",
              "    <div>\n",
              "<style scoped>\n",
              "    .dataframe tbody tr th:only-of-type {\n",
              "        vertical-align: middle;\n",
              "    }\n",
              "\n",
              "    .dataframe tbody tr th {\n",
              "        vertical-align: top;\n",
              "    }\n",
              "\n",
              "    .dataframe thead th {\n",
              "        text-align: right;\n",
              "    }\n",
              "</style>\n",
              "<table border=\"1\" class=\"dataframe\">\n",
              "  <thead>\n",
              "    <tr style=\"text-align: right;\">\n",
              "      <th></th>\n",
              "      <th>study_id</th>\n",
              "      <th>spinal_canal_stenosis_l1_l2</th>\n",
              "      <th>spinal_canal_stenosis_l2_l3</th>\n",
              "      <th>spinal_canal_stenosis_l3_l4</th>\n",
              "      <th>spinal_canal_stenosis_l4_l5</th>\n",
              "      <th>spinal_canal_stenosis_l5_s1</th>\n",
              "      <th>left_neural_foraminal_narrowing_l1_l2</th>\n",
              "      <th>left_neural_foraminal_narrowing_l2_l3</th>\n",
              "      <th>left_neural_foraminal_narrowing_l3_l4</th>\n",
              "      <th>left_neural_foraminal_narrowing_l4_l5</th>\n",
              "      <th>...</th>\n",
              "      <th>left_subarticular_stenosis_l1_l2</th>\n",
              "      <th>left_subarticular_stenosis_l2_l3</th>\n",
              "      <th>left_subarticular_stenosis_l3_l4</th>\n",
              "      <th>left_subarticular_stenosis_l4_l5</th>\n",
              "      <th>left_subarticular_stenosis_l5_s1</th>\n",
              "      <th>right_subarticular_stenosis_l1_l2</th>\n",
              "      <th>right_subarticular_stenosis_l2_l3</th>\n",
              "      <th>right_subarticular_stenosis_l3_l4</th>\n",
              "      <th>right_subarticular_stenosis_l4_l5</th>\n",
              "      <th>right_subarticular_stenosis_l5_s1</th>\n",
              "    </tr>\n",
              "  </thead>\n",
              "  <tbody>\n",
              "    <tr>\n",
              "      <th>0</th>\n",
              "      <td>4003253</td>\n",
              "      <td>0</td>\n",
              "      <td>0</td>\n",
              "      <td>0</td>\n",
              "      <td>0</td>\n",
              "      <td>0</td>\n",
              "      <td>0</td>\n",
              "      <td>0</td>\n",
              "      <td>0</td>\n",
              "      <td>1</td>\n",
              "      <td>...</td>\n",
              "      <td>0</td>\n",
              "      <td>0</td>\n",
              "      <td>0</td>\n",
              "      <td>1</td>\n",
              "      <td>0</td>\n",
              "      <td>0</td>\n",
              "      <td>0</td>\n",
              "      <td>0</td>\n",
              "      <td>0</td>\n",
              "      <td>0</td>\n",
              "    </tr>\n",
              "    <tr>\n",
              "      <th>1</th>\n",
              "      <td>4646740</td>\n",
              "      <td>0</td>\n",
              "      <td>0</td>\n",
              "      <td>1</td>\n",
              "      <td>2</td>\n",
              "      <td>0</td>\n",
              "      <td>0</td>\n",
              "      <td>0</td>\n",
              "      <td>0</td>\n",
              "      <td>1</td>\n",
              "      <td>...</td>\n",
              "      <td>0</td>\n",
              "      <td>0</td>\n",
              "      <td>0</td>\n",
              "      <td>2</td>\n",
              "      <td>0</td>\n",
              "      <td>0</td>\n",
              "      <td>1</td>\n",
              "      <td>1</td>\n",
              "      <td>1</td>\n",
              "      <td>0</td>\n",
              "    </tr>\n",
              "    <tr>\n",
              "      <th>2</th>\n",
              "      <td>7143189</td>\n",
              "      <td>0</td>\n",
              "      <td>0</td>\n",
              "      <td>0</td>\n",
              "      <td>0</td>\n",
              "      <td>0</td>\n",
              "      <td>0</td>\n",
              "      <td>0</td>\n",
              "      <td>0</td>\n",
              "      <td>0</td>\n",
              "      <td>...</td>\n",
              "      <td>0</td>\n",
              "      <td>0</td>\n",
              "      <td>0</td>\n",
              "      <td>0</td>\n",
              "      <td>0</td>\n",
              "      <td>0</td>\n",
              "      <td>0</td>\n",
              "      <td>0</td>\n",
              "      <td>0</td>\n",
              "      <td>0</td>\n",
              "    </tr>\n",
              "    <tr>\n",
              "      <th>3</th>\n",
              "      <td>8785691</td>\n",
              "      <td>0</td>\n",
              "      <td>0</td>\n",
              "      <td>0</td>\n",
              "      <td>0</td>\n",
              "      <td>0</td>\n",
              "      <td>0</td>\n",
              "      <td>0</td>\n",
              "      <td>0</td>\n",
              "      <td>1</td>\n",
              "      <td>...</td>\n",
              "      <td>0</td>\n",
              "      <td>0</td>\n",
              "      <td>0</td>\n",
              "      <td>0</td>\n",
              "      <td>0</td>\n",
              "      <td>0</td>\n",
              "      <td>0</td>\n",
              "      <td>0</td>\n",
              "      <td>0</td>\n",
              "      <td>0</td>\n",
              "    </tr>\n",
              "    <tr>\n",
              "      <th>4</th>\n",
              "      <td>10728036</td>\n",
              "      <td>0</td>\n",
              "      <td>0</td>\n",
              "      <td>0</td>\n",
              "      <td>0</td>\n",
              "      <td>0</td>\n",
              "      <td>0</td>\n",
              "      <td>0</td>\n",
              "      <td>0</td>\n",
              "      <td>0</td>\n",
              "      <td>...</td>\n",
              "      <td>0</td>\n",
              "      <td>0</td>\n",
              "      <td>0</td>\n",
              "      <td>0</td>\n",
              "      <td>0</td>\n",
              "      <td>0</td>\n",
              "      <td>0</td>\n",
              "      <td>0</td>\n",
              "      <td>1</td>\n",
              "      <td>0</td>\n",
              "    </tr>\n",
              "  </tbody>\n",
              "</table>\n",
              "<p>5 rows × 26 columns</p>\n",
              "</div>\n",
              "    <div class=\"colab-df-buttons\">\n",
              "\n",
              "  <div class=\"colab-df-container\">\n",
              "    <button class=\"colab-df-convert\" onclick=\"convertToInteractive('df-64fd59b9-609a-4424-b612-90e5ecaaf445')\"\n",
              "            title=\"Convert this dataframe to an interactive table.\"\n",
              "            style=\"display:none;\">\n",
              "\n",
              "  <svg xmlns=\"http://www.w3.org/2000/svg\" height=\"24px\" viewBox=\"0 -960 960 960\">\n",
              "    <path d=\"M120-120v-720h720v720H120Zm60-500h600v-160H180v160Zm220 220h160v-160H400v160Zm0 220h160v-160H400v160ZM180-400h160v-160H180v160Zm440 0h160v-160H620v160ZM180-180h160v-160H180v160Zm440 0h160v-160H620v160Z\"/>\n",
              "  </svg>\n",
              "    </button>\n",
              "\n",
              "  <style>\n",
              "    .colab-df-container {\n",
              "      display:flex;\n",
              "      gap: 12px;\n",
              "    }\n",
              "\n",
              "    .colab-df-convert {\n",
              "      background-color: #E8F0FE;\n",
              "      border: none;\n",
              "      border-radius: 50%;\n",
              "      cursor: pointer;\n",
              "      display: none;\n",
              "      fill: #1967D2;\n",
              "      height: 32px;\n",
              "      padding: 0 0 0 0;\n",
              "      width: 32px;\n",
              "    }\n",
              "\n",
              "    .colab-df-convert:hover {\n",
              "      background-color: #E2EBFA;\n",
              "      box-shadow: 0px 1px 2px rgba(60, 64, 67, 0.3), 0px 1px 3px 1px rgba(60, 64, 67, 0.15);\n",
              "      fill: #174EA6;\n",
              "    }\n",
              "\n",
              "    .colab-df-buttons div {\n",
              "      margin-bottom: 4px;\n",
              "    }\n",
              "\n",
              "    [theme=dark] .colab-df-convert {\n",
              "      background-color: #3B4455;\n",
              "      fill: #D2E3FC;\n",
              "    }\n",
              "\n",
              "    [theme=dark] .colab-df-convert:hover {\n",
              "      background-color: #434B5C;\n",
              "      box-shadow: 0px 1px 3px 1px rgba(0, 0, 0, 0.15);\n",
              "      filter: drop-shadow(0px 1px 2px rgba(0, 0, 0, 0.3));\n",
              "      fill: #FFFFFF;\n",
              "    }\n",
              "  </style>\n",
              "\n",
              "    <script>\n",
              "      const buttonEl =\n",
              "        document.querySelector('#df-64fd59b9-609a-4424-b612-90e5ecaaf445 button.colab-df-convert');\n",
              "      buttonEl.style.display =\n",
              "        google.colab.kernel.accessAllowed ? 'block' : 'none';\n",
              "\n",
              "      async function convertToInteractive(key) {\n",
              "        const element = document.querySelector('#df-64fd59b9-609a-4424-b612-90e5ecaaf445');\n",
              "        const dataTable =\n",
              "          await google.colab.kernel.invokeFunction('convertToInteractive',\n",
              "                                                    [key], {});\n",
              "        if (!dataTable) return;\n",
              "\n",
              "        const docLinkHtml = 'Like what you see? Visit the ' +\n",
              "          '<a target=\"_blank\" href=https://colab.research.google.com/notebooks/data_table.ipynb>data table notebook</a>'\n",
              "          + ' to learn more about interactive tables.';\n",
              "        element.innerHTML = '';\n",
              "        dataTable['output_type'] = 'display_data';\n",
              "        await google.colab.output.renderOutput(dataTable, element);\n",
              "        const docLink = document.createElement('div');\n",
              "        docLink.innerHTML = docLinkHtml;\n",
              "        element.appendChild(docLink);\n",
              "      }\n",
              "    </script>\n",
              "  </div>\n",
              "\n",
              "\n",
              "<div id=\"df-76c677d4-7ec2-4609-9d75-fdc3ee234452\">\n",
              "  <button class=\"colab-df-quickchart\" onclick=\"quickchart('df-76c677d4-7ec2-4609-9d75-fdc3ee234452')\"\n",
              "            title=\"Suggest charts\"\n",
              "            style=\"display:none;\">\n",
              "\n",
              "<svg xmlns=\"http://www.w3.org/2000/svg\" height=\"24px\"viewBox=\"0 0 24 24\"\n",
              "     width=\"24px\">\n",
              "    <g>\n",
              "        <path d=\"M19 3H5c-1.1 0-2 .9-2 2v14c0 1.1.9 2 2 2h14c1.1 0 2-.9 2-2V5c0-1.1-.9-2-2-2zM9 17H7v-7h2v7zm4 0h-2V7h2v10zm4 0h-2v-4h2v4z\"/>\n",
              "    </g>\n",
              "</svg>\n",
              "  </button>\n",
              "\n",
              "<style>\n",
              "  .colab-df-quickchart {\n",
              "      --bg-color: #E8F0FE;\n",
              "      --fill-color: #1967D2;\n",
              "      --hover-bg-color: #E2EBFA;\n",
              "      --hover-fill-color: #174EA6;\n",
              "      --disabled-fill-color: #AAA;\n",
              "      --disabled-bg-color: #DDD;\n",
              "  }\n",
              "\n",
              "  [theme=dark] .colab-df-quickchart {\n",
              "      --bg-color: #3B4455;\n",
              "      --fill-color: #D2E3FC;\n",
              "      --hover-bg-color: #434B5C;\n",
              "      --hover-fill-color: #FFFFFF;\n",
              "      --disabled-bg-color: #3B4455;\n",
              "      --disabled-fill-color: #666;\n",
              "  }\n",
              "\n",
              "  .colab-df-quickchart {\n",
              "    background-color: var(--bg-color);\n",
              "    border: none;\n",
              "    border-radius: 50%;\n",
              "    cursor: pointer;\n",
              "    display: none;\n",
              "    fill: var(--fill-color);\n",
              "    height: 32px;\n",
              "    padding: 0;\n",
              "    width: 32px;\n",
              "  }\n",
              "\n",
              "  .colab-df-quickchart:hover {\n",
              "    background-color: var(--hover-bg-color);\n",
              "    box-shadow: 0 1px 2px rgba(60, 64, 67, 0.3), 0 1px 3px 1px rgba(60, 64, 67, 0.15);\n",
              "    fill: var(--button-hover-fill-color);\n",
              "  }\n",
              "\n",
              "  .colab-df-quickchart-complete:disabled,\n",
              "  .colab-df-quickchart-complete:disabled:hover {\n",
              "    background-color: var(--disabled-bg-color);\n",
              "    fill: var(--disabled-fill-color);\n",
              "    box-shadow: none;\n",
              "  }\n",
              "\n",
              "  .colab-df-spinner {\n",
              "    border: 2px solid var(--fill-color);\n",
              "    border-color: transparent;\n",
              "    border-bottom-color: var(--fill-color);\n",
              "    animation:\n",
              "      spin 1s steps(1) infinite;\n",
              "  }\n",
              "\n",
              "  @keyframes spin {\n",
              "    0% {\n",
              "      border-color: transparent;\n",
              "      border-bottom-color: var(--fill-color);\n",
              "      border-left-color: var(--fill-color);\n",
              "    }\n",
              "    20% {\n",
              "      border-color: transparent;\n",
              "      border-left-color: var(--fill-color);\n",
              "      border-top-color: var(--fill-color);\n",
              "    }\n",
              "    30% {\n",
              "      border-color: transparent;\n",
              "      border-left-color: var(--fill-color);\n",
              "      border-top-color: var(--fill-color);\n",
              "      border-right-color: var(--fill-color);\n",
              "    }\n",
              "    40% {\n",
              "      border-color: transparent;\n",
              "      border-right-color: var(--fill-color);\n",
              "      border-top-color: var(--fill-color);\n",
              "    }\n",
              "    60% {\n",
              "      border-color: transparent;\n",
              "      border-right-color: var(--fill-color);\n",
              "    }\n",
              "    80% {\n",
              "      border-color: transparent;\n",
              "      border-right-color: var(--fill-color);\n",
              "      border-bottom-color: var(--fill-color);\n",
              "    }\n",
              "    90% {\n",
              "      border-color: transparent;\n",
              "      border-bottom-color: var(--fill-color);\n",
              "    }\n",
              "  }\n",
              "</style>\n",
              "\n",
              "  <script>\n",
              "    async function quickchart(key) {\n",
              "      const quickchartButtonEl =\n",
              "        document.querySelector('#' + key + ' button');\n",
              "      quickchartButtonEl.disabled = true;  // To prevent multiple clicks.\n",
              "      quickchartButtonEl.classList.add('colab-df-spinner');\n",
              "      try {\n",
              "        const charts = await google.colab.kernel.invokeFunction(\n",
              "            'suggestCharts', [key], {});\n",
              "      } catch (error) {\n",
              "        console.error('Error during call to suggestCharts:', error);\n",
              "      }\n",
              "      quickchartButtonEl.classList.remove('colab-df-spinner');\n",
              "      quickchartButtonEl.classList.add('colab-df-quickchart-complete');\n",
              "    }\n",
              "    (() => {\n",
              "      let quickchartButtonEl =\n",
              "        document.querySelector('#df-76c677d4-7ec2-4609-9d75-fdc3ee234452 button');\n",
              "      quickchartButtonEl.style.display =\n",
              "        google.colab.kernel.accessAllowed ? 'block' : 'none';\n",
              "    })();\n",
              "  </script>\n",
              "</div>\n",
              "\n",
              "    </div>\n",
              "  </div>\n"
            ],
            "application/vnd.google.colaboratory.intrinsic+json": {
              "type": "dataframe",
              "variable_name": "df"
            }
          },
          "metadata": {},
          "execution_count": 8
        }
      ],
      "source": [
        "df = df.fillna(-100)\n",
        "label2id = {'Normal/Mild': 0, 'Moderate':1, 'Severe':2}\n",
        "df = df.replace(label2id)\n",
        "df.head()"
      ]
    },
    {
      "cell_type": "code",
      "execution_count": 9,
      "metadata": {
        "id": "nXrQxXAH18-z",
        "colab": {
          "base_uri": "https://localhost:8080/"
        },
        "outputId": "64a92031-7e8a-4949-a51c-a7e42d6f972f"
      },
      "outputs": [
        {
          "output_type": "stream",
          "name": "stdout",
          "text": [
            "1975\n",
            "1972\n"
          ]
        }
      ],
      "source": [
        "# 예외처리 할 study_id들 제거\n",
        "\n",
        "print(len(df))\n",
        "\n",
        "study_ids_to_remove = [3008676218, 2780132468, 2492114990]\n",
        "df = df[~df['study_id'].isin(study_ids_to_remove)]\n",
        "\n",
        "print(len(df))"
      ]
    },
    {
      "cell_type": "code",
      "execution_count": 10,
      "metadata": {
        "id": "bWO7SMvFT-Jt"
      },
      "outputs": [],
      "source": [
        "MODEL_CONFIGS = {\n",
        "    'sagittal_t1': {'in_chans': 10, 'n_labels': 10, 'start_channel': 0},\n",
        "    'sagittal_t2_stir': {'in_chans': 10, 'n_labels': 5, 'start_channel': 10},\n",
        "    'axial_t2': {'in_chans': 20, 'n_labels': 10, 'start_channel': 20}\n",
        "}\n",
        "\n",
        "class RSNA24Dataset(Dataset):\n",
        "    def __init__(self, df, phase='train', transform=None, model_type='sagittal_t1'):\n",
        "        self.df = df\n",
        "        self.transform = transform\n",
        "        self.phase = phase\n",
        "        self.model_type = model_type\n",
        "        self.config = MODEL_CONFIGS[model_type]\n",
        "\n",
        "    def __len__(self):\n",
        "        return len(self.df)\n",
        "\n",
        "    def __getitem__(self, idx):\n",
        "        x = np.zeros((512, 512, self.config['in_chans']), dtype=np.uint8)\n",
        "        t = self.df.iloc[idx]\n",
        "        st_id = int(t['study_id'])\n",
        "\n",
        "        # Select labels based on the model type\n",
        "        if self.model_type == 'sagittal_t1':\n",
        "            label_cols = [col for col in self.df.columns if 'neural_foraminal_narrowing' in col]\n",
        "        elif self.model_type == 'sagittal_t2_stir':\n",
        "            label_cols = [col for col in self.df.columns if 'spinal_canal_stenosis' in col]\n",
        "        else:  # axial_t2\n",
        "            label_cols = [col for col in self.df.columns if 'subarticular_stenosis' in col]\n",
        "\n",
        "        label = t[label_cols].values.astype(np.int64)\n",
        "\n",
        "        start_channel = self.config['start_channel']\n",
        "        for i in range(self.config['in_chans']):\n",
        "            try:\n",
        "                if self.model_type == 'sagittal_t1':\n",
        "                    img_path = f'{PNG_PATH}/cvt_png/{st_id}/Sagittal T1/{i+1:02d}.png'\n",
        "                elif self.model_type == 'sagittal_t2_stir':\n",
        "                    img_path = f'{PNG_PATH}/cvt_png/{st_id}/Sagittal T2_STIR/{i+1:02d}.png'\n",
        "                else:  # axial_t2\n",
        "                    img_path = f'{PNG_PATH}/cvt_png/{st_id}/Axial T2/{i+1:02d}.png'\n",
        "\n",
        "                img = Image.open(img_path).convert('L')\n",
        "                img = np.array(img)\n",
        "                x[..., i] = img.astype(np.uint8)\n",
        "            except:\n",
        "                print(f'failed to load on {st_id}, {self.model_type}')\n",
        "\n",
        "        if self.transform is not None:\n",
        "            x = self.transform(image=x)['image']\n",
        "        x = x.transpose(2, 0, 1)\n",
        "\n",
        "        return x, label"
      ]
    },
    {
      "cell_type": "code",
      "execution_count": 11,
      "metadata": {
        "id": "_s_VAtqaNjr-",
        "colab": {
          "base_uri": "https://localhost:8080/"
        },
        "outputId": "79e30c04-9949-42e9-95ec-162e73da320c"
      },
      "outputs": [
        {
          "output_type": "stream",
          "name": "stderr",
          "text": [
            "/usr/local/lib/python3.10/dist-packages/pydantic/main.py:193: UserWarning: blur_limit and sigma_limit minimum value can not be both equal to 0. blur_limit minimum value changed to 3.\n",
            "  self.__pydantic_validator__.validate_python(data, self_instance=self)\n"
          ]
        }
      ],
      "source": [
        "transforms_train = A.Compose([\n",
        "    A.RandomBrightnessContrast(brightness_limit=(-0.2, 0.2), contrast_limit=(-0.2, 0.2), p=AUG_PROB),\n",
        "    A.ShiftScaleRotate(shift_limit=0.1, scale_limit=0.1, rotate_limit=15, border_mode=0, p=AUG_PROB),\n",
        "    A.OneOf([\n",
        "        A.MotionBlur(blur_limit=3),\n",
        "        A.MedianBlur(blur_limit=3),\n",
        "        A.GaussianBlur(blur_limit=3),\n",
        "        A.GaussNoise(var_limit=(3.0, 9.0)),\n",
        "    ], p=AUG_PROB),\n",
        "    A.OneOf([\n",
        "        A.OpticalDistortion(distort_limit=1.0),\n",
        "        A.GridDistortion(num_steps=5, distort_limit=1.0),\n",
        "        A.ElasticTransform(alpha=3),\n",
        "    ], p=AUG_PROB),\n",
        "    A.ShiftScaleRotate(shift_limit=0.1, scale_limit=0.1, rotate_limit=15, border_mode=0, p=AUG_PROB),\n",
        "    A.Resize(IMG_SIZE[0], IMG_SIZE[1]),\n",
        "    A.CoarseDropout(max_holes=16, max_height=int(IMG_SIZE[0] * 0.125), max_width=int(IMG_SIZE[1] * 0.125),\n",
        "                    min_holes=1, min_height=int(IMG_SIZE[0] * 0.03125), min_width=int(IMG_SIZE[1] * 0.03125),\n",
        "                    p=AUG_PROB),\n",
        "    A.Normalize(mean=0.5, std=0.5)\n",
        "])\n",
        "\n",
        "transforms_val = A.Compose([\n",
        "    A.Resize(IMG_SIZE[0], IMG_SIZE[1]),\n",
        "    A.Normalize(mean=0.5, std=0.5)\n",
        "])"
      ]
    },
    {
      "cell_type": "code",
      "execution_count": 12,
      "metadata": {
        "id": "kneTiNjgyrL0"
      },
      "outputs": [],
      "source": [
        "class ClassificationModule(nn.Module):\n",
        "#     def __init__(self, in_channels, num_classes, hidden_dim=512):\n",
        "#         super().__init__()\n",
        "#         self.conv = nn.Conv2d(in_channels, hidden_dim, kernel_size=3, padding=1)\n",
        "#         self.bn = nn.BatchNorm2d(hidden_dim)\n",
        "#         self.pool = nn.AdaptiveAvgPool2d(1)\n",
        "#         self.fc = nn.Linear(hidden_dim, num_classes)\n",
        "\n",
        "#     def forward(self, x):\n",
        "#         x = torch.relu(self.bn(self.conv(x)))\n",
        "#         x = self.pool(x)\n",
        "#         x = x.view(x.size(0), -1)\n",
        "#         x = self.fc(x)\n",
        "#         return x\n",
        "\n",
        "    def __init__(self, in_channels, num_classes, hidden_dim=512):\n",
        "        super().__init__()\n",
        "        self.conv1 = nn.Conv2d(in_channels, hidden_dim, kernel_size=3, padding=1)\n",
        "        self.bn1 = nn.BatchNorm2d(hidden_dim)\n",
        "        self.conv2 = nn.Conv2d(hidden_dim, hidden_dim, kernel_size=3, padding=1)\n",
        "        self.bn2 = nn.BatchNorm2d(hidden_dim)\n",
        "        self.pool = nn.AdaptiveAvgPool2d(1)\n",
        "        self.fc = nn.Linear(hidden_dim, num_classes)\n",
        "\n",
        "    def forward(self, x):\n",
        "        x = torch.relu(self.bn1(self.conv1(x)))\n",
        "        x = torch.relu(self.bn2(self.conv2(x)))\n",
        "        x = self.pool(x)\n",
        "        x = x.view(x.size(0), -1)\n",
        "        x = self.fc(x)\n",
        "        return x\n",
        "\n",
        "class RSNA24Model(nn.Module):\n",
        "    def __init__(self, base_model_name, in_chans, num_classes, pretrained=True):\n",
        "        super().__init__()\n",
        "        self.base_model = timm.create_model(base_model_name, pretrained=pretrained, in_chans=in_chans, features_only=True)\n",
        "\n",
        "        # Get the number of output features from the last layer of the base model\n",
        "        with torch.no_grad():\n",
        "            dummy_input = torch.randn(1, in_chans, IMG_SIZE[0], IMG_SIZE[1])\n",
        "            features = self.base_model(dummy_input)\n",
        "            in_features = features[-1].shape[1]\n",
        "\n",
        "        self.classification_module = ClassificationModule(in_features, num_classes)\n",
        "\n",
        "    def forward(self, x):\n",
        "        features = self.base_model(x)\n",
        "        output = self.classification_module(features[-1])\n",
        "        return output.view(output.size(0), -1)"
      ]
    },
    {
      "cell_type": "code",
      "source": [
        "# Setup automatic mixed precision (AMP) for faster training and reduced memory usage\n",
        "# autocast = torch.cuda.amp.autocast(enabled=USE_AMP, dtype=torch.bfloat16) # for newer Ampere GPUs\n",
        "autocast = torch.cuda.amp.autocast(enabled=USE_AMP, dtype=torch.half) # for T4 or newer GPUs\n",
        "\n",
        "# Initialize gradient scaler for AMP\n",
        "scaler = torch.cuda.amp.GradScaler(enabled=USE_AMP, init_scale=4096)\n"
      ],
      "metadata": {
        "colab": {
          "base_uri": "https://localhost:8080/"
        },
        "id": "uoZ1i-kwnhPS",
        "outputId": "92525066-360b-4fd6-922b-e52a5b191726"
      },
      "execution_count": 14,
      "outputs": [
        {
          "output_type": "stream",
          "name": "stderr",
          "text": [
            "<ipython-input-14-03dd172529ea>:3: FutureWarning: `torch.cuda.amp.autocast(args...)` is deprecated. Please use `torch.amp.autocast('cuda', args...)` instead.\n",
            "  autocast = torch.cuda.amp.autocast(enabled=USE_AMP, dtype=torch.half) # for T4 or newer GPUs\n",
            "<ipython-input-14-03dd172529ea>:6: FutureWarning: `torch.cuda.amp.GradScaler(args...)` is deprecated. Please use `torch.amp.GradScaler('cuda', args...)` instead.\n",
            "  scaler = torch.cuda.amp.GradScaler(enabled=USE_AMP, init_scale=4096)\n"
          ]
        }
      ]
    },
    {
      "cell_type": "code",
      "execution_count": 20,
      "metadata": {
        "colab": {
          "base_uri": "https://localhost:8080/"
        },
        "id": "RdwhuWXFzjZM",
        "outputId": "ce4c3d07-8a48-4539-f8c0-8bea27b540ff"
      },
      "outputs": [
        {
          "output_type": "stream",
          "name": "stderr",
          "text": [
            "<ipython-input-20-824e6ec4469c>:3: FutureWarning: `torch.cuda.amp.autocast(args...)` is deprecated. Please use `torch.amp.autocast('cuda', args...)` instead.\n",
            "  autocast = torch.cuda.amp.autocast(enabled=USE_AMP, dtype=torch.half) # for T4 or newer GPUs\n",
            "<ipython-input-20-824e6ec4469c>:6: FutureWarning: `torch.cuda.amp.GradScaler(args...)` is deprecated. Please use `torch.amp.GradScaler('cuda', args...)` instead.\n",
            "  scaler = torch.cuda.amp.GradScaler(enabled=USE_AMP, init_scale=4096)\n"
          ]
        },
        {
          "output_type": "stream",
          "name": "stdout",
          "text": [
            "##############################\n",
            "start fold 0 for sagittal_t1\n",
            "##############################\n"
          ]
        },
        {
          "output_type": "stream",
          "name": "stderr",
          "text": [
            "100%|██████████| 49/49 [00:33<00:00,  1.44it/s]\n"
          ]
        },
        {
          "output_type": "stream",
          "name": "stdout",
          "text": [
            "train_loss: 1.004290\n"
          ]
        },
        {
          "output_type": "stream",
          "name": "stderr",
          "text": [
            "100%|██████████| 13/13 [00:03<00:00,  3.83it/s]\n"
          ]
        },
        {
          "output_type": "stream",
          "name": "stdout",
          "text": [
            "val_loss: 0.790319, val_wll: 0.842007\n",
            "epoch: 1, best loss updated from 1.098612 to 0.790319\n",
            "epoch: 1, best wll_metric updated from 1.098612 to 0.842007\n"
          ]
        },
        {
          "output_type": "stream",
          "name": "stderr",
          "text": [
            "100%|██████████| 49/49 [00:34<00:00,  1.41it/s]\n"
          ]
        },
        {
          "output_type": "stream",
          "name": "stdout",
          "text": [
            "train_loss: 0.760100\n"
          ]
        },
        {
          "output_type": "stream",
          "name": "stderr",
          "text": [
            "100%|██████████| 13/13 [00:03<00:00,  4.09it/s]\n"
          ]
        },
        {
          "output_type": "stream",
          "name": "stdout",
          "text": [
            "val_loss: 0.694750, val_wll: 0.745486\n",
            "epoch: 2, best loss updated from 0.790319 to 0.694750\n",
            "epoch: 2, best wll_metric updated from 0.842007 to 0.745486\n"
          ]
        },
        {
          "output_type": "stream",
          "name": "stderr",
          "text": [
            "100%|██████████| 49/49 [00:33<00:00,  1.47it/s]\n"
          ]
        },
        {
          "output_type": "stream",
          "name": "stdout",
          "text": [
            "train_loss: 0.701418\n"
          ]
        },
        {
          "output_type": "stream",
          "name": "stderr",
          "text": [
            "100%|██████████| 13/13 [00:03<00:00,  3.85it/s]\n"
          ]
        },
        {
          "output_type": "stream",
          "name": "stdout",
          "text": [
            "val_loss: 0.714382, val_wll: 0.758916\n"
          ]
        },
        {
          "output_type": "stream",
          "name": "stderr",
          "text": [
            "100%|██████████| 49/49 [00:34<00:00,  1.43it/s]\n"
          ]
        },
        {
          "output_type": "stream",
          "name": "stdout",
          "text": [
            "train_loss: 0.669293\n"
          ]
        },
        {
          "output_type": "stream",
          "name": "stderr",
          "text": [
            "100%|██████████| 13/13 [00:03<00:00,  4.05it/s]\n"
          ]
        },
        {
          "output_type": "stream",
          "name": "stdout",
          "text": [
            "val_loss: 0.656352, val_wll: 0.706149\n",
            "epoch: 4, best loss updated from 0.694750 to 0.656352\n",
            "epoch: 4, best wll_metric updated from 0.745486 to 0.706149\n"
          ]
        },
        {
          "output_type": "stream",
          "name": "stderr",
          "text": [
            "100%|██████████| 49/49 [00:34<00:00,  1.40it/s]\n"
          ]
        },
        {
          "output_type": "stream",
          "name": "stdout",
          "text": [
            "train_loss: 0.640227\n"
          ]
        },
        {
          "output_type": "stream",
          "name": "stderr",
          "text": [
            "100%|██████████| 13/13 [00:03<00:00,  3.96it/s]\n"
          ]
        },
        {
          "output_type": "stream",
          "name": "stdout",
          "text": [
            "val_loss: 0.631557, val_wll: 0.678360\n",
            "epoch: 5, best loss updated from 0.656352 to 0.631557\n",
            "epoch: 5, best wll_metric updated from 0.706149 to 0.678360\n"
          ]
        },
        {
          "output_type": "stream",
          "name": "stderr",
          "text": [
            "100%|██████████| 49/49 [00:34<00:00,  1.41it/s]\n"
          ]
        },
        {
          "output_type": "stream",
          "name": "stdout",
          "text": [
            "train_loss: 0.629962\n"
          ]
        },
        {
          "output_type": "stream",
          "name": "stderr",
          "text": [
            "100%|██████████| 13/13 [00:03<00:00,  3.90it/s]\n"
          ]
        },
        {
          "output_type": "stream",
          "name": "stdout",
          "text": [
            "val_loss: 0.647997, val_wll: 0.693591\n"
          ]
        },
        {
          "output_type": "stream",
          "name": "stderr",
          "text": [
            "100%|██████████| 49/49 [00:34<00:00,  1.41it/s]\n"
          ]
        },
        {
          "output_type": "stream",
          "name": "stdout",
          "text": [
            "train_loss: 0.611241\n"
          ]
        },
        {
          "output_type": "stream",
          "name": "stderr",
          "text": [
            "100%|██████████| 13/13 [00:03<00:00,  3.87it/s]\n"
          ]
        },
        {
          "output_type": "stream",
          "name": "stdout",
          "text": [
            "val_loss: 0.605648, val_wll: 0.651838\n",
            "epoch: 7, best loss updated from 0.631557 to 0.605648\n",
            "epoch: 7, best wll_metric updated from 0.678360 to 0.651838\n"
          ]
        },
        {
          "output_type": "stream",
          "name": "stderr",
          "text": [
            "100%|██████████| 49/49 [00:33<00:00,  1.45it/s]\n"
          ]
        },
        {
          "output_type": "stream",
          "name": "stdout",
          "text": [
            "train_loss: 0.606699\n"
          ]
        },
        {
          "output_type": "stream",
          "name": "stderr",
          "text": [
            "100%|██████████| 13/13 [00:03<00:00,  3.92it/s]\n"
          ]
        },
        {
          "output_type": "stream",
          "name": "stdout",
          "text": [
            "val_loss: 0.616993, val_wll: 0.664884\n"
          ]
        },
        {
          "output_type": "stream",
          "name": "stderr",
          "text": [
            "100%|██████████| 49/49 [00:33<00:00,  1.46it/s]\n"
          ]
        },
        {
          "output_type": "stream",
          "name": "stdout",
          "text": [
            "train_loss: 0.593279\n"
          ]
        },
        {
          "output_type": "stream",
          "name": "stderr",
          "text": [
            "100%|██████████| 13/13 [00:03<00:00,  4.00it/s]\n"
          ]
        },
        {
          "output_type": "stream",
          "name": "stdout",
          "text": [
            "val_loss: 0.604186, val_wll: 0.650792\n",
            "epoch: 9, best loss updated from 0.605648 to 0.604186\n",
            "epoch: 9, best wll_metric updated from 0.651838 to 0.650792\n"
          ]
        },
        {
          "output_type": "stream",
          "name": "stderr",
          "text": [
            "100%|██████████| 49/49 [00:34<00:00,  1.41it/s]\n"
          ]
        },
        {
          "output_type": "stream",
          "name": "stdout",
          "text": [
            "train_loss: 0.578859\n"
          ]
        },
        {
          "output_type": "stream",
          "name": "stderr",
          "text": [
            "100%|██████████| 13/13 [00:03<00:00,  3.99it/s]\n"
          ]
        },
        {
          "output_type": "stream",
          "name": "stdout",
          "text": [
            "val_loss: 0.608710, val_wll: 0.657297\n"
          ]
        },
        {
          "output_type": "stream",
          "name": "stderr",
          "text": [
            "100%|██████████| 49/49 [00:34<00:00,  1.43it/s]\n"
          ]
        },
        {
          "output_type": "stream",
          "name": "stdout",
          "text": [
            "train_loss: 0.569644\n"
          ]
        },
        {
          "output_type": "stream",
          "name": "stderr",
          "text": [
            "100%|██████████| 13/13 [00:03<00:00,  3.80it/s]\n"
          ]
        },
        {
          "output_type": "stream",
          "name": "stdout",
          "text": [
            "val_loss: 0.613336, val_wll: 0.661478\n"
          ]
        },
        {
          "output_type": "stream",
          "name": "stderr",
          "text": [
            "100%|██████████| 49/49 [00:35<00:00,  1.39it/s]\n"
          ]
        },
        {
          "output_type": "stream",
          "name": "stdout",
          "text": [
            "train_loss: 0.560586\n"
          ]
        },
        {
          "output_type": "stream",
          "name": "stderr",
          "text": [
            "100%|██████████| 13/13 [00:03<00:00,  3.94it/s]\n"
          ]
        },
        {
          "output_type": "stream",
          "name": "stdout",
          "text": [
            "val_loss: 0.616713, val_wll: 0.668103\n",
            "early stopping\n",
            "##############################\n",
            "start fold 1 for sagittal_t1\n",
            "##############################\n"
          ]
        },
        {
          "output_type": "stream",
          "name": "stderr",
          "text": [
            "100%|██████████| 49/49 [00:35<00:00,  1.39it/s]\n"
          ]
        },
        {
          "output_type": "stream",
          "name": "stdout",
          "text": [
            "train_loss: 1.036027\n"
          ]
        },
        {
          "output_type": "stream",
          "name": "stderr",
          "text": [
            "100%|██████████| 13/13 [00:03<00:00,  4.05it/s]\n"
          ]
        },
        {
          "output_type": "stream",
          "name": "stdout",
          "text": [
            "val_loss: 0.815505, val_wll: 0.857350\n",
            "epoch: 1, best loss updated from 1.098612 to 0.815505\n",
            "epoch: 1, best wll_metric updated from 1.098612 to 0.857350\n"
          ]
        },
        {
          "output_type": "stream",
          "name": "stderr",
          "text": [
            "100%|██████████| 49/49 [00:33<00:00,  1.46it/s]\n"
          ]
        },
        {
          "output_type": "stream",
          "name": "stdout",
          "text": [
            "train_loss: 0.765278\n"
          ]
        },
        {
          "output_type": "stream",
          "name": "stderr",
          "text": [
            "100%|██████████| 13/13 [00:03<00:00,  4.11it/s]\n"
          ]
        },
        {
          "output_type": "stream",
          "name": "stdout",
          "text": [
            "val_loss: 0.697477, val_wll: 0.747972\n",
            "epoch: 2, best loss updated from 0.815505 to 0.697477\n",
            "epoch: 2, best wll_metric updated from 0.857350 to 0.747972\n"
          ]
        },
        {
          "output_type": "stream",
          "name": "stderr",
          "text": [
            "100%|██████████| 49/49 [00:33<00:00,  1.48it/s]\n"
          ]
        },
        {
          "output_type": "stream",
          "name": "stdout",
          "text": [
            "train_loss: 0.696776\n"
          ]
        },
        {
          "output_type": "stream",
          "name": "stderr",
          "text": [
            "100%|██████████| 13/13 [00:03<00:00,  3.85it/s]\n"
          ]
        },
        {
          "output_type": "stream",
          "name": "stdout",
          "text": [
            "val_loss: 0.640159, val_wll: 0.693725\n",
            "epoch: 3, best loss updated from 0.697477 to 0.640159\n",
            "epoch: 3, best wll_metric updated from 0.747972 to 0.693725\n"
          ]
        },
        {
          "output_type": "stream",
          "name": "stderr",
          "text": [
            "100%|██████████| 49/49 [00:33<00:00,  1.48it/s]\n"
          ]
        },
        {
          "output_type": "stream",
          "name": "stdout",
          "text": [
            "train_loss: 0.670305\n"
          ]
        },
        {
          "output_type": "stream",
          "name": "stderr",
          "text": [
            "100%|██████████| 13/13 [00:03<00:00,  4.06it/s]\n"
          ]
        },
        {
          "output_type": "stream",
          "name": "stdout",
          "text": [
            "val_loss: 0.642002, val_wll: 0.697939\n"
          ]
        },
        {
          "output_type": "stream",
          "name": "stderr",
          "text": [
            "100%|██████████| 49/49 [00:33<00:00,  1.47it/s]\n"
          ]
        },
        {
          "output_type": "stream",
          "name": "stdout",
          "text": [
            "train_loss: 0.652289\n"
          ]
        },
        {
          "output_type": "stream",
          "name": "stderr",
          "text": [
            "100%|██████████| 13/13 [00:03<00:00,  4.02it/s]\n"
          ]
        },
        {
          "output_type": "stream",
          "name": "stdout",
          "text": [
            "val_loss: 0.632977, val_wll: 0.690531\n",
            "epoch: 5, best loss updated from 0.640159 to 0.632977\n",
            "epoch: 5, best wll_metric updated from 0.693725 to 0.690531\n"
          ]
        },
        {
          "output_type": "stream",
          "name": "stderr",
          "text": [
            "100%|██████████| 49/49 [00:34<00:00,  1.42it/s]\n"
          ]
        },
        {
          "output_type": "stream",
          "name": "stdout",
          "text": [
            "train_loss: 0.627411\n"
          ]
        },
        {
          "output_type": "stream",
          "name": "stderr",
          "text": [
            "100%|██████████| 13/13 [00:03<00:00,  3.91it/s]\n"
          ]
        },
        {
          "output_type": "stream",
          "name": "stdout",
          "text": [
            "val_loss: 0.645693, val_wll: 0.708070\n"
          ]
        },
        {
          "output_type": "stream",
          "name": "stderr",
          "text": [
            "100%|██████████| 49/49 [00:32<00:00,  1.49it/s]\n"
          ]
        },
        {
          "output_type": "stream",
          "name": "stdout",
          "text": [
            "train_loss: 0.618127\n"
          ]
        },
        {
          "output_type": "stream",
          "name": "stderr",
          "text": [
            "100%|██████████| 13/13 [00:03<00:00,  3.95it/s]\n"
          ]
        },
        {
          "output_type": "stream",
          "name": "stdout",
          "text": [
            "val_loss: 0.600967, val_wll: 0.654348\n",
            "epoch: 7, best loss updated from 0.632977 to 0.600967\n",
            "epoch: 7, best wll_metric updated from 0.690531 to 0.654348\n"
          ]
        },
        {
          "output_type": "stream",
          "name": "stderr",
          "text": [
            "100%|██████████| 49/49 [00:34<00:00,  1.42it/s]\n"
          ]
        },
        {
          "output_type": "stream",
          "name": "stdout",
          "text": [
            "train_loss: 0.601574\n"
          ]
        },
        {
          "output_type": "stream",
          "name": "stderr",
          "text": [
            "100%|██████████| 13/13 [00:03<00:00,  4.01it/s]\n"
          ]
        },
        {
          "output_type": "stream",
          "name": "stdout",
          "text": [
            "val_loss: 0.609920, val_wll: 0.656651\n"
          ]
        },
        {
          "output_type": "stream",
          "name": "stderr",
          "text": [
            "100%|██████████| 49/49 [00:34<00:00,  1.44it/s]\n"
          ]
        },
        {
          "output_type": "stream",
          "name": "stdout",
          "text": [
            "train_loss: 0.595012\n"
          ]
        },
        {
          "output_type": "stream",
          "name": "stderr",
          "text": [
            "100%|██████████| 13/13 [00:03<00:00,  3.93it/s]\n"
          ]
        },
        {
          "output_type": "stream",
          "name": "stdout",
          "text": [
            "val_loss: 0.623631, val_wll: 0.675457\n"
          ]
        },
        {
          "output_type": "stream",
          "name": "stderr",
          "text": [
            "100%|██████████| 49/49 [00:33<00:00,  1.45it/s]\n"
          ]
        },
        {
          "output_type": "stream",
          "name": "stdout",
          "text": [
            "train_loss: 0.582502\n"
          ]
        },
        {
          "output_type": "stream",
          "name": "stderr",
          "text": [
            "100%|██████████| 13/13 [00:03<00:00,  3.84it/s]\n"
          ]
        },
        {
          "output_type": "stream",
          "name": "stdout",
          "text": [
            "val_loss: 0.596779, val_wll: 0.643455\n",
            "epoch: 10, best loss updated from 0.600967 to 0.596779\n",
            "epoch: 10, best wll_metric updated from 0.654348 to 0.643455\n"
          ]
        },
        {
          "output_type": "stream",
          "name": "stderr",
          "text": [
            "100%|██████████| 49/49 [00:34<00:00,  1.42it/s]\n"
          ]
        },
        {
          "output_type": "stream",
          "name": "stdout",
          "text": [
            "train_loss: 0.574045\n"
          ]
        },
        {
          "output_type": "stream",
          "name": "stderr",
          "text": [
            "100%|██████████| 13/13 [00:03<00:00,  4.04it/s]\n"
          ]
        },
        {
          "output_type": "stream",
          "name": "stdout",
          "text": [
            "val_loss: 0.591657, val_wll: 0.636208\n",
            "epoch: 11, best loss updated from 0.596779 to 0.591657\n",
            "epoch: 11, best wll_metric updated from 0.643455 to 0.636208\n"
          ]
        },
        {
          "output_type": "stream",
          "name": "stderr",
          "text": [
            "100%|██████████| 49/49 [00:36<00:00,  1.36it/s]\n"
          ]
        },
        {
          "output_type": "stream",
          "name": "stdout",
          "text": [
            "train_loss: 0.571818\n"
          ]
        },
        {
          "output_type": "stream",
          "name": "stderr",
          "text": [
            "100%|██████████| 13/13 [00:03<00:00,  3.98it/s]\n"
          ]
        },
        {
          "output_type": "stream",
          "name": "stdout",
          "text": [
            "val_loss: 0.579647, val_wll: 0.625728\n",
            "epoch: 12, best loss updated from 0.591657 to 0.579647\n",
            "epoch: 12, best wll_metric updated from 0.636208 to 0.625728\n"
          ]
        },
        {
          "output_type": "stream",
          "name": "stderr",
          "text": [
            "100%|██████████| 49/49 [00:33<00:00,  1.45it/s]\n"
          ]
        },
        {
          "output_type": "stream",
          "name": "stdout",
          "text": [
            "train_loss: 0.555657\n"
          ]
        },
        {
          "output_type": "stream",
          "name": "stderr",
          "text": [
            "100%|██████████| 13/13 [00:03<00:00,  3.92it/s]\n"
          ]
        },
        {
          "output_type": "stream",
          "name": "stdout",
          "text": [
            "val_loss: 0.586135, val_wll: 0.633301\n"
          ]
        },
        {
          "output_type": "stream",
          "name": "stderr",
          "text": [
            "100%|██████████| 49/49 [00:35<00:00,  1.40it/s]\n"
          ]
        },
        {
          "output_type": "stream",
          "name": "stdout",
          "text": [
            "train_loss: 0.547508\n"
          ]
        },
        {
          "output_type": "stream",
          "name": "stderr",
          "text": [
            "100%|██████████| 13/13 [00:03<00:00,  3.85it/s]\n"
          ]
        },
        {
          "output_type": "stream",
          "name": "stdout",
          "text": [
            "val_loss: 0.589395, val_wll: 0.633183\n"
          ]
        },
        {
          "output_type": "stream",
          "name": "stderr",
          "text": [
            "100%|██████████| 49/49 [00:34<00:00,  1.43it/s]\n"
          ]
        },
        {
          "output_type": "stream",
          "name": "stdout",
          "text": [
            "train_loss: 0.527317\n"
          ]
        },
        {
          "output_type": "stream",
          "name": "stderr",
          "text": [
            "100%|██████████| 13/13 [00:03<00:00,  3.97it/s]\n"
          ]
        },
        {
          "output_type": "stream",
          "name": "stdout",
          "text": [
            "val_loss: 0.588082, val_wll: 0.632954\n",
            "early stopping\n",
            "##############################\n",
            "start fold 2 for sagittal_t1\n",
            "##############################\n"
          ]
        },
        {
          "output_type": "stream",
          "name": "stderr",
          "text": [
            "100%|██████████| 49/49 [00:34<00:00,  1.43it/s]\n"
          ]
        },
        {
          "output_type": "stream",
          "name": "stdout",
          "text": [
            "train_loss: 1.035793\n"
          ]
        },
        {
          "output_type": "stream",
          "name": "stderr",
          "text": [
            "100%|██████████| 13/13 [00:03<00:00,  3.48it/s]\n"
          ]
        },
        {
          "output_type": "stream",
          "name": "stdout",
          "text": [
            "val_loss: 0.813396, val_wll: 0.851296\n",
            "epoch: 1, best loss updated from 1.098612 to 0.813396\n",
            "epoch: 1, best wll_metric updated from 1.098612 to 0.851296\n"
          ]
        },
        {
          "output_type": "stream",
          "name": "stderr",
          "text": [
            "100%|██████████| 49/49 [00:34<00:00,  1.40it/s]\n"
          ]
        },
        {
          "output_type": "stream",
          "name": "stdout",
          "text": [
            "train_loss: 0.755009\n"
          ]
        },
        {
          "output_type": "stream",
          "name": "stderr",
          "text": [
            "100%|██████████| 13/13 [00:03<00:00,  4.06it/s]\n"
          ]
        },
        {
          "output_type": "stream",
          "name": "stdout",
          "text": [
            "val_loss: 0.702978, val_wll: 0.773734\n",
            "epoch: 2, best loss updated from 0.813396 to 0.702978\n",
            "epoch: 2, best wll_metric updated from 0.851296 to 0.773734\n"
          ]
        },
        {
          "output_type": "stream",
          "name": "stderr",
          "text": [
            "100%|██████████| 49/49 [00:35<00:00,  1.37it/s]\n"
          ]
        },
        {
          "output_type": "stream",
          "name": "stdout",
          "text": [
            "train_loss: 0.685022\n"
          ]
        },
        {
          "output_type": "stream",
          "name": "stderr",
          "text": [
            "100%|██████████| 13/13 [00:03<00:00,  4.13it/s]\n"
          ]
        },
        {
          "output_type": "stream",
          "name": "stdout",
          "text": [
            "val_loss: 0.662722, val_wll: 0.726624\n",
            "epoch: 3, best loss updated from 0.702978 to 0.662722\n",
            "epoch: 3, best wll_metric updated from 0.773734 to 0.726624\n"
          ]
        },
        {
          "output_type": "stream",
          "name": "stderr",
          "text": [
            "100%|██████████| 49/49 [00:34<00:00,  1.41it/s]\n"
          ]
        },
        {
          "output_type": "stream",
          "name": "stdout",
          "text": [
            "train_loss: 0.654608\n"
          ]
        },
        {
          "output_type": "stream",
          "name": "stderr",
          "text": [
            "100%|██████████| 13/13 [00:03<00:00,  3.88it/s]\n"
          ]
        },
        {
          "output_type": "stream",
          "name": "stdout",
          "text": [
            "val_loss: 0.680671, val_wll: 0.727960\n"
          ]
        },
        {
          "output_type": "stream",
          "name": "stderr",
          "text": [
            "100%|██████████| 49/49 [00:34<00:00,  1.42it/s]\n"
          ]
        },
        {
          "output_type": "stream",
          "name": "stdout",
          "text": [
            "train_loss: 0.640158\n"
          ]
        },
        {
          "output_type": "stream",
          "name": "stderr",
          "text": [
            "100%|██████████| 13/13 [00:03<00:00,  3.96it/s]\n"
          ]
        },
        {
          "output_type": "stream",
          "name": "stdout",
          "text": [
            "val_loss: 0.629854, val_wll: 0.689753\n",
            "epoch: 5, best loss updated from 0.662722 to 0.629854\n",
            "epoch: 5, best wll_metric updated from 0.726624 to 0.689753\n"
          ]
        },
        {
          "output_type": "stream",
          "name": "stderr",
          "text": [
            "100%|██████████| 49/49 [00:34<00:00,  1.44it/s]\n"
          ]
        },
        {
          "output_type": "stream",
          "name": "stdout",
          "text": [
            "train_loss: 0.620522\n"
          ]
        },
        {
          "output_type": "stream",
          "name": "stderr",
          "text": [
            "100%|██████████| 13/13 [00:03<00:00,  4.11it/s]\n"
          ]
        },
        {
          "output_type": "stream",
          "name": "stdout",
          "text": [
            "val_loss: 0.610242, val_wll: 0.658305\n",
            "epoch: 6, best loss updated from 0.629854 to 0.610242\n",
            "epoch: 6, best wll_metric updated from 0.689753 to 0.658305\n"
          ]
        },
        {
          "output_type": "stream",
          "name": "stderr",
          "text": [
            "100%|██████████| 49/49 [00:33<00:00,  1.45it/s]\n"
          ]
        },
        {
          "output_type": "stream",
          "name": "stdout",
          "text": [
            "train_loss: 0.608167\n"
          ]
        },
        {
          "output_type": "stream",
          "name": "stderr",
          "text": [
            "100%|██████████| 13/13 [00:03<00:00,  4.14it/s]\n"
          ]
        },
        {
          "output_type": "stream",
          "name": "stdout",
          "text": [
            "val_loss: 0.594117, val_wll: 0.644166\n",
            "epoch: 7, best loss updated from 0.610242 to 0.594117\n",
            "epoch: 7, best wll_metric updated from 0.658305 to 0.644166\n"
          ]
        },
        {
          "output_type": "stream",
          "name": "stderr",
          "text": [
            "100%|██████████| 49/49 [00:33<00:00,  1.45it/s]\n"
          ]
        },
        {
          "output_type": "stream",
          "name": "stdout",
          "text": [
            "train_loss: 0.596523\n"
          ]
        },
        {
          "output_type": "stream",
          "name": "stderr",
          "text": [
            "100%|██████████| 13/13 [00:03<00:00,  3.82it/s]\n"
          ]
        },
        {
          "output_type": "stream",
          "name": "stdout",
          "text": [
            "val_loss: 0.619541, val_wll: 0.681748\n"
          ]
        },
        {
          "output_type": "stream",
          "name": "stderr",
          "text": [
            "100%|██████████| 49/49 [00:35<00:00,  1.40it/s]\n"
          ]
        },
        {
          "output_type": "stream",
          "name": "stdout",
          "text": [
            "train_loss: 0.577192\n"
          ]
        },
        {
          "output_type": "stream",
          "name": "stderr",
          "text": [
            "100%|██████████| 13/13 [00:03<00:00,  4.13it/s]\n"
          ]
        },
        {
          "output_type": "stream",
          "name": "stdout",
          "text": [
            "val_loss: 0.578802, val_wll: 0.627402\n",
            "epoch: 9, best loss updated from 0.594117 to 0.578802\n",
            "epoch: 9, best wll_metric updated from 0.644166 to 0.627402\n"
          ]
        },
        {
          "output_type": "stream",
          "name": "stderr",
          "text": [
            "100%|██████████| 49/49 [00:34<00:00,  1.44it/s]\n"
          ]
        },
        {
          "output_type": "stream",
          "name": "stdout",
          "text": [
            "train_loss: 0.567623\n"
          ]
        },
        {
          "output_type": "stream",
          "name": "stderr",
          "text": [
            "100%|██████████| 13/13 [00:03<00:00,  4.06it/s]\n"
          ]
        },
        {
          "output_type": "stream",
          "name": "stdout",
          "text": [
            "val_loss: 0.601870, val_wll: 0.645274\n"
          ]
        },
        {
          "output_type": "stream",
          "name": "stderr",
          "text": [
            "100%|██████████| 49/49 [00:35<00:00,  1.36it/s]\n"
          ]
        },
        {
          "output_type": "stream",
          "name": "stdout",
          "text": [
            "train_loss: 0.566428\n"
          ]
        },
        {
          "output_type": "stream",
          "name": "stderr",
          "text": [
            "100%|██████████| 13/13 [00:03<00:00,  4.09it/s]\n"
          ]
        },
        {
          "output_type": "stream",
          "name": "stdout",
          "text": [
            "val_loss: 0.599919, val_wll: 0.655714\n"
          ]
        },
        {
          "output_type": "stream",
          "name": "stderr",
          "text": [
            "100%|██████████| 49/49 [00:33<00:00,  1.46it/s]\n"
          ]
        },
        {
          "output_type": "stream",
          "name": "stdout",
          "text": [
            "train_loss: 0.545958\n"
          ]
        },
        {
          "output_type": "stream",
          "name": "stderr",
          "text": [
            "100%|██████████| 13/13 [00:03<00:00,  3.85it/s]\n"
          ]
        },
        {
          "output_type": "stream",
          "name": "stdout",
          "text": [
            "val_loss: 0.582735, val_wll: 0.628272\n",
            "early stopping\n",
            "##############################\n",
            "start fold 3 for sagittal_t1\n",
            "##############################\n"
          ]
        },
        {
          "output_type": "stream",
          "name": "stderr",
          "text": [
            "100%|██████████| 49/49 [00:34<00:00,  1.44it/s]\n"
          ]
        },
        {
          "output_type": "stream",
          "name": "stdout",
          "text": [
            "train_loss: 1.080421\n"
          ]
        },
        {
          "output_type": "stream",
          "name": "stderr",
          "text": [
            "100%|██████████| 13/13 [00:03<00:00,  3.89it/s]\n"
          ]
        },
        {
          "output_type": "stream",
          "name": "stdout",
          "text": [
            "val_loss: 0.836903, val_wll: 0.865486\n",
            "epoch: 1, best loss updated from 1.098612 to 0.836903\n",
            "epoch: 1, best wll_metric updated from 1.098612 to 0.865486\n"
          ]
        },
        {
          "output_type": "stream",
          "name": "stderr",
          "text": [
            "100%|██████████| 49/49 [00:35<00:00,  1.39it/s]\n"
          ]
        },
        {
          "output_type": "stream",
          "name": "stdout",
          "text": [
            "train_loss: 0.780579\n"
          ]
        },
        {
          "output_type": "stream",
          "name": "stderr",
          "text": [
            "100%|██████████| 13/13 [00:03<00:00,  3.98it/s]\n"
          ]
        },
        {
          "output_type": "stream",
          "name": "stdout",
          "text": [
            "val_loss: 0.682358, val_wll: 0.725434\n",
            "epoch: 2, best loss updated from 0.836903 to 0.682358\n",
            "epoch: 2, best wll_metric updated from 0.865486 to 0.725434\n"
          ]
        },
        {
          "output_type": "stream",
          "name": "stderr",
          "text": [
            "100%|██████████| 49/49 [00:33<00:00,  1.47it/s]\n"
          ]
        },
        {
          "output_type": "stream",
          "name": "stdout",
          "text": [
            "train_loss: 0.700116\n"
          ]
        },
        {
          "output_type": "stream",
          "name": "stderr",
          "text": [
            "100%|██████████| 13/13 [00:03<00:00,  4.00it/s]\n"
          ]
        },
        {
          "output_type": "stream",
          "name": "stdout",
          "text": [
            "val_loss: 0.668903, val_wll: 0.716036\n",
            "epoch: 3, best loss updated from 0.682358 to 0.668903\n",
            "epoch: 3, best wll_metric updated from 0.725434 to 0.716036\n"
          ]
        },
        {
          "output_type": "stream",
          "name": "stderr",
          "text": [
            "100%|██████████| 49/49 [00:34<00:00,  1.44it/s]\n"
          ]
        },
        {
          "output_type": "stream",
          "name": "stdout",
          "text": [
            "train_loss: 0.663289\n"
          ]
        },
        {
          "output_type": "stream",
          "name": "stderr",
          "text": [
            "100%|██████████| 13/13 [00:03<00:00,  4.01it/s]\n"
          ]
        },
        {
          "output_type": "stream",
          "name": "stdout",
          "text": [
            "val_loss: 0.742218, val_wll: 0.794952\n"
          ]
        },
        {
          "output_type": "stream",
          "name": "stderr",
          "text": [
            "100%|██████████| 49/49 [00:34<00:00,  1.43it/s]\n"
          ]
        },
        {
          "output_type": "stream",
          "name": "stdout",
          "text": [
            "train_loss: 0.638751\n"
          ]
        },
        {
          "output_type": "stream",
          "name": "stderr",
          "text": [
            "100%|██████████| 13/13 [00:03<00:00,  3.99it/s]\n"
          ]
        },
        {
          "output_type": "stream",
          "name": "stdout",
          "text": [
            "val_loss: 0.618397, val_wll: 0.659653\n",
            "epoch: 5, best loss updated from 0.668903 to 0.618397\n",
            "epoch: 5, best wll_metric updated from 0.716036 to 0.659653\n"
          ]
        },
        {
          "output_type": "stream",
          "name": "stderr",
          "text": [
            "100%|██████████| 49/49 [00:35<00:00,  1.40it/s]\n"
          ]
        },
        {
          "output_type": "stream",
          "name": "stdout",
          "text": [
            "train_loss: 0.618074\n"
          ]
        },
        {
          "output_type": "stream",
          "name": "stderr",
          "text": [
            "100%|██████████| 13/13 [00:03<00:00,  4.00it/s]\n"
          ]
        },
        {
          "output_type": "stream",
          "name": "stdout",
          "text": [
            "val_loss: 0.633396, val_wll: 0.676440\n"
          ]
        },
        {
          "output_type": "stream",
          "name": "stderr",
          "text": [
            "100%|██████████| 49/49 [00:34<00:00,  1.41it/s]\n"
          ]
        },
        {
          "output_type": "stream",
          "name": "stdout",
          "text": [
            "train_loss: 0.610524\n"
          ]
        },
        {
          "output_type": "stream",
          "name": "stderr",
          "text": [
            "100%|██████████| 13/13 [00:03<00:00,  4.17it/s]\n"
          ]
        },
        {
          "output_type": "stream",
          "name": "stdout",
          "text": [
            "val_loss: 0.608617, val_wll: 0.646654\n",
            "epoch: 7, best loss updated from 0.618397 to 0.608617\n",
            "epoch: 7, best wll_metric updated from 0.659653 to 0.646654\n"
          ]
        },
        {
          "output_type": "stream",
          "name": "stderr",
          "text": [
            "100%|██████████| 49/49 [00:34<00:00,  1.42it/s]\n"
          ]
        },
        {
          "output_type": "stream",
          "name": "stdout",
          "text": [
            "train_loss: 0.600801\n"
          ]
        },
        {
          "output_type": "stream",
          "name": "stderr",
          "text": [
            "100%|██████████| 13/13 [00:03<00:00,  3.87it/s]\n"
          ]
        },
        {
          "output_type": "stream",
          "name": "stdout",
          "text": [
            "val_loss: 0.616273, val_wll: 0.667158\n"
          ]
        },
        {
          "output_type": "stream",
          "name": "stderr",
          "text": [
            "100%|██████████| 49/49 [00:34<00:00,  1.42it/s]\n"
          ]
        },
        {
          "output_type": "stream",
          "name": "stdout",
          "text": [
            "train_loss: 0.585103\n"
          ]
        },
        {
          "output_type": "stream",
          "name": "stderr",
          "text": [
            "100%|██████████| 13/13 [00:03<00:00,  4.03it/s]\n"
          ]
        },
        {
          "output_type": "stream",
          "name": "stdout",
          "text": [
            "val_loss: 0.604314, val_wll: 0.645321\n",
            "epoch: 9, best loss updated from 0.608617 to 0.604314\n",
            "epoch: 9, best wll_metric updated from 0.646654 to 0.645321\n"
          ]
        },
        {
          "output_type": "stream",
          "name": "stderr",
          "text": [
            "100%|██████████| 49/49 [00:35<00:00,  1.36it/s]\n"
          ]
        },
        {
          "output_type": "stream",
          "name": "stdout",
          "text": [
            "train_loss: 0.566091\n"
          ]
        },
        {
          "output_type": "stream",
          "name": "stderr",
          "text": [
            "100%|██████████| 13/13 [00:03<00:00,  4.04it/s]\n"
          ]
        },
        {
          "output_type": "stream",
          "name": "stdout",
          "text": [
            "val_loss: 0.600723, val_wll: 0.641279\n",
            "epoch: 10, best loss updated from 0.604314 to 0.600723\n",
            "epoch: 10, best wll_metric updated from 0.645321 to 0.641279\n"
          ]
        },
        {
          "output_type": "stream",
          "name": "stderr",
          "text": [
            "100%|██████████| 49/49 [00:33<00:00,  1.45it/s]\n"
          ]
        },
        {
          "output_type": "stream",
          "name": "stdout",
          "text": [
            "train_loss: 0.560616\n"
          ]
        },
        {
          "output_type": "stream",
          "name": "stderr",
          "text": [
            "100%|██████████| 13/13 [00:03<00:00,  4.12it/s]\n"
          ]
        },
        {
          "output_type": "stream",
          "name": "stdout",
          "text": [
            "val_loss: 0.614639, val_wll: 0.658765\n"
          ]
        },
        {
          "output_type": "stream",
          "name": "stderr",
          "text": [
            "100%|██████████| 49/49 [00:33<00:00,  1.48it/s]\n"
          ]
        },
        {
          "output_type": "stream",
          "name": "stdout",
          "text": [
            "train_loss: 0.547931\n"
          ]
        },
        {
          "output_type": "stream",
          "name": "stderr",
          "text": [
            "100%|██████████| 13/13 [00:03<00:00,  4.09it/s]\n"
          ]
        },
        {
          "output_type": "stream",
          "name": "stdout",
          "text": [
            "val_loss: 0.591269, val_wll: 0.630172\n",
            "epoch: 12, best loss updated from 0.600723 to 0.591269\n",
            "epoch: 12, best wll_metric updated from 0.641279 to 0.630172\n"
          ]
        },
        {
          "output_type": "stream",
          "name": "stderr",
          "text": [
            "100%|██████████| 49/49 [00:35<00:00,  1.40it/s]\n"
          ]
        },
        {
          "output_type": "stream",
          "name": "stdout",
          "text": [
            "train_loss: 0.545656\n"
          ]
        },
        {
          "output_type": "stream",
          "name": "stderr",
          "text": [
            "100%|██████████| 13/13 [00:03<00:00,  4.10it/s]\n"
          ]
        },
        {
          "output_type": "stream",
          "name": "stdout",
          "text": [
            "val_loss: 0.582684, val_wll: 0.624454\n",
            "epoch: 13, best loss updated from 0.591269 to 0.582684\n",
            "epoch: 13, best wll_metric updated from 0.630172 to 0.624454\n"
          ]
        },
        {
          "output_type": "stream",
          "name": "stderr",
          "text": [
            "100%|██████████| 49/49 [00:33<00:00,  1.44it/s]\n"
          ]
        },
        {
          "output_type": "stream",
          "name": "stdout",
          "text": [
            "train_loss: 0.525845\n"
          ]
        },
        {
          "output_type": "stream",
          "name": "stderr",
          "text": [
            "100%|██████████| 13/13 [00:03<00:00,  4.06it/s]\n"
          ]
        },
        {
          "output_type": "stream",
          "name": "stdout",
          "text": [
            "val_loss: 0.609621, val_wll: 0.657633\n"
          ]
        },
        {
          "output_type": "stream",
          "name": "stderr",
          "text": [
            "100%|██████████| 49/49 [00:34<00:00,  1.43it/s]\n"
          ]
        },
        {
          "output_type": "stream",
          "name": "stdout",
          "text": [
            "train_loss: 0.516722\n"
          ]
        },
        {
          "output_type": "stream",
          "name": "stderr",
          "text": [
            "100%|██████████| 13/13 [00:03<00:00,  4.04it/s]\n"
          ]
        },
        {
          "output_type": "stream",
          "name": "stdout",
          "text": [
            "val_loss: 0.608806, val_wll: 0.651448\n"
          ]
        },
        {
          "output_type": "stream",
          "name": "stderr",
          "text": [
            "100%|██████████| 49/49 [00:33<00:00,  1.47it/s]\n"
          ]
        },
        {
          "output_type": "stream",
          "name": "stdout",
          "text": [
            "train_loss: 0.505409\n"
          ]
        },
        {
          "output_type": "stream",
          "name": "stderr",
          "text": [
            "100%|██████████| 13/13 [00:03<00:00,  4.05it/s]\n"
          ]
        },
        {
          "output_type": "stream",
          "name": "stdout",
          "text": [
            "val_loss: 0.623459, val_wll: 0.667594\n",
            "early stopping\n",
            "##############################\n",
            "start fold 4 for sagittal_t1\n",
            "##############################\n"
          ]
        },
        {
          "output_type": "stream",
          "name": "stderr",
          "text": [
            "100%|██████████| 49/49 [00:34<00:00,  1.44it/s]\n"
          ]
        },
        {
          "output_type": "stream",
          "name": "stdout",
          "text": [
            "train_loss: 0.983009\n"
          ]
        },
        {
          "output_type": "stream",
          "name": "stderr",
          "text": [
            "100%|██████████| 13/13 [00:03<00:00,  4.07it/s]\n"
          ]
        },
        {
          "output_type": "stream",
          "name": "stdout",
          "text": [
            "val_loss: 0.755620, val_wll: 0.821040\n",
            "epoch: 1, best loss updated from 1.098612 to 0.755620\n",
            "epoch: 1, best wll_metric updated from 1.098612 to 0.821040\n"
          ]
        },
        {
          "output_type": "stream",
          "name": "stderr",
          "text": [
            "100%|██████████| 49/49 [00:33<00:00,  1.45it/s]\n"
          ]
        },
        {
          "output_type": "stream",
          "name": "stdout",
          "text": [
            "train_loss: 0.752178\n"
          ]
        },
        {
          "output_type": "stream",
          "name": "stderr",
          "text": [
            "100%|██████████| 13/13 [00:03<00:00,  3.73it/s]\n"
          ]
        },
        {
          "output_type": "stream",
          "name": "stdout",
          "text": [
            "val_loss: 0.773842, val_wll: 0.854627\n"
          ]
        },
        {
          "output_type": "stream",
          "name": "stderr",
          "text": [
            "100%|██████████| 49/49 [00:35<00:00,  1.39it/s]\n"
          ]
        },
        {
          "output_type": "stream",
          "name": "stdout",
          "text": [
            "train_loss: 0.686881\n"
          ]
        },
        {
          "output_type": "stream",
          "name": "stderr",
          "text": [
            "100%|██████████| 13/13 [00:03<00:00,  3.94it/s]\n"
          ]
        },
        {
          "output_type": "stream",
          "name": "stdout",
          "text": [
            "val_loss: 0.652341, val_wll: 0.711022\n",
            "epoch: 3, best loss updated from 0.755620 to 0.652341\n",
            "epoch: 3, best wll_metric updated from 0.821040 to 0.711022\n"
          ]
        },
        {
          "output_type": "stream",
          "name": "stderr",
          "text": [
            "100%|██████████| 49/49 [00:34<00:00,  1.42it/s]\n"
          ]
        },
        {
          "output_type": "stream",
          "name": "stdout",
          "text": [
            "train_loss: 0.666152\n"
          ]
        },
        {
          "output_type": "stream",
          "name": "stderr",
          "text": [
            "100%|██████████| 13/13 [00:03<00:00,  3.98it/s]\n"
          ]
        },
        {
          "output_type": "stream",
          "name": "stdout",
          "text": [
            "val_loss: 0.644176, val_wll: 0.703729\n",
            "epoch: 4, best loss updated from 0.652341 to 0.644176\n",
            "epoch: 4, best wll_metric updated from 0.711022 to 0.703729\n"
          ]
        },
        {
          "output_type": "stream",
          "name": "stderr",
          "text": [
            "100%|██████████| 49/49 [00:32<00:00,  1.50it/s]\n"
          ]
        },
        {
          "output_type": "stream",
          "name": "stdout",
          "text": [
            "train_loss: 0.631937\n"
          ]
        },
        {
          "output_type": "stream",
          "name": "stderr",
          "text": [
            "100%|██████████| 13/13 [00:03<00:00,  3.98it/s]\n"
          ]
        },
        {
          "output_type": "stream",
          "name": "stdout",
          "text": [
            "val_loss: 0.615385, val_wll: 0.673152\n",
            "epoch: 5, best loss updated from 0.644176 to 0.615385\n",
            "epoch: 5, best wll_metric updated from 0.703729 to 0.673152\n"
          ]
        },
        {
          "output_type": "stream",
          "name": "stderr",
          "text": [
            "100%|██████████| 49/49 [00:34<00:00,  1.43it/s]\n"
          ]
        },
        {
          "output_type": "stream",
          "name": "stdout",
          "text": [
            "train_loss: 0.620326\n"
          ]
        },
        {
          "output_type": "stream",
          "name": "stderr",
          "text": [
            "100%|██████████| 13/13 [00:03<00:00,  3.94it/s]\n"
          ]
        },
        {
          "output_type": "stream",
          "name": "stdout",
          "text": [
            "val_loss: 0.648899, val_wll: 0.713614\n"
          ]
        },
        {
          "output_type": "stream",
          "name": "stderr",
          "text": [
            "100%|██████████| 49/49 [00:35<00:00,  1.40it/s]\n"
          ]
        },
        {
          "output_type": "stream",
          "name": "stdout",
          "text": [
            "train_loss: 0.612118\n"
          ]
        },
        {
          "output_type": "stream",
          "name": "stderr",
          "text": [
            "100%|██████████| 13/13 [00:03<00:00,  4.02it/s]\n"
          ]
        },
        {
          "output_type": "stream",
          "name": "stdout",
          "text": [
            "val_loss: 0.651342, val_wll: 0.715755\n"
          ]
        },
        {
          "output_type": "stream",
          "name": "stderr",
          "text": [
            "100%|██████████| 49/49 [00:34<00:00,  1.41it/s]\n"
          ]
        },
        {
          "output_type": "stream",
          "name": "stdout",
          "text": [
            "train_loss: 0.594457\n"
          ]
        },
        {
          "output_type": "stream",
          "name": "stderr",
          "text": [
            "100%|██████████| 13/13 [00:03<00:00,  3.99it/s]\n"
          ]
        },
        {
          "output_type": "stream",
          "name": "stdout",
          "text": [
            "val_loss: 0.604203, val_wll: 0.660549\n",
            "epoch: 8, best loss updated from 0.615385 to 0.604203\n",
            "epoch: 8, best wll_metric updated from 0.673152 to 0.660549\n"
          ]
        },
        {
          "output_type": "stream",
          "name": "stderr",
          "text": [
            "100%|██████████| 49/49 [00:34<00:00,  1.43it/s]\n"
          ]
        },
        {
          "output_type": "stream",
          "name": "stdout",
          "text": [
            "train_loss: 0.586084\n"
          ]
        },
        {
          "output_type": "stream",
          "name": "stderr",
          "text": [
            "100%|██████████| 13/13 [00:03<00:00,  3.85it/s]\n"
          ]
        },
        {
          "output_type": "stream",
          "name": "stdout",
          "text": [
            "val_loss: 0.594292, val_wll: 0.649105\n",
            "epoch: 9, best loss updated from 0.604203 to 0.594292\n",
            "epoch: 9, best wll_metric updated from 0.660549 to 0.649105\n"
          ]
        },
        {
          "output_type": "stream",
          "name": "stderr",
          "text": [
            "100%|██████████| 49/49 [00:34<00:00,  1.41it/s]\n"
          ]
        },
        {
          "output_type": "stream",
          "name": "stdout",
          "text": [
            "train_loss: 0.571265\n"
          ]
        },
        {
          "output_type": "stream",
          "name": "stderr",
          "text": [
            "100%|██████████| 13/13 [00:03<00:00,  3.88it/s]\n"
          ]
        },
        {
          "output_type": "stream",
          "name": "stdout",
          "text": [
            "val_loss: 0.622054, val_wll: 0.675004\n"
          ]
        },
        {
          "output_type": "stream",
          "name": "stderr",
          "text": [
            "100%|██████████| 49/49 [00:35<00:00,  1.38it/s]\n"
          ]
        },
        {
          "output_type": "stream",
          "name": "stdout",
          "text": [
            "train_loss: 0.561108\n"
          ]
        },
        {
          "output_type": "stream",
          "name": "stderr",
          "text": [
            "100%|██████████| 13/13 [00:03<00:00,  3.98it/s]\n"
          ]
        },
        {
          "output_type": "stream",
          "name": "stdout",
          "text": [
            "val_loss: 0.638365, val_wll: 0.690555\n"
          ]
        },
        {
          "output_type": "stream",
          "name": "stderr",
          "text": [
            "100%|██████████| 49/49 [00:33<00:00,  1.45it/s]\n"
          ]
        },
        {
          "output_type": "stream",
          "name": "stdout",
          "text": [
            "train_loss: 0.559524\n"
          ]
        },
        {
          "output_type": "stream",
          "name": "stderr",
          "text": [
            "100%|██████████| 13/13 [00:03<00:00,  4.00it/s]\n"
          ]
        },
        {
          "output_type": "stream",
          "name": "stdout",
          "text": [
            "val_loss: 0.597946, val_wll: 0.647152\n",
            "epoch: 12, best wll_metric updated from 0.649105 to 0.647152\n"
          ]
        },
        {
          "output_type": "stream",
          "name": "stderr",
          "text": [
            "100%|██████████| 49/49 [00:34<00:00,  1.44it/s]\n"
          ]
        },
        {
          "output_type": "stream",
          "name": "stdout",
          "text": [
            "train_loss: 0.539686\n"
          ]
        },
        {
          "output_type": "stream",
          "name": "stderr",
          "text": [
            "100%|██████████| 13/13 [00:03<00:00,  3.76it/s]\n"
          ]
        },
        {
          "output_type": "stream",
          "name": "stdout",
          "text": [
            "val_loss: 0.608478, val_wll: 0.659375\n"
          ]
        },
        {
          "output_type": "stream",
          "name": "stderr",
          "text": [
            "100%|██████████| 49/49 [00:34<00:00,  1.44it/s]\n"
          ]
        },
        {
          "output_type": "stream",
          "name": "stdout",
          "text": [
            "train_loss: 0.538986\n"
          ]
        },
        {
          "output_type": "stream",
          "name": "stderr",
          "text": [
            "100%|██████████| 13/13 [00:03<00:00,  4.09it/s]\n"
          ]
        },
        {
          "output_type": "stream",
          "name": "stdout",
          "text": [
            "val_loss: 0.595559, val_wll: 0.646284\n",
            "epoch: 14, best wll_metric updated from 0.647152 to 0.646284\n"
          ]
        },
        {
          "output_type": "stream",
          "name": "stderr",
          "text": [
            "100%|██████████| 49/49 [00:33<00:00,  1.45it/s]\n"
          ]
        },
        {
          "output_type": "stream",
          "name": "stdout",
          "text": [
            "train_loss: 0.523773\n"
          ]
        },
        {
          "output_type": "stream",
          "name": "stderr",
          "text": [
            "100%|██████████| 13/13 [00:03<00:00,  3.94it/s]\n"
          ]
        },
        {
          "output_type": "stream",
          "name": "stdout",
          "text": [
            "val_loss: 0.608881, val_wll: 0.661555\n"
          ]
        },
        {
          "output_type": "stream",
          "name": "stderr",
          "text": [
            "100%|██████████| 49/49 [00:35<00:00,  1.37it/s]\n"
          ]
        },
        {
          "output_type": "stream",
          "name": "stdout",
          "text": [
            "train_loss: 0.516527\n"
          ]
        },
        {
          "output_type": "stream",
          "name": "stderr",
          "text": [
            "100%|██████████| 13/13 [00:03<00:00,  3.86it/s]\n"
          ]
        },
        {
          "output_type": "stream",
          "name": "stdout",
          "text": [
            "val_loss: 0.607842, val_wll: 0.663060\n"
          ]
        },
        {
          "output_type": "stream",
          "name": "stderr",
          "text": [
            "100%|██████████| 49/49 [00:34<00:00,  1.42it/s]\n"
          ]
        },
        {
          "output_type": "stream",
          "name": "stdout",
          "text": [
            "train_loss: 0.502850\n"
          ]
        },
        {
          "output_type": "stream",
          "name": "stderr",
          "text": [
            "100%|██████████| 13/13 [00:03<00:00,  3.96it/s]\n"
          ]
        },
        {
          "output_type": "stream",
          "name": "stdout",
          "text": [
            "val_loss: 0.604072, val_wll: 0.657158\n",
            "early stopping\n",
            "Training completed for sagittal_t1\n",
            "##############################\n",
            "start fold 0 for sagittal_t2_stir\n",
            "##############################\n"
          ]
        },
        {
          "output_type": "stream",
          "name": "stderr",
          "text": [
            "100%|██████████| 49/49 [00:35<00:00,  1.38it/s]\n"
          ]
        },
        {
          "output_type": "stream",
          "name": "stdout",
          "text": [
            "train_loss: 0.924594\n"
          ]
        },
        {
          "output_type": "stream",
          "name": "stderr",
          "text": [
            "100%|██████████| 13/13 [00:03<00:00,  3.88it/s]\n"
          ]
        },
        {
          "output_type": "stream",
          "name": "stdout",
          "text": [
            "val_loss: 0.615761, val_wll: 0.642287\n",
            "epoch: 1, best loss updated from 1.098612 to 0.615761\n",
            "epoch: 1, best wll_metric updated from 1.098612 to 0.642287\n"
          ]
        },
        {
          "output_type": "stream",
          "name": "stderr",
          "text": [
            "100%|██████████| 49/49 [00:34<00:00,  1.42it/s]\n"
          ]
        },
        {
          "output_type": "stream",
          "name": "stdout",
          "text": [
            "train_loss: 0.583760\n"
          ]
        },
        {
          "output_type": "stream",
          "name": "stderr",
          "text": [
            "100%|██████████| 13/13 [00:03<00:00,  4.01it/s]\n"
          ]
        },
        {
          "output_type": "stream",
          "name": "stdout",
          "text": [
            "val_loss: 0.494897, val_wll: 0.520355\n",
            "epoch: 2, best loss updated from 0.615761 to 0.494897\n",
            "epoch: 2, best wll_metric updated from 0.642287 to 0.520355\n"
          ]
        },
        {
          "output_type": "stream",
          "name": "stderr",
          "text": [
            "100%|██████████| 49/49 [00:37<00:00,  1.32it/s]\n"
          ]
        },
        {
          "output_type": "stream",
          "name": "stdout",
          "text": [
            "train_loss: 0.489679\n"
          ]
        },
        {
          "output_type": "stream",
          "name": "stderr",
          "text": [
            "100%|██████████| 13/13 [00:03<00:00,  3.82it/s]\n"
          ]
        },
        {
          "output_type": "stream",
          "name": "stdout",
          "text": [
            "val_loss: 0.525589, val_wll: 0.545040\n"
          ]
        },
        {
          "output_type": "stream",
          "name": "stderr",
          "text": [
            "100%|██████████| 49/49 [00:34<00:00,  1.41it/s]\n"
          ]
        },
        {
          "output_type": "stream",
          "name": "stdout",
          "text": [
            "train_loss: 0.454378\n"
          ]
        },
        {
          "output_type": "stream",
          "name": "stderr",
          "text": [
            "100%|██████████| 13/13 [00:03<00:00,  3.86it/s]\n"
          ]
        },
        {
          "output_type": "stream",
          "name": "stdout",
          "text": [
            "val_loss: 0.422997, val_wll: 0.438128\n",
            "epoch: 4, best loss updated from 0.494897 to 0.422997\n",
            "epoch: 4, best wll_metric updated from 0.520355 to 0.438128\n"
          ]
        },
        {
          "output_type": "stream",
          "name": "stderr",
          "text": [
            "100%|██████████| 49/49 [00:33<00:00,  1.44it/s]\n"
          ]
        },
        {
          "output_type": "stream",
          "name": "stdout",
          "text": [
            "train_loss: 0.414982\n"
          ]
        },
        {
          "output_type": "stream",
          "name": "stderr",
          "text": [
            "100%|██████████| 13/13 [00:03<00:00,  3.80it/s]\n"
          ]
        },
        {
          "output_type": "stream",
          "name": "stdout",
          "text": [
            "val_loss: 0.433706, val_wll: 0.445531\n"
          ]
        },
        {
          "output_type": "stream",
          "name": "stderr",
          "text": [
            "100%|██████████| 49/49 [00:35<00:00,  1.38it/s]\n"
          ]
        },
        {
          "output_type": "stream",
          "name": "stdout",
          "text": [
            "train_loss: 0.408508\n"
          ]
        },
        {
          "output_type": "stream",
          "name": "stderr",
          "text": [
            "100%|██████████| 13/13 [00:03<00:00,  3.89it/s]\n"
          ]
        },
        {
          "output_type": "stream",
          "name": "stdout",
          "text": [
            "val_loss: 0.418569, val_wll: 0.433084\n",
            "epoch: 6, best loss updated from 0.422997 to 0.418569\n",
            "epoch: 6, best wll_metric updated from 0.438128 to 0.433084\n"
          ]
        },
        {
          "output_type": "stream",
          "name": "stderr",
          "text": [
            "100%|██████████| 49/49 [00:33<00:00,  1.47it/s]\n"
          ]
        },
        {
          "output_type": "stream",
          "name": "stdout",
          "text": [
            "train_loss: 0.386335\n"
          ]
        },
        {
          "output_type": "stream",
          "name": "stderr",
          "text": [
            "100%|██████████| 13/13 [00:03<00:00,  3.92it/s]\n"
          ]
        },
        {
          "output_type": "stream",
          "name": "stdout",
          "text": [
            "val_loss: 0.398076, val_wll: 0.412013\n",
            "epoch: 7, best loss updated from 0.418569 to 0.398076\n",
            "epoch: 7, best wll_metric updated from 0.433084 to 0.412013\n"
          ]
        },
        {
          "output_type": "stream",
          "name": "stderr",
          "text": [
            "100%|██████████| 49/49 [00:34<00:00,  1.43it/s]\n"
          ]
        },
        {
          "output_type": "stream",
          "name": "stdout",
          "text": [
            "train_loss: 0.371312\n"
          ]
        },
        {
          "output_type": "stream",
          "name": "stderr",
          "text": [
            "100%|██████████| 13/13 [00:03<00:00,  3.87it/s]\n"
          ]
        },
        {
          "output_type": "stream",
          "name": "stdout",
          "text": [
            "val_loss: 0.405780, val_wll: 0.422727\n"
          ]
        },
        {
          "output_type": "stream",
          "name": "stderr",
          "text": [
            "100%|██████████| 49/49 [00:34<00:00,  1.42it/s]\n"
          ]
        },
        {
          "output_type": "stream",
          "name": "stdout",
          "text": [
            "train_loss: 0.362991\n"
          ]
        },
        {
          "output_type": "stream",
          "name": "stderr",
          "text": [
            "100%|██████████| 13/13 [00:03<00:00,  3.97it/s]\n"
          ]
        },
        {
          "output_type": "stream",
          "name": "stdout",
          "text": [
            "val_loss: 0.416667, val_wll: 0.439250\n"
          ]
        },
        {
          "output_type": "stream",
          "name": "stderr",
          "text": [
            "100%|██████████| 49/49 [00:34<00:00,  1.43it/s]\n"
          ]
        },
        {
          "output_type": "stream",
          "name": "stdout",
          "text": [
            "train_loss: 0.349239\n"
          ]
        },
        {
          "output_type": "stream",
          "name": "stderr",
          "text": [
            "100%|██████████| 13/13 [00:03<00:00,  3.86it/s]\n"
          ]
        },
        {
          "output_type": "stream",
          "name": "stdout",
          "text": [
            "val_loss: 0.399839, val_wll: 0.421675\n",
            "early stopping\n",
            "##############################\n",
            "start fold 1 for sagittal_t2_stir\n",
            "##############################\n"
          ]
        },
        {
          "output_type": "stream",
          "name": "stderr",
          "text": [
            "100%|██████████| 49/49 [00:33<00:00,  1.46it/s]\n"
          ]
        },
        {
          "output_type": "stream",
          "name": "stdout",
          "text": [
            "train_loss: 1.031315\n"
          ]
        },
        {
          "output_type": "stream",
          "name": "stderr",
          "text": [
            "100%|██████████| 13/13 [00:03<00:00,  3.91it/s]\n"
          ]
        },
        {
          "output_type": "stream",
          "name": "stdout",
          "text": [
            "val_loss: 0.669380, val_wll: 0.688275\n",
            "epoch: 1, best loss updated from 1.098612 to 0.669380\n",
            "epoch: 1, best wll_metric updated from 1.098612 to 0.688275\n"
          ]
        },
        {
          "output_type": "stream",
          "name": "stderr",
          "text": [
            "100%|██████████| 49/49 [00:35<00:00,  1.40it/s]\n"
          ]
        },
        {
          "output_type": "stream",
          "name": "stdout",
          "text": [
            "train_loss: 0.593355\n"
          ]
        },
        {
          "output_type": "stream",
          "name": "stderr",
          "text": [
            "100%|██████████| 13/13 [00:03<00:00,  3.88it/s]\n"
          ]
        },
        {
          "output_type": "stream",
          "name": "stdout",
          "text": [
            "val_loss: 0.471376, val_wll: 0.499041\n",
            "epoch: 2, best loss updated from 0.669380 to 0.471376\n",
            "epoch: 2, best wll_metric updated from 0.688275 to 0.499041\n"
          ]
        },
        {
          "output_type": "stream",
          "name": "stderr",
          "text": [
            "100%|██████████| 49/49 [00:34<00:00,  1.41it/s]\n"
          ]
        },
        {
          "output_type": "stream",
          "name": "stdout",
          "text": [
            "train_loss: 0.484834\n"
          ]
        },
        {
          "output_type": "stream",
          "name": "stderr",
          "text": [
            "100%|██████████| 13/13 [00:03<00:00,  3.97it/s]\n"
          ]
        },
        {
          "output_type": "stream",
          "name": "stdout",
          "text": [
            "val_loss: 0.530762, val_wll: 0.565344\n"
          ]
        },
        {
          "output_type": "stream",
          "name": "stderr",
          "text": [
            "100%|██████████| 49/49 [00:34<00:00,  1.40it/s]\n"
          ]
        },
        {
          "output_type": "stream",
          "name": "stdout",
          "text": [
            "train_loss: 0.458474\n"
          ]
        },
        {
          "output_type": "stream",
          "name": "stderr",
          "text": [
            "100%|██████████| 13/13 [00:03<00:00,  4.01it/s]\n"
          ]
        },
        {
          "output_type": "stream",
          "name": "stdout",
          "text": [
            "val_loss: 0.449247, val_wll: 0.490835\n",
            "epoch: 4, best loss updated from 0.471376 to 0.449247\n",
            "epoch: 4, best wll_metric updated from 0.499041 to 0.490835\n"
          ]
        },
        {
          "output_type": "stream",
          "name": "stderr",
          "text": [
            "100%|██████████| 49/49 [00:34<00:00,  1.42it/s]\n"
          ]
        },
        {
          "output_type": "stream",
          "name": "stdout",
          "text": [
            "train_loss: 0.440553\n"
          ]
        },
        {
          "output_type": "stream",
          "name": "stderr",
          "text": [
            "100%|██████████| 13/13 [00:03<00:00,  3.92it/s]\n"
          ]
        },
        {
          "output_type": "stream",
          "name": "stdout",
          "text": [
            "val_loss: 0.404858, val_wll: 0.434250\n",
            "epoch: 5, best loss updated from 0.449247 to 0.404858\n",
            "epoch: 5, best wll_metric updated from 0.490835 to 0.434250\n"
          ]
        },
        {
          "output_type": "stream",
          "name": "stderr",
          "text": [
            "100%|██████████| 49/49 [00:33<00:00,  1.46it/s]\n"
          ]
        },
        {
          "output_type": "stream",
          "name": "stdout",
          "text": [
            "train_loss: 0.413090\n"
          ]
        },
        {
          "output_type": "stream",
          "name": "stderr",
          "text": [
            "100%|██████████| 13/13 [00:03<00:00,  3.75it/s]\n"
          ]
        },
        {
          "output_type": "stream",
          "name": "stdout",
          "text": [
            "val_loss: 0.449523, val_wll: 0.488792\n"
          ]
        },
        {
          "output_type": "stream",
          "name": "stderr",
          "text": [
            "100%|██████████| 49/49 [00:34<00:00,  1.42it/s]\n"
          ]
        },
        {
          "output_type": "stream",
          "name": "stdout",
          "text": [
            "train_loss: 0.404609\n"
          ]
        },
        {
          "output_type": "stream",
          "name": "stderr",
          "text": [
            "100%|██████████| 13/13 [00:03<00:00,  4.02it/s]\n"
          ]
        },
        {
          "output_type": "stream",
          "name": "stdout",
          "text": [
            "val_loss: 0.397906, val_wll: 0.420609\n",
            "epoch: 7, best loss updated from 0.404858 to 0.397906\n",
            "epoch: 7, best wll_metric updated from 0.434250 to 0.420609\n"
          ]
        },
        {
          "output_type": "stream",
          "name": "stderr",
          "text": [
            "100%|██████████| 49/49 [00:34<00:00,  1.40it/s]\n"
          ]
        },
        {
          "output_type": "stream",
          "name": "stdout",
          "text": [
            "train_loss: 0.390120\n"
          ]
        },
        {
          "output_type": "stream",
          "name": "stderr",
          "text": [
            "100%|██████████| 13/13 [00:03<00:00,  4.02it/s]\n"
          ]
        },
        {
          "output_type": "stream",
          "name": "stdout",
          "text": [
            "val_loss: 0.427747, val_wll: 0.467300\n"
          ]
        },
        {
          "output_type": "stream",
          "name": "stderr",
          "text": [
            "100%|██████████| 49/49 [00:33<00:00,  1.46it/s]\n"
          ]
        },
        {
          "output_type": "stream",
          "name": "stdout",
          "text": [
            "train_loss: 0.368069\n"
          ]
        },
        {
          "output_type": "stream",
          "name": "stderr",
          "text": [
            "100%|██████████| 13/13 [00:03<00:00,  3.83it/s]\n"
          ]
        },
        {
          "output_type": "stream",
          "name": "stdout",
          "text": [
            "val_loss: 0.392930, val_wll: 0.421410\n",
            "epoch: 9, best loss updated from 0.397906 to 0.392930\n"
          ]
        },
        {
          "output_type": "stream",
          "name": "stderr",
          "text": [
            "100%|██████████| 49/49 [00:34<00:00,  1.43it/s]\n"
          ]
        },
        {
          "output_type": "stream",
          "name": "stdout",
          "text": [
            "train_loss: 0.368777\n"
          ]
        },
        {
          "output_type": "stream",
          "name": "stderr",
          "text": [
            "100%|██████████| 13/13 [00:03<00:00,  4.02it/s]\n"
          ]
        },
        {
          "output_type": "stream",
          "name": "stdout",
          "text": [
            "val_loss: 0.377405, val_wll: 0.400664\n",
            "epoch: 10, best loss updated from 0.392930 to 0.377405\n",
            "epoch: 10, best wll_metric updated from 0.420609 to 0.400664\n"
          ]
        },
        {
          "output_type": "stream",
          "name": "stderr",
          "text": [
            "100%|██████████| 49/49 [00:34<00:00,  1.43it/s]\n"
          ]
        },
        {
          "output_type": "stream",
          "name": "stdout",
          "text": [
            "train_loss: 0.350315\n"
          ]
        },
        {
          "output_type": "stream",
          "name": "stderr",
          "text": [
            "100%|██████████| 13/13 [00:03<00:00,  4.02it/s]\n"
          ]
        },
        {
          "output_type": "stream",
          "name": "stdout",
          "text": [
            "val_loss: 0.374015, val_wll: 0.399456\n",
            "epoch: 11, best loss updated from 0.377405 to 0.374015\n",
            "epoch: 11, best wll_metric updated from 0.400664 to 0.399456\n"
          ]
        },
        {
          "output_type": "stream",
          "name": "stderr",
          "text": [
            "100%|██████████| 49/49 [00:34<00:00,  1.42it/s]\n"
          ]
        },
        {
          "output_type": "stream",
          "name": "stdout",
          "text": [
            "train_loss: 0.333442\n"
          ]
        },
        {
          "output_type": "stream",
          "name": "stderr",
          "text": [
            "100%|██████████| 13/13 [00:03<00:00,  4.02it/s]\n"
          ]
        },
        {
          "output_type": "stream",
          "name": "stdout",
          "text": [
            "val_loss: 0.360161, val_wll: 0.387823\n",
            "epoch: 12, best loss updated from 0.374015 to 0.360161\n",
            "epoch: 12, best wll_metric updated from 0.399456 to 0.387823\n"
          ]
        },
        {
          "output_type": "stream",
          "name": "stderr",
          "text": [
            "100%|██████████| 49/49 [00:35<00:00,  1.40it/s]\n"
          ]
        },
        {
          "output_type": "stream",
          "name": "stdout",
          "text": [
            "train_loss: 0.325376\n"
          ]
        },
        {
          "output_type": "stream",
          "name": "stderr",
          "text": [
            "100%|██████████| 13/13 [00:03<00:00,  3.79it/s]\n"
          ]
        },
        {
          "output_type": "stream",
          "name": "stdout",
          "text": [
            "val_loss: 0.380221, val_wll: 0.407738\n"
          ]
        },
        {
          "output_type": "stream",
          "name": "stderr",
          "text": [
            "100%|██████████| 49/49 [00:33<00:00,  1.45it/s]\n"
          ]
        },
        {
          "output_type": "stream",
          "name": "stdout",
          "text": [
            "train_loss: 0.314475\n"
          ]
        },
        {
          "output_type": "stream",
          "name": "stderr",
          "text": [
            "100%|██████████| 13/13 [00:03<00:00,  4.00it/s]\n"
          ]
        },
        {
          "output_type": "stream",
          "name": "stdout",
          "text": [
            "val_loss: 0.384656, val_wll: 0.416069\n"
          ]
        },
        {
          "output_type": "stream",
          "name": "stderr",
          "text": [
            "100%|██████████| 49/49 [00:33<00:00,  1.47it/s]\n"
          ]
        },
        {
          "output_type": "stream",
          "name": "stdout",
          "text": [
            "train_loss: 0.306219\n"
          ]
        },
        {
          "output_type": "stream",
          "name": "stderr",
          "text": [
            "100%|██████████| 13/13 [00:03<00:00,  3.90it/s]\n"
          ]
        },
        {
          "output_type": "stream",
          "name": "stdout",
          "text": [
            "val_loss: 0.370813, val_wll: 0.400070\n",
            "early stopping\n",
            "##############################\n",
            "start fold 2 for sagittal_t2_stir\n",
            "##############################\n"
          ]
        },
        {
          "output_type": "stream",
          "name": "stderr",
          "text": [
            "100%|██████████| 49/49 [00:34<00:00,  1.43it/s]\n"
          ]
        },
        {
          "output_type": "stream",
          "name": "stdout",
          "text": [
            "train_loss: 0.972539\n"
          ]
        },
        {
          "output_type": "stream",
          "name": "stderr",
          "text": [
            "100%|██████████| 13/13 [00:03<00:00,  3.98it/s]\n"
          ]
        },
        {
          "output_type": "stream",
          "name": "stdout",
          "text": [
            "val_loss: 0.669186, val_wll: 0.712249\n",
            "epoch: 1, best loss updated from 1.098612 to 0.669186\n",
            "epoch: 1, best wll_metric updated from 1.098612 to 0.712249\n"
          ]
        },
        {
          "output_type": "stream",
          "name": "stderr",
          "text": [
            "100%|██████████| 49/49 [00:35<00:00,  1.40it/s]\n"
          ]
        },
        {
          "output_type": "stream",
          "name": "stdout",
          "text": [
            "train_loss: 0.602213\n"
          ]
        },
        {
          "output_type": "stream",
          "name": "stderr",
          "text": [
            "100%|██████████| 13/13 [00:03<00:00,  3.74it/s]\n"
          ]
        },
        {
          "output_type": "stream",
          "name": "stdout",
          "text": [
            "val_loss: 0.483896, val_wll: 0.522599\n",
            "epoch: 2, best loss updated from 0.669186 to 0.483896\n",
            "epoch: 2, best wll_metric updated from 0.712249 to 0.522599\n"
          ]
        },
        {
          "output_type": "stream",
          "name": "stderr",
          "text": [
            "100%|██████████| 49/49 [00:34<00:00,  1.44it/s]\n"
          ]
        },
        {
          "output_type": "stream",
          "name": "stdout",
          "text": [
            "train_loss: 0.479840\n"
          ]
        },
        {
          "output_type": "stream",
          "name": "stderr",
          "text": [
            "100%|██████████| 13/13 [00:03<00:00,  4.08it/s]\n"
          ]
        },
        {
          "output_type": "stream",
          "name": "stdout",
          "text": [
            "val_loss: 0.449125, val_wll: 0.484189\n",
            "epoch: 3, best loss updated from 0.483896 to 0.449125\n",
            "epoch: 3, best wll_metric updated from 0.522599 to 0.484189\n"
          ]
        },
        {
          "output_type": "stream",
          "name": "stderr",
          "text": [
            "100%|██████████| 49/49 [00:34<00:00,  1.42it/s]\n"
          ]
        },
        {
          "output_type": "stream",
          "name": "stdout",
          "text": [
            "train_loss: 0.457652\n"
          ]
        },
        {
          "output_type": "stream",
          "name": "stderr",
          "text": [
            "100%|██████████| 13/13 [00:03<00:00,  3.87it/s]\n"
          ]
        },
        {
          "output_type": "stream",
          "name": "stdout",
          "text": [
            "val_loss: 0.485592, val_wll: 0.519077\n"
          ]
        },
        {
          "output_type": "stream",
          "name": "stderr",
          "text": [
            "100%|██████████| 49/49 [00:34<00:00,  1.43it/s]\n"
          ]
        },
        {
          "output_type": "stream",
          "name": "stdout",
          "text": [
            "train_loss: 0.425931\n"
          ]
        },
        {
          "output_type": "stream",
          "name": "stderr",
          "text": [
            "100%|██████████| 13/13 [00:03<00:00,  4.09it/s]\n"
          ]
        },
        {
          "output_type": "stream",
          "name": "stdout",
          "text": [
            "val_loss: 0.400101, val_wll: 0.432203\n",
            "epoch: 5, best loss updated from 0.449125 to 0.400101\n",
            "epoch: 5, best wll_metric updated from 0.484189 to 0.432203\n"
          ]
        },
        {
          "output_type": "stream",
          "name": "stderr",
          "text": [
            "100%|██████████| 49/49 [00:35<00:00,  1.38it/s]\n"
          ]
        },
        {
          "output_type": "stream",
          "name": "stdout",
          "text": [
            "train_loss: 0.409936\n"
          ]
        },
        {
          "output_type": "stream",
          "name": "stderr",
          "text": [
            "100%|██████████| 13/13 [00:03<00:00,  3.83it/s]\n"
          ]
        },
        {
          "output_type": "stream",
          "name": "stdout",
          "text": [
            "val_loss: 0.493702, val_wll: 0.536214\n"
          ]
        },
        {
          "output_type": "stream",
          "name": "stderr",
          "text": [
            "100%|██████████| 49/49 [00:33<00:00,  1.45it/s]\n"
          ]
        },
        {
          "output_type": "stream",
          "name": "stdout",
          "text": [
            "train_loss: 0.397134\n"
          ]
        },
        {
          "output_type": "stream",
          "name": "stderr",
          "text": [
            "100%|██████████| 13/13 [00:03<00:00,  3.94it/s]\n"
          ]
        },
        {
          "output_type": "stream",
          "name": "stdout",
          "text": [
            "val_loss: 0.412075, val_wll: 0.449435\n"
          ]
        },
        {
          "output_type": "stream",
          "name": "stderr",
          "text": [
            "100%|██████████| 49/49 [00:34<00:00,  1.43it/s]\n"
          ]
        },
        {
          "output_type": "stream",
          "name": "stdout",
          "text": [
            "train_loss: 0.385973\n"
          ]
        },
        {
          "output_type": "stream",
          "name": "stderr",
          "text": [
            "100%|██████████| 13/13 [00:03<00:00,  3.98it/s]\n"
          ]
        },
        {
          "output_type": "stream",
          "name": "stdout",
          "text": [
            "val_loss: 0.373632, val_wll: 0.407202\n",
            "epoch: 8, best loss updated from 0.400101 to 0.373632\n",
            "epoch: 8, best wll_metric updated from 0.432203 to 0.407202\n"
          ]
        },
        {
          "output_type": "stream",
          "name": "stderr",
          "text": [
            "100%|██████████| 49/49 [00:34<00:00,  1.44it/s]\n"
          ]
        },
        {
          "output_type": "stream",
          "name": "stdout",
          "text": [
            "train_loss: 0.359136\n"
          ]
        },
        {
          "output_type": "stream",
          "name": "stderr",
          "text": [
            "100%|██████████| 13/13 [00:03<00:00,  3.85it/s]\n"
          ]
        },
        {
          "output_type": "stream",
          "name": "stdout",
          "text": [
            "val_loss: 0.377784, val_wll: 0.407420\n"
          ]
        },
        {
          "output_type": "stream",
          "name": "stderr",
          "text": [
            "100%|██████████| 49/49 [00:34<00:00,  1.44it/s]\n"
          ]
        },
        {
          "output_type": "stream",
          "name": "stdout",
          "text": [
            "train_loss: 0.364003\n"
          ]
        },
        {
          "output_type": "stream",
          "name": "stderr",
          "text": [
            "100%|██████████| 13/13 [00:03<00:00,  3.81it/s]\n"
          ]
        },
        {
          "output_type": "stream",
          "name": "stdout",
          "text": [
            "val_loss: 0.344397, val_wll: 0.368722\n",
            "epoch: 10, best loss updated from 0.373632 to 0.344397\n",
            "epoch: 10, best wll_metric updated from 0.407202 to 0.368722\n"
          ]
        },
        {
          "output_type": "stream",
          "name": "stderr",
          "text": [
            "100%|██████████| 49/49 [00:33<00:00,  1.46it/s]\n"
          ]
        },
        {
          "output_type": "stream",
          "name": "stdout",
          "text": [
            "train_loss: 0.343443\n"
          ]
        },
        {
          "output_type": "stream",
          "name": "stderr",
          "text": [
            "100%|██████████| 13/13 [00:03<00:00,  3.95it/s]\n"
          ]
        },
        {
          "output_type": "stream",
          "name": "stdout",
          "text": [
            "val_loss: 0.358483, val_wll: 0.384834\n"
          ]
        },
        {
          "output_type": "stream",
          "name": "stderr",
          "text": [
            "100%|██████████| 49/49 [00:35<00:00,  1.39it/s]\n"
          ]
        },
        {
          "output_type": "stream",
          "name": "stdout",
          "text": [
            "train_loss: 0.333398\n"
          ]
        },
        {
          "output_type": "stream",
          "name": "stderr",
          "text": [
            "100%|██████████| 13/13 [00:03<00:00,  3.99it/s]\n"
          ]
        },
        {
          "output_type": "stream",
          "name": "stdout",
          "text": [
            "val_loss: 0.399878, val_wll: 0.439144\n"
          ]
        },
        {
          "output_type": "stream",
          "name": "stderr",
          "text": [
            "100%|██████████| 49/49 [00:35<00:00,  1.39it/s]\n"
          ]
        },
        {
          "output_type": "stream",
          "name": "stdout",
          "text": [
            "train_loss: 0.316816\n"
          ]
        },
        {
          "output_type": "stream",
          "name": "stderr",
          "text": [
            "100%|██████████| 13/13 [00:03<00:00,  3.95it/s]\n"
          ]
        },
        {
          "output_type": "stream",
          "name": "stdout",
          "text": [
            "val_loss: 0.354905, val_wll: 0.383066\n",
            "early stopping\n",
            "##############################\n",
            "start fold 3 for sagittal_t2_stir\n",
            "##############################\n"
          ]
        },
        {
          "output_type": "stream",
          "name": "stderr",
          "text": [
            "100%|██████████| 49/49 [00:35<00:00,  1.40it/s]\n"
          ]
        },
        {
          "output_type": "stream",
          "name": "stdout",
          "text": [
            "train_loss: 0.980328\n"
          ]
        },
        {
          "output_type": "stream",
          "name": "stderr",
          "text": [
            "100%|██████████| 13/13 [00:03<00:00,  3.90it/s]\n"
          ]
        },
        {
          "output_type": "stream",
          "name": "stdout",
          "text": [
            "val_loss: 0.638545, val_wll: 0.661486\n",
            "epoch: 1, best loss updated from 1.098612 to 0.638545\n",
            "epoch: 1, best wll_metric updated from 1.098612 to 0.661486\n"
          ]
        },
        {
          "output_type": "stream",
          "name": "stderr",
          "text": [
            "100%|██████████| 49/49 [00:34<00:00,  1.42it/s]\n"
          ]
        },
        {
          "output_type": "stream",
          "name": "stdout",
          "text": [
            "train_loss: 0.609762\n"
          ]
        },
        {
          "output_type": "stream",
          "name": "stderr",
          "text": [
            "100%|██████████| 13/13 [00:03<00:00,  3.95it/s]\n"
          ]
        },
        {
          "output_type": "stream",
          "name": "stdout",
          "text": [
            "val_loss: 0.444959, val_wll: 0.466198\n",
            "epoch: 2, best loss updated from 0.638545 to 0.444959\n",
            "epoch: 2, best wll_metric updated from 0.661486 to 0.466198\n"
          ]
        },
        {
          "output_type": "stream",
          "name": "stderr",
          "text": [
            "100%|██████████| 49/49 [00:35<00:00,  1.39it/s]\n"
          ]
        },
        {
          "output_type": "stream",
          "name": "stdout",
          "text": [
            "train_loss: 0.501431\n"
          ]
        },
        {
          "output_type": "stream",
          "name": "stderr",
          "text": [
            "100%|██████████| 13/13 [00:03<00:00,  3.97it/s]\n"
          ]
        },
        {
          "output_type": "stream",
          "name": "stdout",
          "text": [
            "val_loss: 0.420490, val_wll: 0.438195\n",
            "epoch: 3, best loss updated from 0.444959 to 0.420490\n",
            "epoch: 3, best wll_metric updated from 0.466198 to 0.438195\n"
          ]
        },
        {
          "output_type": "stream",
          "name": "stderr",
          "text": [
            "100%|██████████| 49/49 [00:34<00:00,  1.40it/s]\n"
          ]
        },
        {
          "output_type": "stream",
          "name": "stdout",
          "text": [
            "train_loss: 0.467171\n"
          ]
        },
        {
          "output_type": "stream",
          "name": "stderr",
          "text": [
            "100%|██████████| 13/13 [00:03<00:00,  4.01it/s]\n"
          ]
        },
        {
          "output_type": "stream",
          "name": "stdout",
          "text": [
            "val_loss: 0.431829, val_wll: 0.445116\n"
          ]
        },
        {
          "output_type": "stream",
          "name": "stderr",
          "text": [
            "100%|██████████| 49/49 [00:33<00:00,  1.47it/s]\n"
          ]
        },
        {
          "output_type": "stream",
          "name": "stdout",
          "text": [
            "train_loss: 0.440650\n"
          ]
        },
        {
          "output_type": "stream",
          "name": "stderr",
          "text": [
            "100%|██████████| 13/13 [00:03<00:00,  3.66it/s]\n"
          ]
        },
        {
          "output_type": "stream",
          "name": "stdout",
          "text": [
            "val_loss: 0.405724, val_wll: 0.418191\n",
            "epoch: 5, best loss updated from 0.420490 to 0.405724\n",
            "epoch: 5, best wll_metric updated from 0.438195 to 0.418191\n"
          ]
        },
        {
          "output_type": "stream",
          "name": "stderr",
          "text": [
            "100%|██████████| 49/49 [00:34<00:00,  1.41it/s]\n"
          ]
        },
        {
          "output_type": "stream",
          "name": "stdout",
          "text": [
            "train_loss: 0.417895\n"
          ]
        },
        {
          "output_type": "stream",
          "name": "stderr",
          "text": [
            "100%|██████████| 13/13 [00:03<00:00,  3.89it/s]\n"
          ]
        },
        {
          "output_type": "stream",
          "name": "stdout",
          "text": [
            "val_loss: 0.353715, val_wll: 0.369272\n",
            "epoch: 6, best loss updated from 0.405724 to 0.353715\n",
            "epoch: 6, best wll_metric updated from 0.418191 to 0.369272\n"
          ]
        },
        {
          "output_type": "stream",
          "name": "stderr",
          "text": [
            "100%|██████████| 49/49 [00:34<00:00,  1.44it/s]\n"
          ]
        },
        {
          "output_type": "stream",
          "name": "stdout",
          "text": [
            "train_loss: 0.399635\n"
          ]
        },
        {
          "output_type": "stream",
          "name": "stderr",
          "text": [
            "100%|██████████| 13/13 [00:03<00:00,  4.04it/s]\n"
          ]
        },
        {
          "output_type": "stream",
          "name": "stdout",
          "text": [
            "val_loss: 0.368236, val_wll: 0.383739\n"
          ]
        },
        {
          "output_type": "stream",
          "name": "stderr",
          "text": [
            "100%|██████████| 49/49 [00:34<00:00,  1.42it/s]\n"
          ]
        },
        {
          "output_type": "stream",
          "name": "stdout",
          "text": [
            "train_loss: 0.392985\n"
          ]
        },
        {
          "output_type": "stream",
          "name": "stderr",
          "text": [
            "100%|██████████| 13/13 [00:03<00:00,  3.93it/s]\n"
          ]
        },
        {
          "output_type": "stream",
          "name": "stdout",
          "text": [
            "val_loss: 0.394670, val_wll: 0.417388\n"
          ]
        },
        {
          "output_type": "stream",
          "name": "stderr",
          "text": [
            "100%|██████████| 49/49 [00:35<00:00,  1.37it/s]\n"
          ]
        },
        {
          "output_type": "stream",
          "name": "stdout",
          "text": [
            "train_loss: 0.381812\n"
          ]
        },
        {
          "output_type": "stream",
          "name": "stderr",
          "text": [
            "100%|██████████| 13/13 [00:03<00:00,  3.69it/s]\n"
          ]
        },
        {
          "output_type": "stream",
          "name": "stdout",
          "text": [
            "val_loss: 0.397881, val_wll: 0.417744\n",
            "early stopping\n",
            "##############################\n",
            "start fold 4 for sagittal_t2_stir\n",
            "##############################\n"
          ]
        },
        {
          "output_type": "stream",
          "name": "stderr",
          "text": [
            "100%|██████████| 49/49 [00:33<00:00,  1.45it/s]\n"
          ]
        },
        {
          "output_type": "stream",
          "name": "stdout",
          "text": [
            "train_loss: 0.905686\n"
          ]
        },
        {
          "output_type": "stream",
          "name": "stderr",
          "text": [
            "100%|██████████| 13/13 [00:03<00:00,  4.05it/s]\n"
          ]
        },
        {
          "output_type": "stream",
          "name": "stdout",
          "text": [
            "val_loss: 0.573558, val_wll: 0.617551\n",
            "epoch: 1, best loss updated from 1.098612 to 0.573558\n",
            "epoch: 1, best wll_metric updated from 1.098612 to 0.617551\n"
          ]
        },
        {
          "output_type": "stream",
          "name": "stderr",
          "text": [
            "100%|██████████| 49/49 [00:35<00:00,  1.39it/s]\n"
          ]
        },
        {
          "output_type": "stream",
          "name": "stdout",
          "text": [
            "train_loss: 0.575761\n"
          ]
        },
        {
          "output_type": "stream",
          "name": "stderr",
          "text": [
            "100%|██████████| 13/13 [00:03<00:00,  3.84it/s]\n"
          ]
        },
        {
          "output_type": "stream",
          "name": "stdout",
          "text": [
            "val_loss: 0.431579, val_wll: 0.481335\n",
            "epoch: 2, best loss updated from 0.573558 to 0.431579\n",
            "epoch: 2, best wll_metric updated from 0.617551 to 0.481335\n"
          ]
        },
        {
          "output_type": "stream",
          "name": "stderr",
          "text": [
            "100%|██████████| 49/49 [00:35<00:00,  1.39it/s]\n"
          ]
        },
        {
          "output_type": "stream",
          "name": "stdout",
          "text": [
            "train_loss: 0.475013\n"
          ]
        },
        {
          "output_type": "stream",
          "name": "stderr",
          "text": [
            "100%|██████████| 13/13 [00:03<00:00,  4.05it/s]\n"
          ]
        },
        {
          "output_type": "stream",
          "name": "stdout",
          "text": [
            "val_loss: 0.432669, val_wll: 0.490143\n"
          ]
        },
        {
          "output_type": "stream",
          "name": "stderr",
          "text": [
            "100%|██████████| 49/49 [00:33<00:00,  1.45it/s]\n"
          ]
        },
        {
          "output_type": "stream",
          "name": "stdout",
          "text": [
            "train_loss: 0.433663\n"
          ]
        },
        {
          "output_type": "stream",
          "name": "stderr",
          "text": [
            "100%|██████████| 13/13 [00:03<00:00,  3.79it/s]\n"
          ]
        },
        {
          "output_type": "stream",
          "name": "stdout",
          "text": [
            "val_loss: 0.454794, val_wll: 0.514403\n"
          ]
        },
        {
          "output_type": "stream",
          "name": "stderr",
          "text": [
            "100%|██████████| 49/49 [00:35<00:00,  1.38it/s]\n"
          ]
        },
        {
          "output_type": "stream",
          "name": "stdout",
          "text": [
            "train_loss: 0.434094\n"
          ]
        },
        {
          "output_type": "stream",
          "name": "stderr",
          "text": [
            "100%|██████████| 13/13 [00:03<00:00,  3.85it/s]\n"
          ]
        },
        {
          "output_type": "stream",
          "name": "stdout",
          "text": [
            "val_loss: 0.372260, val_wll: 0.414605\n",
            "epoch: 5, best loss updated from 0.431579 to 0.372260\n",
            "epoch: 5, best wll_metric updated from 0.481335 to 0.414605\n"
          ]
        },
        {
          "output_type": "stream",
          "name": "stderr",
          "text": [
            "100%|██████████| 49/49 [00:34<00:00,  1.42it/s]\n"
          ]
        },
        {
          "output_type": "stream",
          "name": "stdout",
          "text": [
            "train_loss: 0.409230\n"
          ]
        },
        {
          "output_type": "stream",
          "name": "stderr",
          "text": [
            "100%|██████████| 13/13 [00:03<00:00,  4.05it/s]\n"
          ]
        },
        {
          "output_type": "stream",
          "name": "stdout",
          "text": [
            "val_loss: 0.391135, val_wll: 0.438930\n"
          ]
        },
        {
          "output_type": "stream",
          "name": "stderr",
          "text": [
            "100%|██████████| 49/49 [00:34<00:00,  1.42it/s]\n"
          ]
        },
        {
          "output_type": "stream",
          "name": "stdout",
          "text": [
            "train_loss: 0.402468\n"
          ]
        },
        {
          "output_type": "stream",
          "name": "stderr",
          "text": [
            "100%|██████████| 13/13 [00:03<00:00,  4.03it/s]\n"
          ]
        },
        {
          "output_type": "stream",
          "name": "stdout",
          "text": [
            "val_loss: 0.337825, val_wll: 0.374737\n",
            "epoch: 7, best loss updated from 0.372260 to 0.337825\n",
            "epoch: 7, best wll_metric updated from 0.414605 to 0.374737\n"
          ]
        },
        {
          "output_type": "stream",
          "name": "stderr",
          "text": [
            "100%|██████████| 49/49 [00:34<00:00,  1.43it/s]\n"
          ]
        },
        {
          "output_type": "stream",
          "name": "stdout",
          "text": [
            "train_loss: 0.381375\n"
          ]
        },
        {
          "output_type": "stream",
          "name": "stderr",
          "text": [
            "100%|██████████| 13/13 [00:03<00:00,  3.74it/s]\n"
          ]
        },
        {
          "output_type": "stream",
          "name": "stdout",
          "text": [
            "val_loss: 0.353346, val_wll: 0.394957\n"
          ]
        },
        {
          "output_type": "stream",
          "name": "stderr",
          "text": [
            "100%|██████████| 49/49 [00:35<00:00,  1.39it/s]\n"
          ]
        },
        {
          "output_type": "stream",
          "name": "stdout",
          "text": [
            "train_loss: 0.375795\n"
          ]
        },
        {
          "output_type": "stream",
          "name": "stderr",
          "text": [
            "100%|██████████| 13/13 [00:03<00:00,  3.96it/s]\n"
          ]
        },
        {
          "output_type": "stream",
          "name": "stdout",
          "text": [
            "val_loss: 0.343956, val_wll: 0.382512\n"
          ]
        },
        {
          "output_type": "stream",
          "name": "stderr",
          "text": [
            "100%|██████████| 49/49 [00:35<00:00,  1.36it/s]\n"
          ]
        },
        {
          "output_type": "stream",
          "name": "stdout",
          "text": [
            "train_loss: 0.350125\n"
          ]
        },
        {
          "output_type": "stream",
          "name": "stderr",
          "text": [
            "100%|██████████| 13/13 [00:03<00:00,  3.96it/s]\n"
          ]
        },
        {
          "output_type": "stream",
          "name": "stdout",
          "text": [
            "val_loss: 0.422632, val_wll: 0.469203\n",
            "early stopping\n",
            "Training completed for sagittal_t2_stir\n",
            "##############################\n",
            "start fold 0 for axial_t2\n",
            "##############################\n"
          ]
        },
        {
          "output_type": "stream",
          "name": "stderr",
          "text": [
            "100%|██████████| 49/49 [01:02<00:00,  1.27s/it]\n"
          ]
        },
        {
          "output_type": "stream",
          "name": "stdout",
          "text": [
            "train_loss: 1.033013\n"
          ]
        },
        {
          "output_type": "stream",
          "name": "stderr",
          "text": [
            "100%|██████████| 13/13 [00:06<00:00,  2.10it/s]\n"
          ]
        },
        {
          "output_type": "stream",
          "name": "stdout",
          "text": [
            "val_loss: 0.950102, val_wll: 0.971540\n",
            "epoch: 1, best loss updated from 1.098612 to 0.950102\n",
            "epoch: 1, best wll_metric updated from 1.098612 to 0.971540\n"
          ]
        },
        {
          "output_type": "stream",
          "name": "stderr",
          "text": [
            "100%|██████████| 49/49 [01:01<00:00,  1.25s/it]\n"
          ]
        },
        {
          "output_type": "stream",
          "name": "stdout",
          "text": [
            "train_loss: 0.876227\n"
          ]
        },
        {
          "output_type": "stream",
          "name": "stderr",
          "text": [
            "100%|██████████| 13/13 [00:06<00:00,  2.10it/s]\n"
          ]
        },
        {
          "output_type": "stream",
          "name": "stdout",
          "text": [
            "val_loss: 0.899590, val_wll: 0.925692\n",
            "epoch: 2, best loss updated from 0.950102 to 0.899590\n",
            "epoch: 2, best wll_metric updated from 0.971540 to 0.925692\n"
          ]
        },
        {
          "output_type": "stream",
          "name": "stderr",
          "text": [
            "100%|██████████| 49/49 [01:02<00:00,  1.27s/it]\n"
          ]
        },
        {
          "output_type": "stream",
          "name": "stdout",
          "text": [
            "train_loss: 0.815866\n"
          ]
        },
        {
          "output_type": "stream",
          "name": "stderr",
          "text": [
            "100%|██████████| 13/13 [00:06<00:00,  2.10it/s]\n"
          ]
        },
        {
          "output_type": "stream",
          "name": "stdout",
          "text": [
            "val_loss: 0.831206, val_wll: 0.864224\n",
            "epoch: 3, best loss updated from 0.899590 to 0.831206\n",
            "epoch: 3, best wll_metric updated from 0.925692 to 0.864224\n"
          ]
        },
        {
          "output_type": "stream",
          "name": "stderr",
          "text": [
            "100%|██████████| 49/49 [01:01<00:00,  1.25s/it]\n"
          ]
        },
        {
          "output_type": "stream",
          "name": "stdout",
          "text": [
            "train_loss: 0.786629\n"
          ]
        },
        {
          "output_type": "stream",
          "name": "stderr",
          "text": [
            "100%|██████████| 13/13 [00:06<00:00,  2.07it/s]\n"
          ]
        },
        {
          "output_type": "stream",
          "name": "stdout",
          "text": [
            "val_loss: 0.909152, val_wll: 0.947504\n"
          ]
        },
        {
          "output_type": "stream",
          "name": "stderr",
          "text": [
            "100%|██████████| 49/49 [01:00<00:00,  1.23s/it]\n"
          ]
        },
        {
          "output_type": "stream",
          "name": "stdout",
          "text": [
            "train_loss: 0.766769\n"
          ]
        },
        {
          "output_type": "stream",
          "name": "stderr",
          "text": [
            "100%|██████████| 13/13 [00:06<00:00,  2.12it/s]\n"
          ]
        },
        {
          "output_type": "stream",
          "name": "stdout",
          "text": [
            "val_loss: 0.787905, val_wll: 0.812209\n",
            "epoch: 5, best loss updated from 0.831206 to 0.787905\n",
            "epoch: 5, best wll_metric updated from 0.864224 to 0.812209\n"
          ]
        },
        {
          "output_type": "stream",
          "name": "stderr",
          "text": [
            "100%|██████████| 49/49 [01:02<00:00,  1.27s/it]\n"
          ]
        },
        {
          "output_type": "stream",
          "name": "stdout",
          "text": [
            "train_loss: 0.747686\n"
          ]
        },
        {
          "output_type": "stream",
          "name": "stderr",
          "text": [
            "100%|██████████| 13/13 [00:06<00:00,  2.12it/s]\n"
          ]
        },
        {
          "output_type": "stream",
          "name": "stdout",
          "text": [
            "val_loss: 0.802038, val_wll: 0.828000\n"
          ]
        },
        {
          "output_type": "stream",
          "name": "stderr",
          "text": [
            "100%|██████████| 49/49 [01:03<00:00,  1.29s/it]\n"
          ]
        },
        {
          "output_type": "stream",
          "name": "stdout",
          "text": [
            "train_loss: 0.740540\n"
          ]
        },
        {
          "output_type": "stream",
          "name": "stderr",
          "text": [
            "100%|██████████| 13/13 [00:06<00:00,  2.10it/s]\n"
          ]
        },
        {
          "output_type": "stream",
          "name": "stdout",
          "text": [
            "val_loss: 0.778425, val_wll: 0.812211\n",
            "epoch: 7, best loss updated from 0.787905 to 0.778425\n"
          ]
        },
        {
          "output_type": "stream",
          "name": "stderr",
          "text": [
            "100%|██████████| 49/49 [01:03<00:00,  1.30s/it]\n"
          ]
        },
        {
          "output_type": "stream",
          "name": "stdout",
          "text": [
            "train_loss: 0.723409\n"
          ]
        },
        {
          "output_type": "stream",
          "name": "stderr",
          "text": [
            "100%|██████████| 13/13 [00:06<00:00,  2.13it/s]\n"
          ]
        },
        {
          "output_type": "stream",
          "name": "stdout",
          "text": [
            "val_loss: 0.768301, val_wll: 0.796614\n",
            "epoch: 8, best loss updated from 0.778425 to 0.768301\n",
            "epoch: 8, best wll_metric updated from 0.812209 to 0.796614\n"
          ]
        },
        {
          "output_type": "stream",
          "name": "stderr",
          "text": [
            "100%|██████████| 49/49 [01:02<00:00,  1.28s/it]\n"
          ]
        },
        {
          "output_type": "stream",
          "name": "stdout",
          "text": [
            "train_loss: 0.710197\n"
          ]
        },
        {
          "output_type": "stream",
          "name": "stderr",
          "text": [
            "100%|██████████| 13/13 [00:06<00:00,  2.09it/s]\n"
          ]
        },
        {
          "output_type": "stream",
          "name": "stdout",
          "text": [
            "val_loss: 0.777826, val_wll: 0.808040\n"
          ]
        },
        {
          "output_type": "stream",
          "name": "stderr",
          "text": [
            "100%|██████████| 49/49 [01:01<00:00,  1.25s/it]\n"
          ]
        },
        {
          "output_type": "stream",
          "name": "stdout",
          "text": [
            "train_loss: 0.705036\n"
          ]
        },
        {
          "output_type": "stream",
          "name": "stderr",
          "text": [
            "100%|██████████| 13/13 [00:06<00:00,  2.12it/s]\n"
          ]
        },
        {
          "output_type": "stream",
          "name": "stdout",
          "text": [
            "val_loss: 0.781293, val_wll: 0.813956\n"
          ]
        },
        {
          "output_type": "stream",
          "name": "stderr",
          "text": [
            "100%|██████████| 49/49 [01:02<00:00,  1.28s/it]\n"
          ]
        },
        {
          "output_type": "stream",
          "name": "stdout",
          "text": [
            "train_loss: 0.677660\n"
          ]
        },
        {
          "output_type": "stream",
          "name": "stderr",
          "text": [
            "100%|██████████| 13/13 [00:06<00:00,  2.09it/s]\n"
          ]
        },
        {
          "output_type": "stream",
          "name": "stdout",
          "text": [
            "val_loss: 0.779233, val_wll: 0.805695\n",
            "early stopping\n",
            "##############################\n",
            "start fold 1 for axial_t2\n",
            "##############################\n"
          ]
        },
        {
          "output_type": "stream",
          "name": "stderr",
          "text": [
            "100%|██████████| 49/49 [01:02<00:00,  1.28s/it]\n"
          ]
        },
        {
          "output_type": "stream",
          "name": "stdout",
          "text": [
            "train_loss: 1.039986\n"
          ]
        },
        {
          "output_type": "stream",
          "name": "stderr",
          "text": [
            "100%|██████████| 13/13 [00:06<00:00,  2.11it/s]\n"
          ]
        },
        {
          "output_type": "stream",
          "name": "stdout",
          "text": [
            "val_loss: 0.878335, val_wll: 0.916108\n",
            "epoch: 1, best loss updated from 1.098612 to 0.878335\n",
            "epoch: 1, best wll_metric updated from 1.098612 to 0.916108\n"
          ]
        },
        {
          "output_type": "stream",
          "name": "stderr",
          "text": [
            "100%|██████████| 49/49 [01:01<00:00,  1.25s/it]\n"
          ]
        },
        {
          "output_type": "stream",
          "name": "stdout",
          "text": [
            "train_loss: 0.876775\n"
          ]
        },
        {
          "output_type": "stream",
          "name": "stderr",
          "text": [
            "100%|██████████| 13/13 [00:06<00:00,  2.13it/s]\n"
          ]
        },
        {
          "output_type": "stream",
          "name": "stdout",
          "text": [
            "val_loss: 0.806615, val_wll: 0.862382\n",
            "epoch: 2, best loss updated from 0.878335 to 0.806615\n",
            "epoch: 2, best wll_metric updated from 0.916108 to 0.862382\n"
          ]
        },
        {
          "output_type": "stream",
          "name": "stderr",
          "text": [
            "100%|██████████| 49/49 [01:02<00:00,  1.27s/it]\n"
          ]
        },
        {
          "output_type": "stream",
          "name": "stdout",
          "text": [
            "train_loss: 0.824705\n"
          ]
        },
        {
          "output_type": "stream",
          "name": "stderr",
          "text": [
            "100%|██████████| 13/13 [00:06<00:00,  2.12it/s]\n"
          ]
        },
        {
          "output_type": "stream",
          "name": "stdout",
          "text": [
            "val_loss: 0.776573, val_wll: 0.836904\n",
            "epoch: 3, best loss updated from 0.806615 to 0.776573\n",
            "epoch: 3, best wll_metric updated from 0.862382 to 0.836904\n"
          ]
        },
        {
          "output_type": "stream",
          "name": "stderr",
          "text": [
            "100%|██████████| 49/49 [01:04<00:00,  1.32s/it]\n"
          ]
        },
        {
          "output_type": "stream",
          "name": "stdout",
          "text": [
            "train_loss: 0.793383\n"
          ]
        },
        {
          "output_type": "stream",
          "name": "stderr",
          "text": [
            "100%|██████████| 13/13 [00:06<00:00,  2.11it/s]\n"
          ]
        },
        {
          "output_type": "stream",
          "name": "stdout",
          "text": [
            "val_loss: 0.791995, val_wll: 0.831401\n",
            "epoch: 4, best wll_metric updated from 0.836904 to 0.831401\n"
          ]
        },
        {
          "output_type": "stream",
          "name": "stderr",
          "text": [
            "100%|██████████| 49/49 [01:02<00:00,  1.28s/it]\n"
          ]
        },
        {
          "output_type": "stream",
          "name": "stdout",
          "text": [
            "train_loss: 0.772263\n"
          ]
        },
        {
          "output_type": "stream",
          "name": "stderr",
          "text": [
            "100%|██████████| 13/13 [00:06<00:00,  2.10it/s]\n"
          ]
        },
        {
          "output_type": "stream",
          "name": "stdout",
          "text": [
            "val_loss: 0.746058, val_wll: 0.800872\n",
            "epoch: 5, best loss updated from 0.776573 to 0.746058\n",
            "epoch: 5, best wll_metric updated from 0.831401 to 0.800872\n"
          ]
        },
        {
          "output_type": "stream",
          "name": "stderr",
          "text": [
            "100%|██████████| 49/49 [01:02<00:00,  1.28s/it]\n"
          ]
        },
        {
          "output_type": "stream",
          "name": "stdout",
          "text": [
            "train_loss: 0.766325\n"
          ]
        },
        {
          "output_type": "stream",
          "name": "stderr",
          "text": [
            "100%|██████████| 13/13 [00:06<00:00,  2.08it/s]\n"
          ]
        },
        {
          "output_type": "stream",
          "name": "stdout",
          "text": [
            "val_loss: 0.742235, val_wll: 0.801849\n",
            "epoch: 6, best loss updated from 0.746058 to 0.742235\n"
          ]
        },
        {
          "output_type": "stream",
          "name": "stderr",
          "text": [
            "100%|██████████| 49/49 [01:03<00:00,  1.29s/it]\n"
          ]
        },
        {
          "output_type": "stream",
          "name": "stdout",
          "text": [
            "train_loss: 0.740131\n"
          ]
        },
        {
          "output_type": "stream",
          "name": "stderr",
          "text": [
            "100%|██████████| 13/13 [00:06<00:00,  2.12it/s]\n"
          ]
        },
        {
          "output_type": "stream",
          "name": "stdout",
          "text": [
            "val_loss: 0.790963, val_wll: 0.842565\n"
          ]
        },
        {
          "output_type": "stream",
          "name": "stderr",
          "text": [
            "100%|██████████| 49/49 [01:02<00:00,  1.27s/it]\n"
          ]
        },
        {
          "output_type": "stream",
          "name": "stdout",
          "text": [
            "train_loss: 0.726007\n"
          ]
        },
        {
          "output_type": "stream",
          "name": "stderr",
          "text": [
            "100%|██████████| 13/13 [00:06<00:00,  2.12it/s]\n"
          ]
        },
        {
          "output_type": "stream",
          "name": "stdout",
          "text": [
            "val_loss: 0.748442, val_wll: 0.794639\n",
            "epoch: 8, best wll_metric updated from 0.800872 to 0.794639\n"
          ]
        },
        {
          "output_type": "stream",
          "name": "stderr",
          "text": [
            "100%|██████████| 49/49 [01:02<00:00,  1.27s/it]\n"
          ]
        },
        {
          "output_type": "stream",
          "name": "stdout",
          "text": [
            "train_loss: 0.712465\n"
          ]
        },
        {
          "output_type": "stream",
          "name": "stderr",
          "text": [
            "100%|██████████| 13/13 [00:06<00:00,  2.11it/s]\n"
          ]
        },
        {
          "output_type": "stream",
          "name": "stdout",
          "text": [
            "val_loss: 0.726845, val_wll: 0.776075\n",
            "epoch: 9, best loss updated from 0.742235 to 0.726845\n",
            "epoch: 9, best wll_metric updated from 0.794639 to 0.776075\n"
          ]
        },
        {
          "output_type": "stream",
          "name": "stderr",
          "text": [
            "100%|██████████| 49/49 [01:02<00:00,  1.27s/it]\n"
          ]
        },
        {
          "output_type": "stream",
          "name": "stdout",
          "text": [
            "train_loss: 0.707676\n"
          ]
        },
        {
          "output_type": "stream",
          "name": "stderr",
          "text": [
            "100%|██████████| 13/13 [00:06<00:00,  2.12it/s]\n"
          ]
        },
        {
          "output_type": "stream",
          "name": "stdout",
          "text": [
            "val_loss: 0.737076, val_wll: 0.783029\n"
          ]
        },
        {
          "output_type": "stream",
          "name": "stderr",
          "text": [
            "100%|██████████| 49/49 [01:02<00:00,  1.28s/it]\n"
          ]
        },
        {
          "output_type": "stream",
          "name": "stdout",
          "text": [
            "train_loss: 0.689578\n"
          ]
        },
        {
          "output_type": "stream",
          "name": "stderr",
          "text": [
            "100%|██████████| 13/13 [00:06<00:00,  2.10it/s]\n"
          ]
        },
        {
          "output_type": "stream",
          "name": "stdout",
          "text": [
            "val_loss: 0.734502, val_wll: 0.787202\n"
          ]
        },
        {
          "output_type": "stream",
          "name": "stderr",
          "text": [
            "100%|██████████| 49/49 [01:02<00:00,  1.28s/it]\n"
          ]
        },
        {
          "output_type": "stream",
          "name": "stdout",
          "text": [
            "train_loss: 0.666304\n"
          ]
        },
        {
          "output_type": "stream",
          "name": "stderr",
          "text": [
            "100%|██████████| 13/13 [00:06<00:00,  2.11it/s]\n"
          ]
        },
        {
          "output_type": "stream",
          "name": "stdout",
          "text": [
            "val_loss: 0.733870, val_wll: 0.782770\n",
            "early stopping\n",
            "##############################\n",
            "start fold 2 for axial_t2\n",
            "##############################\n"
          ]
        },
        {
          "output_type": "stream",
          "name": "stderr",
          "text": [
            "100%|██████████| 49/49 [01:04<00:00,  1.31s/it]\n"
          ]
        },
        {
          "output_type": "stream",
          "name": "stdout",
          "text": [
            "train_loss: 1.077922\n"
          ]
        },
        {
          "output_type": "stream",
          "name": "stderr",
          "text": [
            "100%|██████████| 13/13 [00:06<00:00,  2.01it/s]\n"
          ]
        },
        {
          "output_type": "stream",
          "name": "stdout",
          "text": [
            "val_loss: 0.903630, val_wll: 0.937043\n",
            "epoch: 1, best loss updated from 1.098612 to 0.903630\n",
            "epoch: 1, best wll_metric updated from 1.098612 to 0.937043\n"
          ]
        },
        {
          "output_type": "stream",
          "name": "stderr",
          "text": [
            "100%|██████████| 49/49 [01:03<00:00,  1.30s/it]\n"
          ]
        },
        {
          "output_type": "stream",
          "name": "stdout",
          "text": [
            "train_loss: 0.882258\n"
          ]
        },
        {
          "output_type": "stream",
          "name": "stderr",
          "text": [
            "100%|██████████| 13/13 [00:06<00:00,  1.99it/s]\n"
          ]
        },
        {
          "output_type": "stream",
          "name": "stdout",
          "text": [
            "val_loss: 0.897549, val_wll: 0.968042\n",
            "epoch: 2, best loss updated from 0.903630 to 0.897549\n"
          ]
        },
        {
          "output_type": "stream",
          "name": "stderr",
          "text": [
            "100%|██████████| 49/49 [01:02<00:00,  1.29s/it]\n"
          ]
        },
        {
          "output_type": "stream",
          "name": "stdout",
          "text": [
            "train_loss: 0.807304\n"
          ]
        },
        {
          "output_type": "stream",
          "name": "stderr",
          "text": [
            "100%|██████████| 13/13 [00:06<00:00,  2.00it/s]\n"
          ]
        },
        {
          "output_type": "stream",
          "name": "stdout",
          "text": [
            "val_loss: 0.933201, val_wll: 1.008561\n"
          ]
        },
        {
          "output_type": "stream",
          "name": "stderr",
          "text": [
            "100%|██████████| 49/49 [01:03<00:00,  1.29s/it]\n"
          ]
        },
        {
          "output_type": "stream",
          "name": "stdout",
          "text": [
            "train_loss: 0.797212\n"
          ]
        },
        {
          "output_type": "stream",
          "name": "stderr",
          "text": [
            "100%|██████████| 13/13 [00:06<00:00,  2.06it/s]\n"
          ]
        },
        {
          "output_type": "stream",
          "name": "stdout",
          "text": [
            "val_loss: 0.800067, val_wll: 0.853953\n",
            "epoch: 4, best loss updated from 0.897549 to 0.800067\n",
            "epoch: 4, best wll_metric updated from 0.937043 to 0.853953\n"
          ]
        },
        {
          "output_type": "stream",
          "name": "stderr",
          "text": [
            "100%|██████████| 49/49 [01:00<00:00,  1.24s/it]\n"
          ]
        },
        {
          "output_type": "stream",
          "name": "stdout",
          "text": [
            "train_loss: 0.770725\n"
          ]
        },
        {
          "output_type": "stream",
          "name": "stderr",
          "text": [
            "100%|██████████| 13/13 [00:06<00:00,  2.09it/s]\n"
          ]
        },
        {
          "output_type": "stream",
          "name": "stdout",
          "text": [
            "val_loss: 0.835009, val_wll: 0.866264\n"
          ]
        },
        {
          "output_type": "stream",
          "name": "stderr",
          "text": [
            "100%|██████████| 49/49 [01:01<00:00,  1.26s/it]\n"
          ]
        },
        {
          "output_type": "stream",
          "name": "stdout",
          "text": [
            "train_loss: 0.750721\n"
          ]
        },
        {
          "output_type": "stream",
          "name": "stderr",
          "text": [
            "100%|██████████| 13/13 [00:06<00:00,  2.09it/s]\n"
          ]
        },
        {
          "output_type": "stream",
          "name": "stdout",
          "text": [
            "val_loss: 0.799302, val_wll: 0.855286\n",
            "epoch: 6, best loss updated from 0.800067 to 0.799302\n"
          ]
        },
        {
          "output_type": "stream",
          "name": "stderr",
          "text": [
            "100%|██████████| 49/49 [01:03<00:00,  1.30s/it]\n"
          ]
        },
        {
          "output_type": "stream",
          "name": "stdout",
          "text": [
            "train_loss: 0.737202\n"
          ]
        },
        {
          "output_type": "stream",
          "name": "stderr",
          "text": [
            "100%|██████████| 13/13 [00:06<00:00,  2.04it/s]\n"
          ]
        },
        {
          "output_type": "stream",
          "name": "stdout",
          "text": [
            "val_loss: 0.764073, val_wll: 0.808835\n",
            "epoch: 7, best loss updated from 0.799302 to 0.764073\n",
            "epoch: 7, best wll_metric updated from 0.853953 to 0.808835\n"
          ]
        },
        {
          "output_type": "stream",
          "name": "stderr",
          "text": [
            "100%|██████████| 49/49 [01:00<00:00,  1.23s/it]\n"
          ]
        },
        {
          "output_type": "stream",
          "name": "stdout",
          "text": [
            "train_loss: 0.724225\n"
          ]
        },
        {
          "output_type": "stream",
          "name": "stderr",
          "text": [
            "100%|██████████| 13/13 [00:06<00:00,  2.12it/s]\n"
          ]
        },
        {
          "output_type": "stream",
          "name": "stdout",
          "text": [
            "val_loss: 0.804757, val_wll: 0.860151\n"
          ]
        },
        {
          "output_type": "stream",
          "name": "stderr",
          "text": [
            "100%|██████████| 49/49 [01:00<00:00,  1.24s/it]\n"
          ]
        },
        {
          "output_type": "stream",
          "name": "stdout",
          "text": [
            "train_loss: 0.712008\n"
          ]
        },
        {
          "output_type": "stream",
          "name": "stderr",
          "text": [
            "100%|██████████| 13/13 [00:06<00:00,  2.07it/s]\n"
          ]
        },
        {
          "output_type": "stream",
          "name": "stdout",
          "text": [
            "val_loss: 0.782957, val_wll: 0.829840\n"
          ]
        },
        {
          "output_type": "stream",
          "name": "stderr",
          "text": [
            "100%|██████████| 49/49 [01:02<00:00,  1.28s/it]\n"
          ]
        },
        {
          "output_type": "stream",
          "name": "stdout",
          "text": [
            "train_loss: 0.693605\n"
          ]
        },
        {
          "output_type": "stream",
          "name": "stderr",
          "text": [
            "100%|██████████| 13/13 [00:06<00:00,  2.06it/s]\n"
          ]
        },
        {
          "output_type": "stream",
          "name": "stdout",
          "text": [
            "val_loss: 0.771781, val_wll: 0.823655\n",
            "early stopping\n",
            "##############################\n",
            "start fold 3 for axial_t2\n",
            "##############################\n"
          ]
        },
        {
          "output_type": "stream",
          "name": "stderr",
          "text": [
            "100%|██████████| 49/49 [01:03<00:00,  1.31s/it]\n"
          ]
        },
        {
          "output_type": "stream",
          "name": "stdout",
          "text": [
            "train_loss: 1.052405\n"
          ]
        },
        {
          "output_type": "stream",
          "name": "stderr",
          "text": [
            "100%|██████████| 13/13 [00:06<00:00,  2.10it/s]\n"
          ]
        },
        {
          "output_type": "stream",
          "name": "stdout",
          "text": [
            "val_loss: 0.897003, val_wll: 0.926066\n",
            "epoch: 1, best loss updated from 1.098612 to 0.897003\n",
            "epoch: 1, best wll_metric updated from 1.098612 to 0.926066\n"
          ]
        },
        {
          "output_type": "stream",
          "name": "stderr",
          "text": [
            "100%|██████████| 49/49 [01:02<00:00,  1.28s/it]\n"
          ]
        },
        {
          "output_type": "stream",
          "name": "stdout",
          "text": [
            "train_loss: 0.871662\n"
          ]
        },
        {
          "output_type": "stream",
          "name": "stderr",
          "text": [
            "100%|██████████| 13/13 [00:06<00:00,  2.13it/s]\n"
          ]
        },
        {
          "output_type": "stream",
          "name": "stdout",
          "text": [
            "val_loss: 0.794967, val_wll: 0.837476\n",
            "epoch: 2, best loss updated from 0.897003 to 0.794967\n",
            "epoch: 2, best wll_metric updated from 0.926066 to 0.837476\n"
          ]
        },
        {
          "output_type": "stream",
          "name": "stderr",
          "text": [
            "100%|██████████| 49/49 [01:01<00:00,  1.26s/it]\n"
          ]
        },
        {
          "output_type": "stream",
          "name": "stdout",
          "text": [
            "train_loss: 0.809538\n"
          ]
        },
        {
          "output_type": "stream",
          "name": "stderr",
          "text": [
            "100%|██████████| 13/13 [00:06<00:00,  2.14it/s]\n"
          ]
        },
        {
          "output_type": "stream",
          "name": "stdout",
          "text": [
            "val_loss: 0.760431, val_wll: 0.795180\n",
            "epoch: 3, best loss updated from 0.794967 to 0.760431\n",
            "epoch: 3, best wll_metric updated from 0.837476 to 0.795180\n"
          ]
        },
        {
          "output_type": "stream",
          "name": "stderr",
          "text": [
            "100%|██████████| 49/49 [01:02<00:00,  1.28s/it]\n"
          ]
        },
        {
          "output_type": "stream",
          "name": "stdout",
          "text": [
            "train_loss: 0.789546\n"
          ]
        },
        {
          "output_type": "stream",
          "name": "stderr",
          "text": [
            "100%|██████████| 13/13 [00:06<00:00,  2.13it/s]\n"
          ]
        },
        {
          "output_type": "stream",
          "name": "stdout",
          "text": [
            "val_loss: 0.751429, val_wll: 0.788053\n",
            "epoch: 4, best loss updated from 0.760431 to 0.751429\n",
            "epoch: 4, best wll_metric updated from 0.795180 to 0.788053\n"
          ]
        },
        {
          "output_type": "stream",
          "name": "stderr",
          "text": [
            "100%|██████████| 49/49 [01:04<00:00,  1.31s/it]\n"
          ]
        },
        {
          "output_type": "stream",
          "name": "stdout",
          "text": [
            "train_loss: 0.765318\n"
          ]
        },
        {
          "output_type": "stream",
          "name": "stderr",
          "text": [
            "100%|██████████| 13/13 [00:06<00:00,  2.13it/s]\n"
          ]
        },
        {
          "output_type": "stream",
          "name": "stdout",
          "text": [
            "val_loss: 0.755648, val_wll: 0.782961\n",
            "epoch: 5, best wll_metric updated from 0.788053 to 0.782961\n"
          ]
        },
        {
          "output_type": "stream",
          "name": "stderr",
          "text": [
            "100%|██████████| 49/49 [01:00<00:00,  1.24s/it]\n"
          ]
        },
        {
          "output_type": "stream",
          "name": "stdout",
          "text": [
            "train_loss: 0.755046\n"
          ]
        },
        {
          "output_type": "stream",
          "name": "stderr",
          "text": [
            "100%|██████████| 13/13 [00:06<00:00,  2.14it/s]\n"
          ]
        },
        {
          "output_type": "stream",
          "name": "stdout",
          "text": [
            "val_loss: 0.735520, val_wll: 0.767503\n",
            "epoch: 6, best loss updated from 0.751429 to 0.735520\n",
            "epoch: 6, best wll_metric updated from 0.782961 to 0.767503\n"
          ]
        },
        {
          "output_type": "stream",
          "name": "stderr",
          "text": [
            "100%|██████████| 49/49 [01:01<00:00,  1.26s/it]\n"
          ]
        },
        {
          "output_type": "stream",
          "name": "stdout",
          "text": [
            "train_loss: 0.739304\n"
          ]
        },
        {
          "output_type": "stream",
          "name": "stderr",
          "text": [
            "100%|██████████| 13/13 [00:06<00:00,  2.14it/s]\n"
          ]
        },
        {
          "output_type": "stream",
          "name": "stdout",
          "text": [
            "val_loss: 0.757456, val_wll: 0.797111\n"
          ]
        },
        {
          "output_type": "stream",
          "name": "stderr",
          "text": [
            "100%|██████████| 49/49 [01:04<00:00,  1.32s/it]\n"
          ]
        },
        {
          "output_type": "stream",
          "name": "stdout",
          "text": [
            "train_loss: 0.730966\n"
          ]
        },
        {
          "output_type": "stream",
          "name": "stderr",
          "text": [
            "100%|██████████| 13/13 [00:06<00:00,  2.14it/s]\n"
          ]
        },
        {
          "output_type": "stream",
          "name": "stdout",
          "text": [
            "val_loss: 0.729430, val_wll: 0.761780\n",
            "epoch: 8, best loss updated from 0.735520 to 0.729430\n",
            "epoch: 8, best wll_metric updated from 0.767503 to 0.761780\n"
          ]
        },
        {
          "output_type": "stream",
          "name": "stderr",
          "text": [
            "100%|██████████| 49/49 [01:04<00:00,  1.32s/it]\n"
          ]
        },
        {
          "output_type": "stream",
          "name": "stdout",
          "text": [
            "train_loss: 0.703613\n"
          ]
        },
        {
          "output_type": "stream",
          "name": "stderr",
          "text": [
            "100%|██████████| 13/13 [00:06<00:00,  2.12it/s]\n"
          ]
        },
        {
          "output_type": "stream",
          "name": "stdout",
          "text": [
            "val_loss: 0.757950, val_wll: 0.792541\n"
          ]
        },
        {
          "output_type": "stream",
          "name": "stderr",
          "text": [
            "100%|██████████| 49/49 [01:03<00:00,  1.30s/it]\n"
          ]
        },
        {
          "output_type": "stream",
          "name": "stdout",
          "text": [
            "train_loss: 0.698421\n"
          ]
        },
        {
          "output_type": "stream",
          "name": "stderr",
          "text": [
            "100%|██████████| 13/13 [00:06<00:00,  2.11it/s]\n"
          ]
        },
        {
          "output_type": "stream",
          "name": "stdout",
          "text": [
            "val_loss: 0.734272, val_wll: 0.768318\n"
          ]
        },
        {
          "output_type": "stream",
          "name": "stderr",
          "text": [
            "100%|██████████| 49/49 [01:02<00:00,  1.28s/it]\n"
          ]
        },
        {
          "output_type": "stream",
          "name": "stdout",
          "text": [
            "train_loss: 0.680447\n"
          ]
        },
        {
          "output_type": "stream",
          "name": "stderr",
          "text": [
            "100%|██████████| 13/13 [00:06<00:00,  2.14it/s]\n"
          ]
        },
        {
          "output_type": "stream",
          "name": "stdout",
          "text": [
            "val_loss: 0.723293, val_wll: 0.754383\n",
            "epoch: 11, best loss updated from 0.729430 to 0.723293\n",
            "epoch: 11, best wll_metric updated from 0.761780 to 0.754383\n"
          ]
        },
        {
          "output_type": "stream",
          "name": "stderr",
          "text": [
            "100%|██████████| 49/49 [01:02<00:00,  1.27s/it]\n"
          ]
        },
        {
          "output_type": "stream",
          "name": "stdout",
          "text": [
            "train_loss: 0.660650\n"
          ]
        },
        {
          "output_type": "stream",
          "name": "stderr",
          "text": [
            "100%|██████████| 13/13 [00:06<00:00,  2.14it/s]\n"
          ]
        },
        {
          "output_type": "stream",
          "name": "stdout",
          "text": [
            "val_loss: 0.774613, val_wll: 0.817814\n"
          ]
        },
        {
          "output_type": "stream",
          "name": "stderr",
          "text": [
            "100%|██████████| 49/49 [01:03<00:00,  1.29s/it]\n"
          ]
        },
        {
          "output_type": "stream",
          "name": "stdout",
          "text": [
            "train_loss: 0.652812\n"
          ]
        },
        {
          "output_type": "stream",
          "name": "stderr",
          "text": [
            "100%|██████████| 13/13 [00:06<00:00,  2.08it/s]\n"
          ]
        },
        {
          "output_type": "stream",
          "name": "stdout",
          "text": [
            "val_loss: 0.743407, val_wll: 0.779769\n"
          ]
        },
        {
          "output_type": "stream",
          "name": "stderr",
          "text": [
            "100%|██████████| 49/49 [01:02<00:00,  1.27s/it]\n"
          ]
        },
        {
          "output_type": "stream",
          "name": "stdout",
          "text": [
            "train_loss: 0.620996\n"
          ]
        },
        {
          "output_type": "stream",
          "name": "stderr",
          "text": [
            "100%|██████████| 13/13 [00:06<00:00,  2.13it/s]\n"
          ]
        },
        {
          "output_type": "stream",
          "name": "stdout",
          "text": [
            "val_loss: 0.770612, val_wll: 0.807267\n",
            "early stopping\n",
            "##############################\n",
            "start fold 4 for axial_t2\n",
            "##############################\n"
          ]
        },
        {
          "output_type": "stream",
          "name": "stderr",
          "text": [
            "100%|██████████| 49/49 [01:01<00:00,  1.25s/it]\n"
          ]
        },
        {
          "output_type": "stream",
          "name": "stdout",
          "text": [
            "train_loss: 1.074454\n"
          ]
        },
        {
          "output_type": "stream",
          "name": "stderr",
          "text": [
            "100%|██████████| 13/13 [00:06<00:00,  2.13it/s]\n"
          ]
        },
        {
          "output_type": "stream",
          "name": "stdout",
          "text": [
            "val_loss: 0.922464, val_wll: 0.957500\n",
            "epoch: 1, best loss updated from 1.098612 to 0.922464\n",
            "epoch: 1, best wll_metric updated from 1.098612 to 0.957500\n"
          ]
        },
        {
          "output_type": "stream",
          "name": "stderr",
          "text": [
            "100%|██████████| 49/49 [01:01<00:00,  1.25s/it]\n"
          ]
        },
        {
          "output_type": "stream",
          "name": "stdout",
          "text": [
            "train_loss: 0.874024\n"
          ]
        },
        {
          "output_type": "stream",
          "name": "stderr",
          "text": [
            "100%|██████████| 13/13 [00:06<00:00,  2.13it/s]\n"
          ]
        },
        {
          "output_type": "stream",
          "name": "stdout",
          "text": [
            "val_loss: 0.906555, val_wll: 1.001383\n",
            "epoch: 2, best loss updated from 0.922464 to 0.906555\n"
          ]
        },
        {
          "output_type": "stream",
          "name": "stderr",
          "text": [
            "100%|██████████| 49/49 [01:04<00:00,  1.32s/it]\n"
          ]
        },
        {
          "output_type": "stream",
          "name": "stdout",
          "text": [
            "train_loss: 0.818521\n"
          ]
        },
        {
          "output_type": "stream",
          "name": "stderr",
          "text": [
            "100%|██████████| 13/13 [00:06<00:00,  2.03it/s]\n"
          ]
        },
        {
          "output_type": "stream",
          "name": "stdout",
          "text": [
            "val_loss: 0.785703, val_wll: 0.846988\n",
            "epoch: 3, best loss updated from 0.906555 to 0.785703\n",
            "epoch: 3, best wll_metric updated from 0.957500 to 0.846988\n"
          ]
        },
        {
          "output_type": "stream",
          "name": "stderr",
          "text": [
            "100%|██████████| 49/49 [01:03<00:00,  1.29s/it]\n"
          ]
        },
        {
          "output_type": "stream",
          "name": "stdout",
          "text": [
            "train_loss: 0.789930\n"
          ]
        },
        {
          "output_type": "stream",
          "name": "stderr",
          "text": [
            "100%|██████████| 13/13 [00:06<00:00,  2.06it/s]\n"
          ]
        },
        {
          "output_type": "stream",
          "name": "stdout",
          "text": [
            "val_loss: 0.745432, val_wll: 0.809728\n",
            "epoch: 4, best loss updated from 0.785703 to 0.745432\n",
            "epoch: 4, best wll_metric updated from 0.846988 to 0.809728\n"
          ]
        },
        {
          "output_type": "stream",
          "name": "stderr",
          "text": [
            "100%|██████████| 49/49 [01:02<00:00,  1.28s/it]\n"
          ]
        },
        {
          "output_type": "stream",
          "name": "stdout",
          "text": [
            "train_loss: 0.766860\n"
          ]
        },
        {
          "output_type": "stream",
          "name": "stderr",
          "text": [
            "100%|██████████| 13/13 [00:06<00:00,  2.04it/s]\n"
          ]
        },
        {
          "output_type": "stream",
          "name": "stdout",
          "text": [
            "val_loss: 0.760372, val_wll: 0.825503\n"
          ]
        },
        {
          "output_type": "stream",
          "name": "stderr",
          "text": [
            "100%|██████████| 49/49 [01:01<00:00,  1.25s/it]\n"
          ]
        },
        {
          "output_type": "stream",
          "name": "stdout",
          "text": [
            "train_loss: 0.751902\n"
          ]
        },
        {
          "output_type": "stream",
          "name": "stderr",
          "text": [
            "100%|██████████| 13/13 [00:06<00:00,  2.07it/s]\n"
          ]
        },
        {
          "output_type": "stream",
          "name": "stdout",
          "text": [
            "val_loss: 0.731964, val_wll: 0.792709\n",
            "epoch: 6, best loss updated from 0.745432 to 0.731964\n",
            "epoch: 6, best wll_metric updated from 0.809728 to 0.792709\n"
          ]
        },
        {
          "output_type": "stream",
          "name": "stderr",
          "text": [
            "100%|██████████| 49/49 [01:02<00:00,  1.28s/it]\n"
          ]
        },
        {
          "output_type": "stream",
          "name": "stdout",
          "text": [
            "train_loss: 0.742793\n"
          ]
        },
        {
          "output_type": "stream",
          "name": "stderr",
          "text": [
            "100%|██████████| 13/13 [00:07<00:00,  1.81it/s]\n"
          ]
        },
        {
          "output_type": "stream",
          "name": "stdout",
          "text": [
            "val_loss: 0.760434, val_wll: 0.830156\n"
          ]
        },
        {
          "output_type": "stream",
          "name": "stderr",
          "text": [
            "100%|██████████| 49/49 [01:02<00:00,  1.28s/it]\n"
          ]
        },
        {
          "output_type": "stream",
          "name": "stdout",
          "text": [
            "train_loss: 0.723154\n"
          ]
        },
        {
          "output_type": "stream",
          "name": "stderr",
          "text": [
            "100%|██████████| 13/13 [00:06<00:00,  2.04it/s]\n"
          ]
        },
        {
          "output_type": "stream",
          "name": "stdout",
          "text": [
            "val_loss: 0.826712, val_wll: 0.914414\n"
          ]
        },
        {
          "output_type": "stream",
          "name": "stderr",
          "text": [
            "100%|██████████| 49/49 [01:02<00:00,  1.28s/it]\n"
          ]
        },
        {
          "output_type": "stream",
          "name": "stdout",
          "text": [
            "train_loss: 0.704362\n"
          ]
        },
        {
          "output_type": "stream",
          "name": "stderr",
          "text": [
            "100%|██████████| 13/13 [00:06<00:00,  2.04it/s]"
          ]
        },
        {
          "output_type": "stream",
          "name": "stdout",
          "text": [
            "val_loss: 0.743874, val_wll: 0.810087\n",
            "early stopping\n",
            "Training completed for axial_t2\n"
          ]
        },
        {
          "output_type": "stream",
          "name": "stderr",
          "text": [
            "\n"
          ]
        }
      ],
      "source": [
        "# Setup automatic mixed precision (AMP) for faster training and reduced memory usage\n",
        "# autocast = torch.cuda.amp.autocast(enabled=USE_AMP, dtype=torch.bfloat16) # for newer Ampere GPUs\n",
        "autocast = torch.cuda.amp.autocast(enabled=USE_AMP, dtype=torch.half) # for T4 or newer GPUs\n",
        "\n",
        "# Initialize gradient scaler for AMP\n",
        "scaler = torch.cuda.amp.GradScaler(enabled=USE_AMP, init_scale=4096)\n",
        "\n",
        "def train_model(model_type):\n",
        "    model_config = MODEL_CONFIGS[model_type]\n",
        "\n",
        "    skf = KFold(n_splits=N_FOLDS, shuffle=True, random_state=SEED)\n",
        "    for fold, (trn_idx, val_idx) in enumerate(skf.split(range(len(df)))):\n",
        "        print('#'*30)\n",
        "        print(f'start fold {fold} for {model_type}')\n",
        "        print('#'*30)\n",
        "\n",
        "        df_train = df.iloc[trn_idx]\n",
        "        df_valid = df.iloc[val_idx]\n",
        "\n",
        "        train_ds = RSNA24Dataset(df_train, phase='train', transform=transforms_train, model_type=model_type)\n",
        "        train_dl = DataLoader(train_ds, batch_size=BATCH_SIZE, shuffle=True, pin_memory=True, drop_last=True, num_workers=N_WORKERS)\n",
        "\n",
        "        valid_ds = RSNA24Dataset(df_valid, phase='valid', transform=transforms_val, model_type=model_type)\n",
        "        valid_dl = DataLoader(valid_ds, batch_size=BATCH_SIZE, shuffle=False, pin_memory=True, drop_last=False, num_workers=N_WORKERS)\n",
        "\n",
        "        model = RSNA24Model(MODEL_NAME, model_config['in_chans'], model_config['n_labels'] * 3, pretrained=True)\n",
        "        model.to(device)\n",
        "\n",
        "        # Setup optimizer\n",
        "        optimizer = AdamW(model.parameters(), lr=LR, weight_decay=WD)\n",
        "\n",
        "        class CosineScheduleWithMinLR:\n",
        "            def __init__(self, scheduler, min_lr):\n",
        "                self.scheduler = scheduler\n",
        "                self.min_lr = min_lr\n",
        "\n",
        "            def step(self):\n",
        "                # Perform the cosine scheduler step\n",
        "                self.scheduler.step()\n",
        "                # Enforce the minimum learning rate\n",
        "                for param_group in self.scheduler.optimizer.param_groups:\n",
        "                    param_group['lr'] = max(param_group['lr'], self.min_lr)\n",
        "\n",
        "            def get_last_lr(self):\n",
        "                # Return the last learning rate applied\n",
        "                return [max(lr, self.min_lr) for lr in self.scheduler.get_last_lr()]\n",
        "\n",
        "        # Setup learning rate scheduler with warmup\n",
        "        warmup_steps = EPOCHS / 10 * len(train_dl)\n",
        "        num_total_steps = EPOCHS * len(train_dl)\n",
        "        num_cycles = 0.475\n",
        "\n",
        "        # Get the default cosine schedule\n",
        "        cosine_scheduler = get_cosine_schedule_with_warmup(\n",
        "            optimizer,\n",
        "            num_warmup_steps=warmup_steps,\n",
        "            num_training_steps=num_total_steps,\n",
        "            num_cycles=num_cycles\n",
        "        )\n",
        "\n",
        "        # Wrap the cosine scheduler with the custom scheduler\n",
        "        scheduler = CosineScheduleWithMinLR(cosine_scheduler, MIN_LR)\n",
        "\n",
        "        weights = torch.tensor([1.0, 2.0, 4.0]).to(device)\n",
        "        criterion = nn.CrossEntropyLoss(weight=weights)\n",
        "        criterion2 = nn.CrossEntropyLoss(weight=weights.cpu())\n",
        "\n",
        "        best_loss = math.log(3)\n",
        "        best_wll = math.log(3)\n",
        "        es_step = 0\n",
        "\n",
        "        for epoch in range(1, EPOCHS + 1):\n",
        "            model.train()\n",
        "            total_loss = 0\n",
        "            for idx, (x, t) in enumerate(tqdm(train_dl)):\n",
        "                x = x.to(device)\n",
        "                t = t.to(device)\n",
        "\n",
        "                optimizer.zero_grad()\n",
        "\n",
        "                with autocast:\n",
        "                    loss = 0\n",
        "                    y = model(x)\n",
        "                    for col in range(model_config['n_labels']):\n",
        "                        pred = y[:, col*3:col*3+3]\n",
        "                        gt = t[:, col]\n",
        "                        loss = loss + criterion(pred, gt) / model_config['n_labels']\n",
        "\n",
        "                    total_loss += loss.item()\n",
        "\n",
        "                if not math.isfinite(loss):\n",
        "                    print(f\"Loss is {loss}, stopping training\")\n",
        "                    sys.exit(1)\n",
        "\n",
        "                scaler.scale(loss).backward()\n",
        "                scaler.step(optimizer)\n",
        "                scaler.update()\n",
        "\n",
        "                if scheduler is not None:\n",
        "                    scheduler.step()\n",
        "\n",
        "            train_loss = total_loss / len(train_dl)\n",
        "            print(f'train_loss: {train_loss:.6f}')\n",
        "\n",
        "            model.eval()\n",
        "            total_loss = 0\n",
        "            y_preds = []\n",
        "            labels = []\n",
        "\n",
        "            with torch.no_grad():\n",
        "                for idx, (x, t) in enumerate(tqdm(valid_dl)):\n",
        "                    x = x.to(device)\n",
        "                    t = t.to(device)\n",
        "\n",
        "                    with autocast:\n",
        "                        loss = 0\n",
        "                        y = model(x)\n",
        "                        for col in range(model_config['n_labels']):\n",
        "                            pred = y[:, col*3:col*3+3]\n",
        "                            gt = t[:, col]\n",
        "                            loss = loss + criterion(pred, gt) / model_config['n_labels']\n",
        "                            y_preds.append(pred.float().cpu())\n",
        "                            labels.append(gt.cpu())\n",
        "\n",
        "                        total_loss += loss.item()\n",
        "\n",
        "            val_loss = total_loss / len(valid_dl)\n",
        "            y_preds = torch.cat(y_preds, dim=0)\n",
        "            labels = torch.cat(labels)\n",
        "            val_wll = criterion2(y_preds, labels)\n",
        "\n",
        "            print(f'val_loss: {val_loss:.6f}, val_wll: {val_wll:.6f}')\n",
        "\n",
        "            if val_loss < best_loss or val_wll < best_wll:\n",
        "                es_step = 0\n",
        "                if val_loss < best_loss:\n",
        "                    print(f'epoch: {epoch}, best loss updated from {best_loss:.6f} to {val_loss:.6f}')\n",
        "                    best_loss = val_loss\n",
        "\n",
        "                output_dir = f'{OUTPUT_PATH}/rsna-2024-lsdc-trained-models/{model_type}'\n",
        "                os.makedirs(output_dir, exist_ok=True)\n",
        "\n",
        "                if val_wll < best_wll:\n",
        "                    print(f'epoch: {epoch}, best wll_metric updated from {best_wll:.6f} to {val_wll:.6f}')\n",
        "                    best_wll = val_wll\n",
        "                    fname = os.path.join(output_dir, f'best_wll_model_fold-{fold}.pt')\n",
        "                    torch.save(model.state_dict(), fname)\n",
        "            else:\n",
        "                es_step += 1\n",
        "                if es_step >= EARLY_STOPPING_EPOCH:\n",
        "                    print('early stopping')\n",
        "                    break\n",
        "\n",
        "    print(f\"Training completed for {model_type}\")\n",
        "\n",
        "# Train models for each image type\n",
        "for model_type in MODEL_CONFIGS.keys():\n",
        "    train_model(model_type)"
      ]
    },
    {
      "cell_type": "code",
      "execution_count": 19,
      "metadata": {
        "id": "MFhO2pW4h6ET",
        "colab": {
          "base_uri": "https://localhost:8080/"
        },
        "outputId": "b692c8ea-2678-4b5c-9b6b-ae1180afe349"
      },
      "outputs": [
        {
          "output_type": "stream",
          "name": "stderr",
          "text": [
            "100%|██████████| 395/395 [00:07<00:00, 54.12it/s]\n",
            "100%|██████████| 395/395 [00:07<00:00, 50.97it/s]\n",
            "100%|██████████| 394/394 [00:07<00:00, 54.84it/s]\n",
            "100%|██████████| 394/394 [00:07<00:00, 52.28it/s]\n",
            "100%|██████████| 394/394 [00:07<00:00, 54.09it/s]\n"
          ]
        },
        {
          "output_type": "stream",
          "name": "stdout",
          "text": [
            "CV score for sagittal_t1: 0.6349097490310669\n",
            "Log loss CV score for sagittal_t1: 0.6349098523953686\n"
          ]
        },
        {
          "output_type": "stream",
          "name": "stderr",
          "text": [
            "100%|██████████| 395/395 [00:07<00:00, 53.57it/s]\n",
            "100%|██████████| 395/395 [00:07<00:00, 54.52it/s]\n",
            "100%|██████████| 394/394 [00:07<00:00, 54.46it/s]\n",
            "100%|██████████| 394/394 [00:07<00:00, 54.37it/s]\n",
            "100%|██████████| 394/394 [00:07<00:00, 53.75it/s]\n"
          ]
        },
        {
          "output_type": "stream",
          "name": "stdout",
          "text": [
            "CV score for sagittal_t2_stir: 0.3826533854007721\n",
            "Log loss CV score for sagittal_t2_stir: 0.38265343585701583\n"
          ]
        },
        {
          "output_type": "stream",
          "name": "stderr",
          "text": [
            "100%|██████████| 395/395 [00:09<00:00, 42.37it/s]\n",
            "100%|██████████| 395/395 [00:08<00:00, 44.10it/s]\n",
            "100%|██████████| 394/394 [00:08<00:00, 44.61it/s]\n",
            "100%|██████████| 394/394 [00:09<00:00, 43.72it/s]\n",
            "100%|██████████| 394/394 [00:09<00:00, 43.25it/s]"
          ]
        },
        {
          "output_type": "stream",
          "name": "stdout",
          "text": [
            "CV score for axial_t2: 0.7858816385269165\n",
            "Log loss CV score for axial_t2: 0.7858815794562946\n",
            "Final CV Scores: {'sagittal_t1': 0.6349097490310669, 'sagittal_t1_log_loss': 0.6349098523953686, 'sagittal_t2_stir': 0.3826533854007721, 'sagittal_t2_stir_log_loss': 0.38265343585701583, 'axial_t2': 0.7858816385269165, 'axial_t2_log_loss': 0.7858815794562946}\n"
          ]
        },
        {
          "output_type": "stream",
          "name": "stderr",
          "text": [
            "\n"
          ]
        }
      ],
      "source": [
        "def calculate_cv_score():\n",
        "    cv_scores = {}\n",
        "    for model_type in MODEL_CONFIGS.keys():\n",
        "        y_preds = []\n",
        "        labels = []\n",
        "        weights = torch.tensor([1.0, 2.0, 4.0], device=device, dtype=torch.float32)\n",
        "        criterion2 = nn.CrossEntropyLoss(weight=weights)\n",
        "\n",
        "        skf = KFold(n_splits=N_FOLDS, shuffle=True, random_state=SEED)\n",
        "        for fold, (_, val_idx) in enumerate(skf.split(range(len(df)))):\n",
        "            df_valid = df.iloc[val_idx]\n",
        "            valid_ds = RSNA24Dataset(df_valid, phase='valid', transform=transforms_val, model_type=model_type)\n",
        "            valid_dl = DataLoader(valid_ds, batch_size=1, shuffle=False, pin_memory=True, drop_last=False, num_workers=N_WORKERS)\n",
        "\n",
        "            model = RSNA24Model(MODEL_NAME, MODEL_CONFIGS[model_type]['in_chans'], MODEL_CONFIGS[model_type]['n_labels'] * 3, pretrained=False)\n",
        "            fname = f'{OUTPUT_PATH}/rsna-2024-lsdc-trained-models/{model_type}/best_wll_model_fold-{fold}.pt'\n",
        "            model.load_state_dict(torch.load(fname, map_location=device, weights_only=True))\n",
        "            model.to(device)\n",
        "\n",
        "            model.eval()\n",
        "            with torch.no_grad():\n",
        "                for idx, (x, t) in enumerate(tqdm(valid_dl)):\n",
        "                    x = x.to(device)\n",
        "                    t = t.to(device)\n",
        "\n",
        "                    with autocast:\n",
        "                        y = model(x)\n",
        "                        # Explicitly convert to float32\n",
        "                        y = y.float()\n",
        "                        for col in range(MODEL_CONFIGS[model_type]['n_labels']):\n",
        "                            pred = y[:,col*3:col*3+3]\n",
        "                            gt = t[:,col]\n",
        "                            y_preds.append(pred.cpu())\n",
        "                            labels.append(gt.cpu())\n",
        "\n",
        "        y_preds = torch.cat(y_preds).float()\n",
        "        labels = torch.cat(labels).long()\n",
        "\n",
        "        # Move tensors to CPU for sklearn log_loss calculation\n",
        "        y_preds_cpu = y_preds.cpu()\n",
        "        labels_cpu = labels.cpu()\n",
        "\n",
        "        cv = criterion2(y_preds.to(device), labels.to(device))\n",
        "        print(f'CV score for {model_type}:', cv.item())\n",
        "        cv_scores[model_type] = cv.item()\n",
        "\n",
        "        # Calculate log loss\n",
        "        from sklearn.metrics import log_loss\n",
        "        y_pred_np = y_preds_cpu.softmax(1).numpy()\n",
        "        labels_np = labels_cpu.numpy()\n",
        "        y_pred2 = y_pred_np  # Remove the concatenation with y_pred_nan\n",
        "        weights = []\n",
        "        for l in labels_np:\n",
        "            if l == 0: weights.append(1)\n",
        "            elif l == 1: weights.append(2)\n",
        "            elif l == 2: weights.append(4)\n",
        "            else: weights.append(0)\n",
        "        cv2 = log_loss(labels_np, y_pred2, normalize=True, sample_weight=weights, labels=[0, 1, 2])\n",
        "        print(f'Log loss CV score for {model_type}:', cv2)\n",
        "        cv_scores[f'{model_type}_log_loss'] = cv2\n",
        "\n",
        "    return cv_scores\n",
        "\n",
        "cv_scores = calculate_cv_score()\n",
        "print(\"Final CV Scores:\", cv_scores)"
      ]
    },
    {
      "cell_type": "code",
      "source": [
        "def calculate_combined_cv_score():\n",
        "    y_preds_all = []\n",
        "    labels_all = []\n",
        "    weights = torch.tensor([1.0, 2.0, 4.0]).to(device)\n",
        "    criterion2 = nn.CrossEntropyLoss(weight=weights)\n",
        "\n",
        "    skf = KFold(n_splits=N_FOLDS, shuffle=True, random_state=SEED)\n",
        "\n",
        "    for fold, (trn_idx, val_idx) in enumerate(skf.split(range(len(df)))):\n",
        "        print('#'*30)\n",
        "        print(f'start fold {fold}')\n",
        "        print('#'*30)\n",
        "        df_valid = df.iloc[val_idx]\n",
        "\n",
        "        for model_type, config in MODEL_CONFIGS.items():\n",
        "            valid_ds = RSNA24Dataset(df_valid, phase='valid', transform=transforms_val, model_type=model_type)\n",
        "            valid_dl = DataLoader(valid_ds, batch_size=1, shuffle=False, pin_memory=True, drop_last=False, num_workers=N_WORKERS)\n",
        "\n",
        "            model = RSNA24Model(MODEL_NAME, config['in_chans'], config['n_labels'] * 3, pretrained=False)\n",
        "            fname = f'{OUTPUT_PATH}/rsna-2024-lsdc-trained-models/{model_type}/best_wll_model_fold-{fold}.pt'\n",
        "            model.load_state_dict(torch.load(fname, map_location=device, weights_only=True))\n",
        "            model.to(device)\n",
        "\n",
        "            model.eval()\n",
        "            with torch.no_grad():\n",
        "                for idx, (x, t) in enumerate(tqdm(valid_dl, desc=f'Evaluating {model_type}')):\n",
        "                    x = x.to(device)\n",
        "                    t = t.to(device)\n",
        "\n",
        "                    with autocast:\n",
        "                        y = model(x)\n",
        "                        y = y.float()  # Ensure float32\n",
        "                        y_preds_all.append(y.view(-1, 3).cpu())\n",
        "                        labels_all.append(t.view(-1).cpu())\n",
        "\n",
        "    # Combine all predictions and labels\n",
        "    y_preds_all = torch.cat(y_preds_all)\n",
        "    labels_all = torch.cat(labels_all)\n",
        "\n",
        "    # Calculate combined CV score\n",
        "    cv = criterion2(y_preds_all.to(device), labels_all.to(device))\n",
        "    print('Combined CV score:', cv.item())\n",
        "\n",
        "    # Calculate log loss\n",
        "    from sklearn.metrics import log_loss\n",
        "    y_pred_np = y_preds_all.softmax(1).numpy()\n",
        "    labels_np = labels_all.numpy()\n",
        "\n",
        "    weights = []\n",
        "    for l in labels_np:\n",
        "        if l == 0: weights.append(1)\n",
        "        elif l == 1: weights.append(2)\n",
        "        elif l == 2: weights.append(4)\n",
        "        else: weights.append(0)\n",
        "\n",
        "    cv2 = log_loss(labels_np, y_pred_np, normalize=True, sample_weight=weights, labels=[0, 1, 2])\n",
        "    print('Combined Log Loss CV score:', cv2)\n",
        "\n",
        "    return cv.item(), cv2\n",
        "\n",
        "# Calculate combined CV score\n",
        "combined_cv, combined_log_loss = calculate_combined_cv_score()\n",
        "print(f\"Final Combined CV Score: {combined_cv}\")\n",
        "print(f\"Final Combined Log Loss: {combined_log_loss}\")"
      ],
      "metadata": {
        "colab": {
          "base_uri": "https://localhost:8080/"
        },
        "id": "x8jpdTJmgLz5",
        "outputId": "e30e828e-5d55-4dbf-e076-708bdce7b7ac"
      },
      "execution_count": 23,
      "outputs": [
        {
          "output_type": "stream",
          "name": "stdout",
          "text": [
            "##############################\n",
            "start fold 0\n",
            "##############################\n"
          ]
        },
        {
          "output_type": "stream",
          "name": "stderr",
          "text": [
            "Evaluating sagittal_t1: 100%|██████████| 395/395 [00:07<00:00, 53.04it/s]\n",
            "Evaluating sagittal_t2_stir: 100%|██████████| 395/395 [00:07<00:00, 56.13it/s]\n",
            "Evaluating axial_t2: 100%|██████████| 395/395 [00:08<00:00, 44.56it/s]\n"
          ]
        },
        {
          "output_type": "stream",
          "name": "stdout",
          "text": [
            "##############################\n",
            "start fold 1\n",
            "##############################\n"
          ]
        },
        {
          "output_type": "stream",
          "name": "stderr",
          "text": [
            "Evaluating sagittal_t1: 100%|██████████| 395/395 [00:07<00:00, 55.00it/s]\n",
            "Evaluating sagittal_t2_stir: 100%|██████████| 395/395 [00:07<00:00, 54.45it/s]\n",
            "Evaluating axial_t2: 100%|██████████| 395/395 [00:08<00:00, 45.09it/s]\n"
          ]
        },
        {
          "output_type": "stream",
          "name": "stdout",
          "text": [
            "##############################\n",
            "start fold 2\n",
            "##############################\n"
          ]
        },
        {
          "output_type": "stream",
          "name": "stderr",
          "text": [
            "Evaluating sagittal_t1: 100%|██████████| 394/394 [00:07<00:00, 54.36it/s]\n",
            "Evaluating sagittal_t2_stir: 100%|██████████| 394/394 [00:07<00:00, 53.32it/s]\n",
            "Evaluating axial_t2: 100%|██████████| 394/394 [00:08<00:00, 46.92it/s]\n"
          ]
        },
        {
          "output_type": "stream",
          "name": "stdout",
          "text": [
            "##############################\n",
            "start fold 3\n",
            "##############################\n"
          ]
        },
        {
          "output_type": "stream",
          "name": "stderr",
          "text": [
            "Evaluating sagittal_t1: 100%|██████████| 394/394 [00:07<00:00, 53.50it/s]\n",
            "Evaluating sagittal_t2_stir: 100%|██████████| 394/394 [00:07<00:00, 54.25it/s]\n",
            "Evaluating axial_t2: 100%|██████████| 394/394 [00:08<00:00, 45.70it/s]\n"
          ]
        },
        {
          "output_type": "stream",
          "name": "stdout",
          "text": [
            "##############################\n",
            "start fold 4\n",
            "##############################\n"
          ]
        },
        {
          "output_type": "stream",
          "name": "stderr",
          "text": [
            "Evaluating sagittal_t1: 100%|██████████| 394/394 [00:07<00:00, 54.20it/s]\n",
            "Evaluating sagittal_t2_stir: 100%|██████████| 394/394 [00:07<00:00, 55.06it/s]\n",
            "Evaluating axial_t2: 100%|██████████| 394/394 [00:08<00:00, 44.14it/s]\n"
          ]
        },
        {
          "output_type": "stream",
          "name": "stdout",
          "text": [
            "Combined CV score: 0.6539226770401001\n",
            "Combined Log Loss CV score: 0.6539227384811536\n",
            "Final Combined CV Score: 0.6539226770401001\n",
            "Final Combined Log Loss: 0.6539227384811536\n"
          ]
        }
      ]
    },
    {
      "cell_type": "code",
      "source": [],
      "metadata": {
        "id": "iDVQ-i901Fmw"
      },
      "execution_count": null,
      "outputs": []
    }
  ],
  "metadata": {
    "accelerator": "GPU",
    "colab": {
      "gpuType": "L4",
      "provenance": [],
      "machine_shape": "hm"
    },
    "kaggle": {
      "accelerator": "nvidiaTeslaT4",
      "dataSources": [
        {
          "databundleVersionId": 8561470,
          "sourceId": 71549,
          "sourceType": "competition"
        },
        {
          "sourceId": 192874884,
          "sourceType": "kernelVersion"
        }
      ],
      "dockerImageVersionId": 30747,
      "isGpuEnabled": true,
      "isInternetEnabled": true,
      "language": "python",
      "sourceType": "notebook"
    },
    "kernelspec": {
      "display_name": "Python 3",
      "name": "python3"
    },
    "language_info": {
      "codemirror_mode": {
        "name": "ipython",
        "version": 3
      },
      "file_extension": ".py",
      "mimetype": "text/x-python",
      "name": "python",
      "nbconvert_exporter": "python",
      "pygments_lexer": "ipython3",
      "version": "3.10.13"
    }
  },
  "nbformat": 4,
  "nbformat_minor": 0
}